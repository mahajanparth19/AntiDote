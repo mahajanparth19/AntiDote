{
  "nbformat": 4,
  "nbformat_minor": 0,
  "metadata": {
    "accelerator": "GPU",
    "colab": {
      "name": "Modeling.ipynb",
      "provenance": [],
      "collapsed_sections": [],
      "include_colab_link": true
    },
    "kernelspec": {
      "display_name": "Python 3",
      "name": "python3"
    },
    "language_info": {
      "name": "python"
    }
  },
  "cells": [
    {
      "cell_type": "markdown",
      "metadata": {
        "id": "view-in-github",
        "colab_type": "text"
      },
      "source": [
        "<a href=\"https://colab.research.google.com/github/mahajanparth19/AntiDote/blob/master/Modeling.ipynb\" target=\"_parent\"><img src=\"https://colab.research.google.com/assets/colab-badge.svg\" alt=\"Open In Colab\"/></a>"
      ]
    },
    {
      "cell_type": "markdown",
      "metadata": {
        "id": "A-aHsu7GFi8s"
      },
      "source": [
        "**QmSum**"
      ]
    },
    {
      "cell_type": "code",
      "metadata": {
        "colab": {
          "base_uri": "https://localhost:8080/"
        },
        "id": "f8lQeil65Sad",
        "outputId": "1bd391c7-9bd3-4160-c164-8b6d9a8b7311"
      },
      "source": [
        "!git clone https://github.com/Yale-LILY/QMSum.git"
      ],
      "execution_count": null,
      "outputs": [
        {
          "output_type": "stream",
          "text": [
            "Cloning into 'QMSum'...\n",
            "remote: Enumerating objects: 316, done.\u001b[K\n",
            "remote: Counting objects: 100% (316/316), done.\u001b[K\n",
            "remote: Compressing objects: 100% (140/140), done.\u001b[K\n",
            "remote: Total 316 (delta 181), reused 292 (delta 174), pack-reused 0\u001b[K\n",
            "Receiving objects: 100% (316/316), 12.36 MiB | 21.98 MiB/s, done.\n",
            "Resolving deltas: 100% (181/181), done.\n"
          ],
          "name": "stdout"
        }
      ]
    },
    {
      "cell_type": "code",
      "metadata": {
        "id": "JNWy_juNFsdK"
      },
      "source": [
        "import os\n",
        "import json\n",
        "import random"
      ],
      "execution_count": null,
      "outputs": []
    },
    {
      "cell_type": "code",
      "metadata": {
        "id": "w9u6_vKrHc2b"
      },
      "source": [
        "os.mkdir(\"/content/Parsed\")\n",
        "path=\"/content/QMSum/data/Product/train/\"\n",
        "k = 5\n",
        "samples = random.sample(os.listdir(path),k)\n",
        "\n",
        "for sample in samples:\n",
        "  text = open(path+sample).read()\n",
        "  parsed = json.loads(text)\n",
        "  content = \"\"\n",
        "  f = open(\"/content/Parsed/\"+sample.split(\".\")[0] + \".txt\",\"w\")\n",
        "\n",
        "  string = \"\"\n",
        "  for text in parsed['topic_list']:\n",
        "    span = text['relevant_text_span'][0]\n",
        "    string += str(span[0]) + \",\" + str(span[1]) +\",\"\n",
        "  f.write(string + \"\\n\")\n",
        "\n",
        "  for text in parsed['meeting_transcripts']:\n",
        "    content = text['content'] + \" \\n \"\n",
        "    f.write(content)\n",
        "  \n",
        "\n",
        "  f.close()\n"
      ],
      "execution_count": null,
      "outputs": []
    },
    {
      "cell_type": "code",
      "metadata": {
        "colab": {
          "base_uri": "https://localhost:8080/"
        },
        "id": "mu5MWLCnsLwh",
        "outputId": "e4b86ced-b1a9-4771-8b73-457935187672"
      },
      "source": [
        "from google.colab import drive\n",
        "drive.mount('/content/drive')"
      ],
      "execution_count": null,
      "outputs": [
        {
          "output_type": "stream",
          "text": [
            "Mounted at /content/drive\n"
          ],
          "name": "stdout"
        }
      ]
    },
    {
      "cell_type": "markdown",
      "metadata": {
        "id": "guuiCK52dZQm"
      },
      "source": [
        "**SliceCast**"
      ]
    },
    {
      "cell_type": "code",
      "metadata": {
        "colab": {
          "base_uri": "https://localhost:8080/"
        },
        "id": "ALayY0bl1cqK",
        "outputId": "2e20cf69-402c-4efb-f332-fbdc3c1b1daa"
      },
      "source": [
        "!git clone https://github.com/bmmidei/SliceCast.git"
      ],
      "execution_count": null,
      "outputs": [
        {
          "output_type": "stream",
          "text": [
            "Cloning into 'SliceCast'...\n",
            "remote: Enumerating objects: 1515, done.\u001b[K\n",
            "remote: Total 1515 (delta 0), reused 0 (delta 0), pack-reused 1515\u001b[K\n",
            "Receiving objects: 100% (1515/1515), 195.41 MiB | 40.64 MiB/s, done.\n",
            "Resolving deltas: 100% (238/238), done.\n",
            "Checking out files: 100% (81/81), done.\n"
          ],
          "name": "stdout"
        }
      ]
    },
    {
      "cell_type": "code",
      "metadata": {
        "colab": {
          "base_uri": "https://localhost:8080/"
        },
        "id": "XGcRxlXU4gdp",
        "outputId": "434db458-8730-4394-c1b3-59a3c0859561"
      },
      "source": [
        "%cd SliceCast"
      ],
      "execution_count": null,
      "outputs": [
        {
          "output_type": "stream",
          "text": [
            "/content/SliceCast\n"
          ],
          "name": "stdout"
        }
      ]
    },
    {
      "cell_type": "code",
      "metadata": {
        "colab": {
          "base_uri": "https://localhost:8080/",
          "height": 1000
        },
        "id": "JwejZjzJ1gF9",
        "outputId": "78beefd5-95d5-4bb4-eb7d-862bd8f1d34f"
      },
      "source": [
        "!pip install -r requirements.txt\n",
        "!pip install git+https://github.com/boudinfl/pke.git\n",
        "!python -m spacy download en_core_web_sm\n",
        "\n",
        "%cd data\n",
        "!tar -xvf wiki-sample.tar.gz\n",
        "%cd .."
      ],
      "execution_count": null,
      "outputs": [
        {
          "output_type": "stream",
          "text": [
            "Collecting absl-py==0.7.0\n",
            "\u001b[?25l  Downloading https://files.pythonhosted.org/packages/31/bc/ab68120d1d89ae23b694a55fe2aece2f91194313b71f9b05a80b32d3c24b/absl-py-0.7.0.tar.gz (96kB)\n",
            "\u001b[K     |████████████████████████████████| 102kB 12.0MB/s \n",
            "\u001b[?25hCollecting astor==0.7.1\n",
            "  Downloading https://files.pythonhosted.org/packages/35/6b/11530768cac581a12952a2aad00e1526b89d242d0b9f59534ef6e6a1752f/astor-0.7.1-py2.py3-none-any.whl\n",
            "Collecting certifi==2019.3.9\n",
            "\u001b[?25l  Downloading https://files.pythonhosted.org/packages/60/75/f692a584e85b7eaba0e03827b3d51f45f571c2e793dd731e598828d380aa/certifi-2019.3.9-py2.py3-none-any.whl (158kB)\n",
            "\u001b[K     |████████████████████████████████| 163kB 39.3MB/s \n",
            "\u001b[?25hCollecting cffi==1.12.2\n",
            "\u001b[?25l  Downloading https://files.pythonhosted.org/packages/a7/3f/2667a1516d935938245bd256b56a2f96d739ac3683e6778380f06c6e4c79/cffi-1.12.2-cp37-cp37m-manylinux1_x86_64.whl (430kB)\n",
            "\u001b[K     |████████████████████████████████| 440kB 48.9MB/s \n",
            "\u001b[?25hRequirement already satisfied: chardet==3.0.4 in /usr/local/lib/python3.7/dist-packages (from -r requirements.txt (line 5)) (3.0.4)\n",
            "Collecting cymem==2.0.2\n",
            "  Downloading https://files.pythonhosted.org/packages/65/26/e534148e509cbebbea3ee29f50f59eb206621d12c35e4594507da8dc54cc/cymem-2.0.2-cp37-cp37m-manylinux1_x86_64.whl\n",
            "Collecting gast==0.2.2\n",
            "  Downloading https://files.pythonhosted.org/packages/4e/35/11749bf99b2d4e3cceb4d55ca22590b0d7c2c62b9de38ac4a4a7f4687421/gast-0.2.2.tar.gz\n",
            "Collecting grpcio==1.19.0\n",
            "\u001b[?25l  Downloading https://files.pythonhosted.org/packages/83/60/b58313c04365bd2b3c63d077bedb9c28723b9b22b399d3e89c96a16bc5bc/grpcio-1.19.0-cp37-cp37m-manylinux1_x86_64.whl (10.8MB)\n",
            "\u001b[K     |████████████████████████████████| 10.8MB 19.6MB/s \n",
            "\u001b[?25hCollecting h5py==2.9.0\n",
            "\u001b[?25l  Downloading https://files.pythonhosted.org/packages/8e/fd/2ca5c4f4ed33ac4178f9c4d551e3946ab480866e3cd67a65a67a4bb35367/h5py-2.9.0-cp37-cp37m-manylinux1_x86_64.whl (2.8MB)\n",
            "\u001b[K     |████████████████████████████████| 2.8MB 51.9MB/s \n",
            "\u001b[?25hCollecting idna==2.8\n",
            "\u001b[?25l  Downloading https://files.pythonhosted.org/packages/14/2c/cd551d81dbe15200be1cf41cd03869a46fe7226e7450af7a6545bfc474c9/idna-2.8-py2.py3-none-any.whl (58kB)\n",
            "\u001b[K     |████████████████████████████████| 61kB 11.3MB/s \n",
            "\u001b[?25hCollecting Keras-Applications==1.0.7\n",
            "\u001b[?25l  Downloading https://files.pythonhosted.org/packages/90/85/64c82949765cfb246bbdaf5aca2d55f400f792655927a017710a78445def/Keras_Applications-1.0.7-py2.py3-none-any.whl (51kB)\n",
            "\u001b[K     |████████████████████████████████| 61kB 9.6MB/s \n",
            "\u001b[?25hCollecting Keras-Preprocessing==1.0.9\n",
            "\u001b[?25l  Downloading https://files.pythonhosted.org/packages/c0/bf/0315ef6a9fd3fc2346e85b0ff1f5f83ca17073f2c31ac719ab2e4da0d4a3/Keras_Preprocessing-1.0.9-py2.py3-none-any.whl (59kB)\n",
            "\u001b[K     |████████████████████████████████| 61kB 10.5MB/s \n",
            "\u001b[?25hCollecting Markdown==3.0.1\n",
            "\u001b[?25l  Downloading https://files.pythonhosted.org/packages/7a/6b/5600647404ba15545ec37d2f7f58844d690baf2f81f3a60b862e48f29287/Markdown-3.0.1-py2.py3-none-any.whl (89kB)\n",
            "\u001b[K     |████████████████████████████████| 92kB 14.0MB/s \n",
            "\u001b[?25hCollecting murmurhash==1.0.2\n",
            "  Downloading https://files.pythonhosted.org/packages/73/fc/10eeacb926ec1e88cd62f79d9ac106b0a3e3fe5ff1690422d88c29bd0909/murmurhash-1.0.2-cp37-cp37m-manylinux1_x86_64.whl\n",
            "Collecting numpy==1.16.3\n",
            "\u001b[?25l  Downloading https://files.pythonhosted.org/packages/bb/76/24e9f32c78e6f6fb26cf2596b428f393bf015b63459468119f282f70a7fd/numpy-1.16.3-cp37-cp37m-manylinux1_x86_64.whl (17.3MB)\n",
            "\u001b[K     |████████████████████████████████| 17.3MB 182kB/s \n",
            "\u001b[?25hCollecting objectpath==0.6.1\n",
            "  Downloading https://files.pythonhosted.org/packages/aa/2a/7d32788e3fc2e14c0ba76bca110a5465f75b2bf266a6b6bd802b4f370988/objectpath-0.6.1-py2.py3-none-any.whl\n",
            "Collecting plac==0.9.6\n",
            "  Downloading https://files.pythonhosted.org/packages/9e/9b/62c60d2f5bc135d2aa1d8c8a86aaf84edb719a59c7f11a4316259e61a298/plac-0.9.6-py2.py3-none-any.whl\n",
            "Collecting preshed==2.0.1\n",
            "\u001b[?25l  Downloading https://files.pythonhosted.org/packages/bc/2b/3ecd5d90d2d6fd39fbc520de7d80db5d74defdc2d7c2e15531d9cc3498c7/preshed-2.0.1-cp37-cp37m-manylinux1_x86_64.whl (82kB)\n",
            "\u001b[K     |████████████████████████████████| 92kB 14.6MB/s \n",
            "\u001b[?25hCollecting protobuf==3.7.1\n",
            "\u001b[?25l  Downloading https://files.pythonhosted.org/packages/19/a5/ac51df34cdf4739574492ed4903c11dadd72a7bec4a31bb0496f4f50fc19/protobuf-3.7.1-cp37-cp37m-manylinux1_x86_64.whl (1.2MB)\n",
            "\u001b[K     |████████████████████████████████| 1.2MB 51.4MB/s \n",
            "\u001b[?25hCollecting pycparser==2.19\n",
            "\u001b[?25l  Downloading https://files.pythonhosted.org/packages/68/9e/49196946aee219aead1290e00d1e7fdeab8567783e83e1b9ab5585e6206a/pycparser-2.19.tar.gz (158kB)\n",
            "\u001b[K     |████████████████████████████████| 163kB 60.9MB/s \n",
            "\u001b[?25hCollecting regex==2018.1.10\n",
            "\u001b[?25l  Downloading https://files.pythonhosted.org/packages/76/f4/7146c3812f96fcaaf2d06ff6862582302626a59011ccb6f2833bb38d80f7/regex-2018.01.10.tar.gz (612kB)\n",
            "\u001b[K     |████████████████████████████████| 614kB 48.2MB/s \n",
            "\u001b[?25hCollecting requests==2.21.0\n",
            "\u001b[?25l  Downloading https://files.pythonhosted.org/packages/7d/e3/20f3d364d6c8e5d2353c72a67778eb189176f08e873c9900e10c0287b84b/requests-2.21.0-py2.py3-none-any.whl (57kB)\n",
            "\u001b[K     |████████████████████████████████| 61kB 10.3MB/s \n",
            "\u001b[?25hCollecting six==1.12.0\n",
            "  Downloading https://files.pythonhosted.org/packages/73/fb/00a976f728d0d1fecfe898238ce23f502a721c0ac0ecfedb80e0d88c64e9/six-1.12.0-py2.py3-none-any.whl\n",
            "Collecting spacy==2.0.18\n",
            "\u001b[?25l  Downloading https://files.pythonhosted.org/packages/cd/70/65504a011d7b262e73cfe470c36ca245a1f8e45b3b6661081289ffd72009/spacy-2.0.18-cp37-cp37m-manylinux1_x86_64.whl (25.2MB)\n",
            "\u001b[K     |████████████████████████████████| 25.2MB 121kB/s \n",
            "\u001b[?25hCollecting tb-nightly==1.14.0a20190301\n",
            "\u001b[?25l  Downloading https://files.pythonhosted.org/packages/a9/51/aa1d756644bf4624c03844115e4ac4058eff77acd786b26315f051a4b195/tb_nightly-1.14.0a20190301-py3-none-any.whl (3.0MB)\n",
            "\u001b[K     |████████████████████████████████| 3.0MB 48.5MB/s \n",
            "\u001b[?25hCollecting tensorboard==1.13.1\n",
            "\u001b[?25l  Downloading https://files.pythonhosted.org/packages/0f/39/bdd75b08a6fba41f098b6cb091b9e8c7a80e1b4d679a581a0ccd17b10373/tensorboard-1.13.1-py3-none-any.whl (3.2MB)\n",
            "\u001b[K     |████████████████████████████████| 3.2MB 49.6MB/s \n",
            "\u001b[?25hCollecting tensorflow-datasets==1.0.1\n",
            "\u001b[?25l  Downloading https://files.pythonhosted.org/packages/d9/b8/457ad44e8748fbe5021b4ca7e7d589b5852881bbb11bca4d947952a13558/tensorflow_datasets-1.0.1-py3-none-any.whl (400kB)\n",
            "\u001b[K     |████████████████████████████████| 409kB 55.4MB/s \n",
            "\u001b[?25hCollecting tensorflow-estimator==1.13.0\n",
            "\u001b[?25l  Downloading https://files.pythonhosted.org/packages/bb/48/13f49fc3fa0fdf916aa1419013bb8f2ad09674c275b4046d5ee669a46873/tensorflow_estimator-1.13.0-py2.py3-none-any.whl (367kB)\n",
            "\u001b[K     |████████████████████████████████| 368kB 59.8MB/s \n",
            "\u001b[?25hCollecting tensorflow-gpu==1.13.1\n",
            "\u001b[?25l  Downloading https://files.pythonhosted.org/packages/2c/65/8dc8fc4a263a24f7ad935b72ad35e72ba381cb9e175b6a5fe086c85f17a7/tensorflow_gpu-1.13.1-cp37-cp37m-manylinux1_x86_64.whl (345.0MB)\n",
            "\u001b[K     |████████████████████████████████| 345.0MB 24kB/s \n",
            "\u001b[?25hCollecting tensorflow-hub==0.4.0\n",
            "\u001b[?25l  Downloading https://files.pythonhosted.org/packages/10/5c/6f3698513cf1cd730a5ea66aec665d213adf9de59b34f362f270e0bd126f/tensorflow_hub-0.4.0-py2.py3-none-any.whl (75kB)\n",
            "\u001b[K     |████████████████████████████████| 81kB 13.1MB/s \n",
            "\u001b[?25hCollecting tensorflow-metadata==0.13.0\n",
            "  Downloading https://files.pythonhosted.org/packages/08/b7/3fc74574aa9aff44491cce996711dd6094653c20d9e2800be4efb054e0da/tensorflow_metadata-0.13.0-py3-none-any.whl\n",
            "Collecting tensorflow-probability==0.6.0\n",
            "\u001b[?25l  Downloading https://files.pythonhosted.org/packages/4e/93/191e42ca27786d6875f74e7b756e34ef42f385f6d250bfc28aa48a1d1072/tensorflow_probability-0.6.0-py2.py3-none-any.whl (790kB)\n",
            "\u001b[K     |████████████████████████████████| 798kB 50.7MB/s \n",
            "\u001b[?25hCollecting tensorflow-serving-api-gpu==1.13.0\n",
            "  Downloading https://files.pythonhosted.org/packages/df/f0/e7ee83eec2830cd326e52b24991569caabf60d95cad4c11d3b735952c073/tensorflow_serving_api_gpu-1.13.0-py2.py3-none-any.whl\n",
            "Requirement already satisfied: termcolor==1.1.0 in /usr/local/lib/python3.7/dist-packages (from -r requirements.txt (line 34)) (1.1.0)\n",
            "Collecting thinc==6.12.1\n",
            "\u001b[?25l  Downloading https://files.pythonhosted.org/packages/da/c0/f19586e8f0d9575a0df162f83bacfe131ced8ed8964434260c55275edce3/thinc-6.12.1-cp37-cp37m-manylinux1_x86_64.whl (1.9MB)\n",
            "\u001b[K     |████████████████████████████████| 1.9MB 45.1MB/s \n",
            "\u001b[?25hCollecting toolz==0.9.0\n",
            "\u001b[?25l  Downloading https://files.pythonhosted.org/packages/14/d0/a73c15bbeda3d2e7b381a36afb0d9cd770a9f4adc5d1532691013ba881db/toolz-0.9.0.tar.gz (45kB)\n",
            "\u001b[K     |████████████████████████████████| 51kB 8.0MB/s \n",
            "\u001b[?25hCollecting tqdm==4.31.1\n",
            "\u001b[?25l  Downloading https://files.pythonhosted.org/packages/6c/4b/c38b5144cf167c4f52288517436ccafefe9dc01b8d1c190e18a6b154cd4a/tqdm-4.31.1-py2.py3-none-any.whl (48kB)\n",
            "\u001b[K     |████████████████████████████████| 51kB 9.3MB/s \n",
            "\u001b[?25hCollecting ujson==1.35\n",
            "\u001b[?25l  Downloading https://files.pythonhosted.org/packages/16/c4/79f3409bc710559015464e5f49b9879430d8f87498ecdc335899732e5377/ujson-1.35.tar.gz (192kB)\n",
            "\u001b[K     |████████████████████████████████| 194kB 55.3MB/s \n",
            "\u001b[?25hRequirement already satisfied: urllib3==1.24.3 in /usr/local/lib/python3.7/dist-packages (from -r requirements.txt (line 39)) (1.24.3)\n",
            "Collecting Werkzeug==0.14.1\n",
            "\u001b[?25l  Downloading https://files.pythonhosted.org/packages/20/c4/12e3e56473e52375aa29c4764e70d1b8f3efa6682bef8d0aae04fe335243/Werkzeug-0.14.1-py2.py3-none-any.whl (322kB)\n",
            "\u001b[K     |████████████████████████████████| 327kB 54.7MB/s \n",
            "\u001b[?25hCollecting wrapt==1.10.11\n",
            "  Downloading https://files.pythonhosted.org/packages/a0/47/66897906448185fcb77fc3c2b1bc20ed0ecca81a0f2f88eda3fc5a34fc3d/wrapt-1.10.11.tar.gz\n",
            "Requirement already satisfied: setuptools in /usr/local/lib/python3.7/dist-packages (from protobuf==3.7.1->-r requirements.txt (line 19)) (56.1.0)\n",
            "Collecting dill<0.3,>=0.2\n",
            "\u001b[?25l  Downloading https://files.pythonhosted.org/packages/fe/42/bfe2e0857bc284cbe6a011d93f2a9ad58a22cb894461b199ae72cfef0f29/dill-0.2.9.tar.gz (150kB)\n",
            "\u001b[K     |████████████████████████████████| 153kB 40.4MB/s \n",
            "\u001b[?25hRequirement already satisfied: wheel>=0.26; python_version >= \"3\" in /usr/local/lib/python3.7/dist-packages (from tb-nightly==1.14.0a20190301->-r requirements.txt (line 25)) (0.36.2)\n",
            "Requirement already satisfied: future in /usr/local/lib/python3.7/dist-packages (from tensorflow-datasets==1.0.1->-r requirements.txt (line 27)) (0.16.0)\n",
            "Requirement already satisfied: promise in /usr/local/lib/python3.7/dist-packages (from tensorflow-datasets==1.0.1->-r requirements.txt (line 27)) (2.3)\n",
            "Collecting mock>=2.0.0\n",
            "  Downloading https://files.pythonhosted.org/packages/5c/03/b7e605db4a57c0f6fba744b11ef3ddf4ddebcada35022927a2b5fc623fdf/mock-4.0.3-py3-none-any.whl\n",
            "Requirement already satisfied: googleapis-common-protos in /usr/local/lib/python3.7/dist-packages (from tensorflow-metadata==0.13.0->-r requirements.txt (line 31)) (1.53.0)\n",
            "Collecting msgpack<0.6.0,>=0.5.6\n",
            "\u001b[?25l  Downloading https://files.pythonhosted.org/packages/f3/b6/9affbea179c3c03a0eb53515d9ce404809a122f76bee8fc8c6ec9497f51f/msgpack-0.5.6.tar.gz (138kB)\n",
            "\u001b[K     |████████████████████████████████| 143kB 54.8MB/s \n",
            "\u001b[?25hCollecting cytoolz<0.10,>=0.9.0\n",
            "\u001b[?25l  Downloading https://files.pythonhosted.org/packages/36/f4/9728ba01ccb2f55df9a5af029b48ba0aaca1081bbd7823ea2ee223ba7a42/cytoolz-0.9.0.1.tar.gz (443kB)\n",
            "\u001b[K     |████████████████████████████████| 450kB 55.5MB/s \n",
            "\u001b[?25hCollecting msgpack-numpy<0.4.4\n",
            "  Downloading https://files.pythonhosted.org/packages/ad/45/464be6da85b5ca893cfcbd5de3b31a6710f636ccb8521b17bd4110a08d94/msgpack_numpy-0.4.3.2-py2.py3-none-any.whl\n",
            "Building wheels for collected packages: absl-py, gast, pycparser, regex, toolz, ujson, wrapt, dill, msgpack, cytoolz\n",
            "  Building wheel for absl-py (setup.py) ... \u001b[?25l\u001b[?25hdone\n",
            "  Created wheel for absl-py: filename=absl_py-0.7.0-cp37-none-any.whl size=113530 sha256=09eea7db4efd5435ca3929d4addbd74e754ff4a3402c73a0ff81e8debcdc8407\n",
            "  Stored in directory: /root/.cache/pip/wheels/90/db/f8/2c3101f72ef1ad434e4662853174126ce30201a3e163dcbeca\n",
            "  Building wheel for gast (setup.py) ... \u001b[?25l\u001b[?25hdone\n",
            "  Created wheel for gast: filename=gast-0.2.2-cp37-none-any.whl size=7540 sha256=96b174e0c40fea349a036e8633971a72b34d5598f9f4bba30487c7d0aaa85e32\n",
            "  Stored in directory: /root/.cache/pip/wheels/5c/2e/7e/a1d4d4fcebe6c381f378ce7743a3ced3699feb89bcfbdadadd\n",
            "  Building wheel for pycparser (setup.py) ... \u001b[?25l\u001b[?25hdone\n",
            "  Created wheel for pycparser: filename=pycparser-2.19-py2.py3-none-any.whl size=111031 sha256=1b7cd05c616c0d5127ad03495999767a52af4c8266a6292d8bb9b56c2aa6d984\n",
            "  Stored in directory: /root/.cache/pip/wheels/f2/9a/90/de94f8556265ddc9d9c8b271b0f63e57b26fb1d67a45564511\n",
            "  Building wheel for regex (setup.py) ... \u001b[?25l\u001b[?25hdone\n",
            "  Created wheel for regex: filename=regex-2018.1.10-cp37-cp37m-linux_x86_64.whl size=549132 sha256=93a627af4600423357436e3c640f152555eec37ceabda13e34b631b5347ef4fd\n",
            "  Stored in directory: /root/.cache/pip/wheels/74/17/3f/c77bba99efd74ba1a19862c9dd97f4b6d735e2826721dc00ff\n",
            "  Building wheel for toolz (setup.py) ... \u001b[?25l\u001b[?25hdone\n",
            "  Created wheel for toolz: filename=toolz-0.9.0-cp37-none-any.whl size=53240 sha256=d5294fd54650e8a945efe90e84859ea98f78d4fffe600dcef55b00f3807bbd09\n",
            "  Stored in directory: /root/.cache/pip/wheels/f4/0c/f6/ce6b2d1aa459ee97cc3c0f82236302bd62d89c86c700219463\n",
            "  Building wheel for ujson (setup.py) ... \u001b[?25l\u001b[?25hdone\n",
            "  Created wheel for ujson: filename=ujson-1.35-cp37-cp37m-linux_x86_64.whl size=68388 sha256=cf806e45157bee8980c01c5a0d05db54ebb120aecdd553fa4713d73d98faf85a\n",
            "  Stored in directory: /root/.cache/pip/wheels/28/77/e4/0311145b9c2e2f01470e744855131f9e34d6919687550f87d1\n",
            "  Building wheel for wrapt (setup.py) ... \u001b[?25l\u001b[?25hdone\n",
            "  Created wheel for wrapt: filename=wrapt-1.10.11-cp37-cp37m-linux_x86_64.whl size=66030 sha256=e8f5b76a359a4869468fa9d59c4fea478a99200752a4359c99efa8c5c51ba3bf\n",
            "  Stored in directory: /root/.cache/pip/wheels/48/5d/04/22361a593e70d23b1f7746d932802efe1f0e523376a74f321e\n",
            "  Building wheel for dill (setup.py) ... \u001b[?25l\u001b[?25hdone\n",
            "  Created wheel for dill: filename=dill-0.2.9-cp37-none-any.whl size=77404 sha256=012f277c512ccf347e9a9f7ed102870bc0324ee4fd4870a5ed8e026bd59e7e11\n",
            "  Stored in directory: /root/.cache/pip/wheels/5b/d7/0f/e58eae695403de585269f4e4a94e0cd6ca60ec0c202936fa4a\n",
            "  Building wheel for msgpack (setup.py) ... \u001b[?25l\u001b[?25hdone\n",
            "  Created wheel for msgpack: filename=msgpack-0.5.6-cp37-cp37m-linux_x86_64.whl size=298818 sha256=7169dc48b161b2a6dd7a653cc3e9782f8a56264dbcfb98558d0edad26ed57679\n",
            "  Stored in directory: /root/.cache/pip/wheels/f0/02/4c/525b56fce78c415eb8066f6554f9de02792df26b8f882f6d65\n",
            "  Building wheel for cytoolz (setup.py) ... \u001b[?25l\u001b[?25hdone\n",
            "  Created wheel for cytoolz: filename=cytoolz-0.9.0.1-cp37-cp37m-linux_x86_64.whl size=1239518 sha256=41153b99c3d114437005d0fbdcb3e9d3b2e3a22ec1071533a494dc1497c975ac\n",
            "  Stored in directory: /root/.cache/pip/wheels/88/f3/11/9817b001e59ab04889e8cffcbd9087e2e2155b9ebecfc8dd38\n",
            "Successfully built absl-py gast pycparser regex toolz ujson wrapt dill msgpack cytoolz\n",
            "\u001b[31mERROR: xarray 0.18.2 has requirement numpy>=1.17, but you'll have numpy 1.16.3 which is incompatible.\u001b[0m\n",
            "\u001b[31mERROR: tensorflow 2.5.0 has requirement absl-py~=0.10, but you'll have absl-py 0.7.0 which is incompatible.\u001b[0m\n",
            "\u001b[31mERROR: tensorflow 2.5.0 has requirement gast==0.4.0, but you'll have gast 0.2.2 which is incompatible.\u001b[0m\n",
            "\u001b[31mERROR: tensorflow 2.5.0 has requirement grpcio~=1.34.0, but you'll have grpcio 1.19.0 which is incompatible.\u001b[0m\n",
            "\u001b[31mERROR: tensorflow 2.5.0 has requirement h5py~=3.1.0, but you'll have h5py 2.9.0 which is incompatible.\u001b[0m\n",
            "\u001b[31mERROR: tensorflow 2.5.0 has requirement keras-preprocessing~=1.1.2, but you'll have keras-preprocessing 1.0.9 which is incompatible.\u001b[0m\n",
            "\u001b[31mERROR: tensorflow 2.5.0 has requirement numpy~=1.19.2, but you'll have numpy 1.16.3 which is incompatible.\u001b[0m\n",
            "\u001b[31mERROR: tensorflow 2.5.0 has requirement protobuf>=3.9.2, but you'll have protobuf 3.7.1 which is incompatible.\u001b[0m\n",
            "\u001b[31mERROR: tensorflow 2.5.0 has requirement six~=1.15.0, but you'll have six 1.12.0 which is incompatible.\u001b[0m\n",
            "\u001b[31mERROR: tensorflow 2.5.0 has requirement tensorboard~=2.5, but you'll have tensorboard 1.13.1 which is incompatible.\u001b[0m\n",
            "\u001b[31mERROR: tensorflow 2.5.0 has requirement tensorflow-estimator<2.6.0,>=2.5.0rc0, but you'll have tensorflow-estimator 1.13.0 which is incompatible.\u001b[0m\n",
            "\u001b[31mERROR: tensorflow 2.5.0 has requirement wrapt~=1.12.1, but you'll have wrapt 1.10.11 which is incompatible.\u001b[0m\n",
            "\u001b[31mERROR: pyerfa 2.0.0 has requirement numpy>=1.17, but you'll have numpy 1.16.3 which is incompatible.\u001b[0m\n",
            "\u001b[31mERROR: pyarrow 3.0.0 has requirement numpy>=1.16.6, but you'll have numpy 1.16.3 which is incompatible.\u001b[0m\n",
            "\u001b[31mERROR: multiprocess 0.70.11.1 has requirement dill>=0.3.3, but you'll have dill 0.2.9 which is incompatible.\u001b[0m\n",
            "\u001b[31mERROR: kapre 0.3.5 has requirement numpy>=1.18.5, but you'll have numpy 1.16.3 which is incompatible.\u001b[0m\n",
            "\u001b[31mERROR: googleapis-common-protos 1.53.0 has requirement protobuf>=3.12.0, but you'll have protobuf 3.7.1 which is incompatible.\u001b[0m\n",
            "\u001b[31mERROR: google-colab 1.0.0 has requirement astor~=0.8.1, but you'll have astor 0.7.1 which is incompatible.\u001b[0m\n",
            "\u001b[31mERROR: google-colab 1.0.0 has requirement requests~=2.23.0, but you'll have requests 2.21.0 which is incompatible.\u001b[0m\n",
            "\u001b[31mERROR: google-colab 1.0.0 has requirement six~=1.15.0, but you'll have six 1.12.0 which is incompatible.\u001b[0m\n",
            "\u001b[31mERROR: google-api-python-client 1.12.8 has requirement six<2dev,>=1.13.0, but you'll have six 1.12.0 which is incompatible.\u001b[0m\n",
            "\u001b[31mERROR: google-api-core 1.26.3 has requirement protobuf>=3.12.0, but you'll have protobuf 3.7.1 which is incompatible.\u001b[0m\n",
            "\u001b[31mERROR: google-api-core 1.26.3 has requirement six>=1.13.0, but you'll have six 1.12.0 which is incompatible.\u001b[0m\n",
            "\u001b[31mERROR: flask 1.1.4 has requirement Werkzeug<2.0,>=0.15, but you'll have werkzeug 0.14.1 which is incompatible.\u001b[0m\n",
            "\u001b[31mERROR: fbprophet 0.7.1 has requirement tqdm>=4.36.1, but you'll have tqdm 4.31.1 which is incompatible.\u001b[0m\n",
            "\u001b[31mERROR: en-core-web-sm 2.2.5 has requirement spacy>=2.2.2, but you'll have spacy 2.0.18 which is incompatible.\u001b[0m\n",
            "\u001b[31mERROR: datascience 0.10.6 has requirement folium==0.2.1, but you'll have folium 0.8.3 which is incompatible.\u001b[0m\n",
            "\u001b[31mERROR: astropy 4.2.1 has requirement numpy>=1.17, but you'll have numpy 1.16.3 which is incompatible.\u001b[0m\n",
            "\u001b[31mERROR: albumentations 0.1.12 has requirement imgaug<0.2.7,>=0.2.5, but you'll have imgaug 0.2.9 which is incompatible.\u001b[0m\n",
            "Installing collected packages: six, absl-py, astor, certifi, pycparser, cffi, cymem, gast, grpcio, numpy, h5py, idna, Keras-Applications, Keras-Preprocessing, Markdown, murmurhash, objectpath, plac, preshed, protobuf, regex, requests, dill, msgpack, wrapt, tqdm, toolz, cytoolz, msgpack-numpy, thinc, ujson, spacy, Werkzeug, tb-nightly, tensorboard, tensorflow-metadata, tensorflow-datasets, mock, tensorflow-estimator, tensorflow-gpu, tensorflow-hub, tensorflow-probability, tensorflow-serving-api-gpu\n",
            "  Found existing installation: six 1.15.0\n",
            "    Uninstalling six-1.15.0:\n",
            "      Successfully uninstalled six-1.15.0\n",
            "  Found existing installation: absl-py 0.12.0\n",
            "    Uninstalling absl-py-0.12.0:\n",
            "      Successfully uninstalled absl-py-0.12.0\n",
            "  Found existing installation: astor 0.8.1\n",
            "    Uninstalling astor-0.8.1:\n",
            "      Successfully uninstalled astor-0.8.1\n",
            "  Found existing installation: certifi 2020.12.5\n",
            "    Uninstalling certifi-2020.12.5:\n",
            "      Successfully uninstalled certifi-2020.12.5\n",
            "  Found existing installation: pycparser 2.20\n",
            "    Uninstalling pycparser-2.20:\n",
            "      Successfully uninstalled pycparser-2.20\n",
            "  Found existing installation: cffi 1.14.5\n",
            "    Uninstalling cffi-1.14.5:\n",
            "      Successfully uninstalled cffi-1.14.5\n",
            "  Found existing installation: cymem 2.0.5\n",
            "    Uninstalling cymem-2.0.5:\n",
            "      Successfully uninstalled cymem-2.0.5\n",
            "  Found existing installation: gast 0.4.0\n",
            "    Uninstalling gast-0.4.0:\n",
            "      Successfully uninstalled gast-0.4.0\n",
            "  Found existing installation: grpcio 1.34.1\n",
            "    Uninstalling grpcio-1.34.1:\n",
            "      Successfully uninstalled grpcio-1.34.1\n",
            "  Found existing installation: numpy 1.19.5\n",
            "    Uninstalling numpy-1.19.5:\n",
            "      Successfully uninstalled numpy-1.19.5\n",
            "  Found existing installation: h5py 3.1.0\n",
            "    Uninstalling h5py-3.1.0:\n",
            "      Successfully uninstalled h5py-3.1.0\n",
            "  Found existing installation: idna 2.10\n",
            "    Uninstalling idna-2.10:\n",
            "      Successfully uninstalled idna-2.10\n",
            "  Found existing installation: Keras-Preprocessing 1.1.2\n",
            "    Uninstalling Keras-Preprocessing-1.1.2:\n",
            "      Successfully uninstalled Keras-Preprocessing-1.1.2\n",
            "  Found existing installation: Markdown 3.3.4\n",
            "    Uninstalling Markdown-3.3.4:\n",
            "      Successfully uninstalled Markdown-3.3.4\n",
            "  Found existing installation: murmurhash 1.0.5\n",
            "    Uninstalling murmurhash-1.0.5:\n",
            "      Successfully uninstalled murmurhash-1.0.5\n",
            "  Found existing installation: plac 1.1.3\n",
            "    Uninstalling plac-1.1.3:\n",
            "      Successfully uninstalled plac-1.1.3\n",
            "  Found existing installation: preshed 3.0.5\n",
            "    Uninstalling preshed-3.0.5:\n",
            "      Successfully uninstalled preshed-3.0.5\n",
            "  Found existing installation: protobuf 3.12.4\n",
            "    Uninstalling protobuf-3.12.4:\n",
            "      Successfully uninstalled protobuf-3.12.4\n",
            "  Found existing installation: regex 2019.12.20\n",
            "    Uninstalling regex-2019.12.20:\n",
            "      Successfully uninstalled regex-2019.12.20\n",
            "  Found existing installation: requests 2.23.0\n",
            "    Uninstalling requests-2.23.0:\n",
            "      Successfully uninstalled requests-2.23.0\n",
            "  Found existing installation: dill 0.3.3\n",
            "    Uninstalling dill-0.3.3:\n",
            "      Successfully uninstalled dill-0.3.3\n",
            "  Found existing installation: msgpack 1.0.2\n",
            "    Uninstalling msgpack-1.0.2:\n",
            "      Successfully uninstalled msgpack-1.0.2\n",
            "  Found existing installation: wrapt 1.12.1\n",
            "    Uninstalling wrapt-1.12.1:\n",
            "      Successfully uninstalled wrapt-1.12.1\n",
            "  Found existing installation: tqdm 4.41.1\n",
            "    Uninstalling tqdm-4.41.1:\n",
            "      Successfully uninstalled tqdm-4.41.1\n",
            "  Found existing installation: toolz 0.11.1\n",
            "    Uninstalling toolz-0.11.1:\n",
            "      Successfully uninstalled toolz-0.11.1\n",
            "  Found existing installation: thinc 7.4.0\n",
            "    Uninstalling thinc-7.4.0:\n",
            "      Successfully uninstalled thinc-7.4.0\n",
            "  Found existing installation: spacy 2.2.4\n",
            "    Uninstalling spacy-2.2.4:\n",
            "      Successfully uninstalled spacy-2.2.4\n",
            "  Found existing installation: Werkzeug 1.0.1\n",
            "    Uninstalling Werkzeug-1.0.1:\n",
            "      Successfully uninstalled Werkzeug-1.0.1\n",
            "  Found existing installation: tensorboard 2.5.0\n",
            "    Uninstalling tensorboard-2.5.0:\n",
            "      Successfully uninstalled tensorboard-2.5.0\n",
            "  Found existing installation: tensorflow-metadata 1.0.0\n",
            "    Uninstalling tensorflow-metadata-1.0.0:\n",
            "      Successfully uninstalled tensorflow-metadata-1.0.0\n",
            "  Found existing installation: tensorflow-datasets 4.0.1\n",
            "    Uninstalling tensorflow-datasets-4.0.1:\n",
            "      Successfully uninstalled tensorflow-datasets-4.0.1\n",
            "  Found existing installation: tensorflow-estimator 2.5.0\n",
            "    Uninstalling tensorflow-estimator-2.5.0:\n",
            "      Successfully uninstalled tensorflow-estimator-2.5.0\n",
            "  Found existing installation: tensorflow-hub 0.12.0\n",
            "    Uninstalling tensorflow-hub-0.12.0:\n",
            "      Successfully uninstalled tensorflow-hub-0.12.0\n",
            "  Found existing installation: tensorflow-probability 0.12.1\n",
            "    Uninstalling tensorflow-probability-0.12.1:\n",
            "      Successfully uninstalled tensorflow-probability-0.12.1\n",
            "Successfully installed Keras-Applications-1.0.7 Keras-Preprocessing-1.0.9 Markdown-3.0.1 Werkzeug-0.14.1 absl-py-0.7.0 astor-0.7.1 certifi-2019.3.9 cffi-1.12.2 cymem-2.0.2 cytoolz-0.9.0.1 dill-0.2.9 gast-0.2.2 grpcio-1.19.0 h5py-2.9.0 idna-2.8 mock-4.0.3 msgpack-0.5.6 msgpack-numpy-0.4.3.2 murmurhash-1.0.2 numpy-1.16.3 objectpath-0.6.1 plac-0.9.6 preshed-2.0.1 protobuf-3.7.1 pycparser-2.19 regex-2018.1.10 requests-2.21.0 six-1.12.0 spacy-2.0.18 tb-nightly-1.14.0a20190301 tensorboard-1.13.1 tensorflow-datasets-1.0.1 tensorflow-estimator-1.13.0 tensorflow-gpu-1.13.1 tensorflow-hub-0.4.0 tensorflow-metadata-0.13.0 tensorflow-probability-0.6.0 tensorflow-serving-api-gpu-1.13.0 thinc-6.12.1 toolz-0.9.0 tqdm-4.31.1 ujson-1.35 wrapt-1.10.11\n"
          ],
          "name": "stdout"
        },
        {
          "output_type": "display_data",
          "data": {
            "application/vnd.colab-display-data+json": {
              "pip_warning": {
                "packages": [
                  "astor",
                  "cffi",
                  "google",
                  "numpy",
                  "six"
                ]
              }
            }
          },
          "metadata": {
            "tags": []
          }
        },
        {
          "output_type": "stream",
          "text": [
            "Collecting git+https://github.com/boudinfl/pke.git\n",
            "  Cloning https://github.com/boudinfl/pke.git to /tmp/pip-req-build-as611wrn\n",
            "  Running command git clone -q https://github.com/boudinfl/pke.git /tmp/pip-req-build-as611wrn\n",
            "Requirement already satisfied: nltk in /usr/local/lib/python3.7/dist-packages (from pke==1.8.1) (3.2.5)\n",
            "Requirement already satisfied: networkx in /usr/local/lib/python3.7/dist-packages (from pke==1.8.1) (2.5.1)\n",
            "Requirement already satisfied: numpy in /usr/local/lib/python3.7/dist-packages (from pke==1.8.1) (1.16.3)\n",
            "Requirement already satisfied: scipy in /usr/local/lib/python3.7/dist-packages (from pke==1.8.1) (1.4.1)\n",
            "Requirement already satisfied: spacy in /usr/local/lib/python3.7/dist-packages (from pke==1.8.1) (2.0.18)\n",
            "Requirement already satisfied: six in /usr/local/lib/python3.7/dist-packages (from pke==1.8.1) (1.12.0)\n",
            "Requirement already satisfied: sklearn in /usr/local/lib/python3.7/dist-packages (from pke==1.8.1) (0.0)\n",
            "Collecting unidecode\n",
            "\u001b[?25l  Downloading https://files.pythonhosted.org/packages/9e/25/723487ca2a52ebcee88a34d7d1f5a4b80b793f179ee0f62d5371938dfa01/Unidecode-1.2.0-py2.py3-none-any.whl (241kB)\n",
            "\u001b[K     |████████████████████████████████| 245kB 27.6MB/s \n",
            "\u001b[?25hRequirement already satisfied: future in /usr/local/lib/python3.7/dist-packages (from pke==1.8.1) (0.16.0)\n",
            "Requirement already satisfied: joblib in /usr/local/lib/python3.7/dist-packages (from pke==1.8.1) (1.0.1)\n",
            "Requirement already satisfied: decorator<5,>=4.3 in /usr/local/lib/python3.7/dist-packages (from networkx->pke==1.8.1) (4.4.2)\n",
            "Requirement already satisfied: plac<1.0.0,>=0.9.6 in /usr/local/lib/python3.7/dist-packages (from spacy->pke==1.8.1) (0.9.6)\n",
            "Requirement already satisfied: regex==2018.01.10 in /usr/local/lib/python3.7/dist-packages (from spacy->pke==1.8.1) (2018.1.10)\n",
            "Requirement already satisfied: thinc<6.13.0,>=6.12.1 in /usr/local/lib/python3.7/dist-packages (from spacy->pke==1.8.1) (6.12.1)\n",
            "Requirement already satisfied: cymem<2.1.0,>=2.0.2 in /usr/local/lib/python3.7/dist-packages (from spacy->pke==1.8.1) (2.0.2)\n",
            "Requirement already satisfied: murmurhash<1.1.0,>=0.28.0 in /usr/local/lib/python3.7/dist-packages (from spacy->pke==1.8.1) (1.0.2)\n",
            "Requirement already satisfied: ujson>=1.35 in /usr/local/lib/python3.7/dist-packages (from spacy->pke==1.8.1) (1.35)\n",
            "Requirement already satisfied: dill<0.3,>=0.2 in /usr/local/lib/python3.7/dist-packages (from spacy->pke==1.8.1) (0.2.9)\n",
            "Requirement already satisfied: requests<3.0.0,>=2.13.0 in /usr/local/lib/python3.7/dist-packages (from spacy->pke==1.8.1) (2.21.0)\n",
            "Requirement already satisfied: preshed<2.1.0,>=2.0.1 in /usr/local/lib/python3.7/dist-packages (from spacy->pke==1.8.1) (2.0.1)\n",
            "Requirement already satisfied: scikit-learn in /usr/local/lib/python3.7/dist-packages (from sklearn->pke==1.8.1) (0.22.2.post1)\n",
            "Requirement already satisfied: tqdm<5.0.0,>=4.10.0 in /usr/local/lib/python3.7/dist-packages (from thinc<6.13.0,>=6.12.1->spacy->pke==1.8.1) (4.31.1)\n",
            "Requirement already satisfied: cytoolz<0.10,>=0.9.0 in /usr/local/lib/python3.7/dist-packages (from thinc<6.13.0,>=6.12.1->spacy->pke==1.8.1) (0.9.0.1)\n",
            "Requirement already satisfied: wrapt<1.11.0,>=1.10.0 in /usr/local/lib/python3.7/dist-packages (from thinc<6.13.0,>=6.12.1->spacy->pke==1.8.1) (1.10.11)\n",
            "Requirement already satisfied: msgpack-numpy<0.4.4 in /usr/local/lib/python3.7/dist-packages (from thinc<6.13.0,>=6.12.1->spacy->pke==1.8.1) (0.4.3.2)\n",
            "Requirement already satisfied: msgpack<0.6.0,>=0.5.6 in /usr/local/lib/python3.7/dist-packages (from thinc<6.13.0,>=6.12.1->spacy->pke==1.8.1) (0.5.6)\n",
            "Requirement already satisfied: urllib3<1.25,>=1.21.1 in /usr/local/lib/python3.7/dist-packages (from requests<3.0.0,>=2.13.0->spacy->pke==1.8.1) (1.24.3)\n",
            "Requirement already satisfied: certifi>=2017.4.17 in /usr/local/lib/python3.7/dist-packages (from requests<3.0.0,>=2.13.0->spacy->pke==1.8.1) (2019.3.9)\n",
            "Requirement already satisfied: chardet<3.1.0,>=3.0.2 in /usr/local/lib/python3.7/dist-packages (from requests<3.0.0,>=2.13.0->spacy->pke==1.8.1) (3.0.4)\n",
            "Requirement already satisfied: idna<2.9,>=2.5 in /usr/local/lib/python3.7/dist-packages (from requests<3.0.0,>=2.13.0->spacy->pke==1.8.1) (2.8)\n",
            "Requirement already satisfied: toolz>=0.8.0 in /usr/local/lib/python3.7/dist-packages (from cytoolz<0.10,>=0.9.0->thinc<6.13.0,>=6.12.1->spacy->pke==1.8.1) (0.9.0)\n",
            "Building wheels for collected packages: pke\n",
            "  Building wheel for pke (setup.py) ... \u001b[?25l\u001b[?25hdone\n",
            "  Created wheel for pke: filename=pke-1.8.1-cp37-none-any.whl size=8763776 sha256=2b523e1310e43cf6b3ec65a4f7b8496d5c856bf39c2f836a1f4320e2a44bac29\n",
            "  Stored in directory: /tmp/pip-ephem-wheel-cache-7lspwjku/wheels/8d/24/54/6582e854e9e32dd6c632af6762b3a5d2f6b181c2992e165462\n",
            "Successfully built pke\n",
            "Installing collected packages: unidecode, pke\n",
            "Successfully installed pke-1.8.1 unidecode-1.2.0\n",
            "Collecting en_core_web_sm==2.0.0\n",
            "\u001b[?25l  Downloading https://github.com/explosion/spacy-models/releases/download/en_core_web_sm-2.0.0/en_core_web_sm-2.0.0.tar.gz (37.4MB)\n",
            "\u001b[K     |████████████████████████████████| 37.4MB 70.3MB/s \n",
            "\u001b[?25hBuilding wheels for collected packages: en-core-web-sm\n",
            "  Building wheel for en-core-web-sm (setup.py) ... \u001b[?25l\u001b[?25hdone\n",
            "  Created wheel for en-core-web-sm: filename=en_core_web_sm-2.0.0-cp37-none-any.whl size=37405978 sha256=e1e6e28ecebc45a7d34348c26da3fd8824955c108faff840f178c8b40dcfefc5\n",
            "  Stored in directory: /tmp/pip-ephem-wheel-cache-5sg8bubp/wheels/54/7c/d8/f86364af8fbba7258e14adae115f18dd2c91552406edc3fdaa\n",
            "Successfully built en-core-web-sm\n",
            "Installing collected packages: en-core-web-sm\n",
            "  Found existing installation: en-core-web-sm 2.2.5\n",
            "    Uninstalling en-core-web-sm-2.2.5:\n",
            "      Successfully uninstalled en-core-web-sm-2.2.5\n",
            "Successfully installed en-core-web-sm-2.0.0\n",
            "\n",
            "\u001b[93m    Linking successful\u001b[0m\n",
            "    /usr/local/lib/python3.7/dist-packages/en_core_web_sm -->\n",
            "    /usr/local/lib/python3.7/dist-packages/spacy/data/en_core_web_sm\n",
            "\n",
            "    You can now load the model via spacy.load('en_core_web_sm')\n",
            "\n",
            "/content/SliceCast/data\n",
            "wiki-sample/\n",
            "wiki-sample/2061318.txt\n",
            "wiki-sample/6416879.txt\n",
            "wiki-sample/2838306.txt\n",
            "wiki-sample/574933.txt\n",
            "wiki-sample/118427.txt\n",
            "wiki-sample/723624.txt\n",
            "wiki-sample/5508618.txt\n",
            "wiki-sample/6055080.txt\n",
            "wiki-sample/5715620.txt\n",
            "wiki-sample/1639690.txt\n",
            "wiki-sample/4341330.txt\n",
            "wiki-sample/9643369.txt\n",
            "wiki-sample/258830.txt\n",
            "wiki-sample/1977519.txt\n",
            "wiki-sample/8365576.txt\n",
            "wiki-sample/680707.txt\n",
            "wiki-sample/2163756.txt\n",
            "wiki-sample/3715746.txt\n",
            "wiki-sample/2015634.txt\n",
            "wiki-sample/2856778.txt\n",
            "wiki-sample/2412026.txt\n",
            "wiki-sample/2205045.txt\n",
            "wiki-sample/11048600.txt\n",
            "wiki-sample/5923448.txt\n",
            "wiki-sample/149743.txt\n",
            "wiki-sample/2033893.txt\n",
            "wiki-sample/2825486.txt\n",
            "wiki-sample/5375068.txt\n",
            "wiki-sample/2684226.txt\n",
            "wiki-sample/6208661.txt\n",
            "wiki-sample/5590598.txt\n",
            "wiki-sample/8959297.txt\n",
            "wiki-sample/878733.txt\n",
            "wiki-sample/808512.txt\n",
            "wiki-sample/1230634.txt\n",
            "wiki-sample/410484.txt\n",
            "wiki-sample/378269.txt\n",
            "wiki-sample/2022238.txt\n",
            "wiki-sample/288379.txt\n",
            "wiki-sample/384873.txt\n",
            "wiki-sample/81105.txt\n",
            "wiki-sample/8311688.txt\n",
            "wiki-sample/3272367.txt\n",
            "wiki-sample/251061.txt\n",
            "wiki-sample/5547877.txt\n",
            "wiki-sample/894041.txt\n",
            "wiki-sample/131949.txt\n",
            "wiki-sample/12335153.txt\n",
            "wiki-sample/20663.txt\n",
            "wiki-sample/11957871.txt\n",
            "wiki-sample/2824656.txt\n",
            "wiki-sample/1460774.txt\n",
            "wiki-sample/24207.txt\n",
            "wiki-sample/423362.txt\n",
            "wiki-sample/1636552.txt\n",
            "wiki-sample/963141.txt\n",
            "wiki-sample/2400794.txt\n",
            "wiki-sample/294873.txt\n",
            "wiki-sample/11237247.txt\n",
            "wiki-sample/9030385.txt\n",
            "wiki-sample/4468837.txt\n",
            "wiki-sample/2920235.txt\n",
            "wiki-sample/9529121.txt\n",
            "wiki-sample/3096578.txt\n",
            "wiki-sample/1838031.txt\n",
            "wiki-sample/3289228.txt\n",
            "wiki-sample/2939770.txt\n",
            "wiki-sample/542780.txt\n",
            "wiki-sample/5594976.txt\n",
            "wiki-sample/505366.txt\n",
            "wiki-sample/912205.txt\n",
            "wiki-sample/7832470.txt\n",
            "wiki-sample/4165448.txt\n",
            "wiki-sample/7198988.txt\n",
            "wiki-sample/3221789.txt\n",
            "wiki-sample/53889.txt\n",
            "wiki-sample/11048088.txt\n",
            "wiki-sample/12436995.txt\n",
            "wiki-sample/13014246.txt\n",
            "wiki-sample/3782816.txt\n",
            "wiki-sample/6711010.txt\n",
            "wiki-sample/1979203.txt\n",
            "wiki-sample/12183.txt\n",
            "wiki-sample/6078615.txt\n",
            "wiki-sample/5628893.txt\n",
            "wiki-sample/2706945.txt\n",
            "wiki-sample/3570629.txt\n",
            "wiki-sample/2375459.txt\n",
            "wiki-sample/2046816.txt\n",
            "wiki-sample/3191485.txt\n",
            "wiki-sample/149980.txt\n",
            "wiki-sample/1145313.txt\n",
            "wiki-sample/1424312.txt\n",
            "wiki-sample/3189462.txt\n",
            "wiki-sample/7679713.txt\n",
            "wiki-sample/5611954.txt\n",
            "wiki-sample/231114.txt\n",
            "wiki-sample/529854.txt\n",
            "wiki-sample/6097124.txt\n",
            "wiki-sample/103365.txt\n",
            "wiki-sample/4485011.txt\n",
            "wiki-sample/5019012.txt\n",
            "wiki-sample/692334.txt\n",
            "wiki-sample/2293570.txt\n",
            "wiki-sample/11567660.txt\n",
            "wiki-sample/6705528.txt\n",
            "wiki-sample/1409700.txt\n",
            "wiki-sample/8613248.txt\n",
            "wiki-sample/6367275.txt\n",
            "wiki-sample/5359603.txt\n",
            "wiki-sample/3685633.txt\n",
            "wiki-sample/5219699.txt\n",
            "wiki-sample/2916551.txt\n",
            "wiki-sample/402125.txt\n",
            "wiki-sample/1693690.txt\n",
            "wiki-sample/2113868.txt\n",
            "wiki-sample/3552783.txt\n",
            "wiki-sample/4178394.txt\n",
            "wiki-sample/6518208.txt\n",
            "wiki-sample/1802407.txt\n",
            "wiki-sample/2614706.txt\n",
            "wiki-sample/882290.txt\n",
            "wiki-sample/151545.txt\n",
            "wiki-sample/7643426.txt\n",
            "wiki-sample/11320243.txt\n",
            "wiki-sample/136703.txt\n",
            "wiki-sample/302776.txt\n",
            "wiki-sample/210156.txt\n",
            "wiki-sample/562400.txt\n",
            "wiki-sample/1029228.txt\n",
            "wiki-sample/888146.txt\n",
            "wiki-sample/2911098.txt\n",
            "wiki-sample/564113.txt\n",
            "wiki-sample/4693134.txt\n",
            "wiki-sample/5404400.txt\n",
            "wiki-sample/1138182.txt\n",
            "wiki-sample/6154451.txt\n",
            "wiki-sample/13063062.txt\n",
            "wiki-sample/1410556.txt\n",
            "wiki-sample/3809275.txt\n",
            "wiki-sample/111050.txt\n",
            "wiki-sample/663826.txt\n",
            "wiki-sample/353514.txt\n",
            "wiki-sample/2611762.txt\n",
            "wiki-sample/5267112.txt\n",
            "wiki-sample/1249710.txt\n",
            "wiki-sample/5472592.txt\n",
            "wiki-sample/6818340.txt\n",
            "wiki-sample/8868001.txt\n",
            "wiki-sample/9383017.txt\n",
            "wiki-sample/1721161.txt\n",
            "wiki-sample/1651259.txt\n",
            "wiki-sample/95648.txt\n",
            "wiki-sample/1655472.txt\n",
            "wiki-sample/523577.txt\n",
            "wiki-sample/92084.txt\n",
            "wiki-sample/10510197.txt\n",
            "wiki-sample/627405.txt\n",
            "wiki-sample/12535936.txt\n",
            "wiki-sample/3210396.txt\n",
            "wiki-sample/7001043.txt\n",
            "wiki-sample/1369643.txt\n",
            "wiki-sample/179030.txt\n",
            "wiki-sample/2456273.txt\n",
            "wiki-sample/7708487.txt\n",
            "wiki-sample/5724625.txt\n",
            "wiki-sample/10285855.txt\n",
            "wiki-sample/9938187.txt\n",
            "wiki-sample/2893653.txt\n",
            "wiki-sample/1682307.txt\n",
            "wiki-sample/11287648.txt\n",
            "wiki-sample/516619.txt\n",
            "wiki-sample/5861584.txt\n",
            "wiki-sample/10423509.txt\n",
            "wiki-sample/1880338.txt\n",
            "wiki-sample/3073672.txt\n",
            "wiki-sample/1214786.txt\n",
            "wiki-sample/1139951.txt\n",
            "wiki-sample/3892280.txt\n",
            "wiki-sample/80448.txt\n",
            "wiki-sample/5586409.txt\n",
            "wiki-sample/1389209.txt\n",
            "wiki-sample/3323760.txt\n",
            "wiki-sample/8070689.txt\n",
            "wiki-sample/30736.txt\n",
            "wiki-sample/1202313.txt\n",
            "wiki-sample/4004914.txt\n",
            "wiki-sample/11076912.txt\n",
            "wiki-sample/5502838.txt\n",
            "wiki-sample/312753.txt\n",
            "wiki-sample/2334351.txt\n",
            "wiki-sample/4861876.txt\n",
            "wiki-sample/10842207.txt\n",
            "wiki-sample/4631587.txt\n",
            "wiki-sample/847584.txt\n",
            "wiki-sample/5722357.txt\n",
            "wiki-sample/937658.txt\n",
            "wiki-sample/1005991.txt\n",
            "wiki-sample/12700871.txt\n",
            "wiki-sample/4021780.txt\n",
            "wiki-sample/3629397.txt\n",
            "wiki-sample/1287414.txt\n",
            "wiki-sample/2336741.txt\n",
            "wiki-sample/11135624.txt\n",
            "wiki-sample/6752767.txt\n",
            "wiki-sample/625651.txt\n",
            "wiki-sample/683321.txt\n",
            "wiki-sample/420666.txt\n",
            "wiki-sample/7192244.txt\n",
            "wiki-sample/3867414.txt\n",
            "wiki-sample/4916651.txt\n",
            "wiki-sample/4070104.txt\n",
            "wiki-sample/2510506.txt\n",
            "wiki-sample/9474333.txt\n",
            "wiki-sample/708351.txt\n",
            "wiki-sample/840022.txt\n",
            "wiki-sample/775624.txt\n",
            "wiki-sample/821679.txt\n",
            "wiki-sample/4139511.txt\n",
            "wiki-sample/317487.txt\n",
            "wiki-sample/9204191.txt\n",
            "wiki-sample/908631.txt\n",
            "wiki-sample/148703.txt\n",
            "wiki-sample/441617.txt\n",
            "wiki-sample/30740.txt\n",
            "wiki-sample/1867672.txt\n",
            "wiki-sample/4290173.txt\n",
            "wiki-sample/1237970.txt\n",
            "wiki-sample/96227.txt\n",
            "wiki-sample/2091369.txt\n",
            "wiki-sample/8635138.txt\n",
            "wiki-sample/454964.txt\n",
            "wiki-sample/2651960.txt\n",
            "wiki-sample/2953745.txt\n",
            "wiki-sample/2385021.txt\n",
            "wiki-sample/12739206.txt\n",
            "wiki-sample/6043961.txt\n",
            "wiki-sample/2265419.txt\n",
            "wiki-sample/2569064.txt\n",
            "wiki-sample/25600.txt\n",
            "wiki-sample/232544.txt\n",
            "wiki-sample/667343.txt\n",
            "wiki-sample/3318476.txt\n",
            "wiki-sample/2791938.txt\n",
            "wiki-sample/5660535.txt\n",
            "wiki-sample/12329542.txt\n",
            "wiki-sample/5439803.txt\n",
            "wiki-sample/234160.txt\n",
            "wiki-sample/5360763.txt\n",
            "wiki-sample/28005.txt\n",
            "wiki-sample/3774267.txt\n",
            "wiki-sample/1559422.txt\n",
            "wiki-sample/1908527.txt\n",
            "wiki-sample/4243385.txt\n",
            "wiki-sample/10900474.txt\n",
            "wiki-sample/2782443.txt\n",
            "wiki-sample/306063.txt\n",
            "wiki-sample/22256.txt\n",
            "wiki-sample/4531439.txt\n",
            "wiki-sample/8151862.txt\n",
            "wiki-sample/10784452.txt\n",
            "wiki-sample/7992255.txt\n",
            "wiki-sample/5319593.txt\n",
            "wiki-sample/4966559.txt\n",
            "wiki-sample/12455394.txt\n",
            "wiki-sample/6434716.txt\n",
            "wiki-sample/231242.txt\n",
            "wiki-sample/8838851.txt\n",
            "wiki-sample/374815.txt\n",
            "wiki-sample/1626333.txt\n",
            "wiki-sample/74215.txt\n",
            "wiki-sample/2947645.txt\n",
            "wiki-sample/9148180.txt\n",
            "wiki-sample/1998999.txt\n",
            "wiki-sample/846554.txt\n",
            "wiki-sample/12579854.txt\n",
            "wiki-sample/473437.txt\n",
            "wiki-sample/5877225.txt\n",
            "wiki-sample/956675.txt\n",
            "wiki-sample/3262301.txt\n",
            "wiki-sample/8111143.txt\n",
            "wiki-sample/199895.txt\n",
            "wiki-sample/6089438.txt\n",
            "wiki-sample/408911.txt\n",
            "wiki-sample/10166892.txt\n",
            "wiki-sample/3353783.txt\n",
            "wiki-sample/10124818.txt\n",
            "wiki-sample/10234496.txt\n",
            "wiki-sample/1567192.txt\n",
            "wiki-sample/1594036.txt\n",
            "wiki-sample/5005988.txt\n",
            "wiki-sample/1135616.txt\n",
            "wiki-sample/2187581.txt\n",
            "wiki-sample/133263.txt\n",
            "wiki-sample/12225559.txt\n",
            "wiki-sample/2733639.txt\n",
            "wiki-sample/5570769.txt\n",
            "wiki-sample/2035129.txt\n",
            "wiki-sample/382137.txt\n",
            "wiki-sample/1558861.txt\n",
            "wiki-sample/5375784.txt\n",
            "wiki-sample/5810259.txt\n",
            "wiki-sample/2266956.txt\n",
            "wiki-sample/1942533.txt\n",
            "wiki-sample/2856390.txt\n",
            "wiki-sample/1014366.txt\n",
            "wiki-sample/4108803.txt\n",
            "wiki-sample/5353747.txt\n",
            "wiki-sample/10899786.txt\n",
            "wiki-sample/6269873.txt\n",
            "wiki-sample/5493795.txt\n",
            "wiki-sample/893944.txt\n",
            "wiki-sample/513452.txt\n",
            "wiki-sample/1811409.txt\n",
            "wiki-sample/1755283.txt\n",
            "wiki-sample/2899662.txt\n",
            "wiki-sample/5351252.txt\n",
            "wiki-sample/11831453.txt\n",
            "wiki-sample/42898.txt\n",
            "wiki-sample/617891.txt\n",
            "wiki-sample/2562894.txt\n",
            "wiki-sample/5368920.txt\n",
            "wiki-sample/2338743.txt\n",
            "wiki-sample/10857666.txt\n",
            "wiki-sample/107130.txt\n",
            "wiki-sample/54513.txt\n",
            "wiki-sample/2057640.txt\n",
            "wiki-sample/1698429.txt\n",
            "wiki-sample/174797.txt\n",
            "wiki-sample/2362332.txt\n",
            "wiki-sample/6221632.txt\n",
            "wiki-sample/8587844.txt\n",
            "wiki-sample/3526090.txt\n",
            "wiki-sample/1961706.txt\n",
            "wiki-sample/3524206.txt\n",
            "wiki-sample/4553515.txt\n",
            "wiki-sample/2953716.txt\n",
            "wiki-sample/7712583.txt\n",
            "wiki-sample/1862206.txt\n",
            "wiki-sample/899197.txt\n",
            "wiki-sample/10723858.txt\n",
            "wiki-sample/443163.txt\n",
            "wiki-sample/31551.txt\n",
            "wiki-sample/7693333.txt\n",
            "wiki-sample/4367854.txt\n",
            "wiki-sample/3080961.txt\n",
            "wiki-sample/5010143.txt\n",
            "wiki-sample/3544368.txt\n",
            "wiki-sample/1212378.txt\n",
            "wiki-sample/1790220.txt\n",
            "wiki-sample/10099120.txt\n",
            "wiki-sample/16774.txt\n",
            "wiki-sample/5811406.txt\n",
            "wiki-sample/144324.txt\n",
            "wiki-sample/528718.txt\n",
            "wiki-sample/1038806.txt\n",
            "wiki-sample/8712152.txt\n",
            "wiki-sample/630071.txt\n",
            "wiki-sample/10197698.txt\n",
            "wiki-sample/126322.txt\n",
            "wiki-sample/333481.txt\n",
            "wiki-sample/2271615.txt\n",
            "wiki-sample/10212398.txt\n",
            "wiki-sample/5044056.txt\n",
            "wiki-sample/1890743.txt\n",
            "wiki-sample/3303825.txt\n",
            "wiki-sample/7285770.txt\n",
            "wiki-sample/13107816.txt\n",
            "wiki-sample/1809793.txt\n",
            "wiki-sample/8524927.txt\n",
            "wiki-sample/37608.txt\n",
            "wiki-sample/5507439.txt\n",
            "wiki-sample/3133666.txt\n",
            "wiki-sample/11754604.txt\n",
            "wiki-sample/10489186.txt\n",
            "wiki-sample/5762195.txt\n",
            "wiki-sample/2899009.txt\n",
            "wiki-sample/183316.txt\n",
            "wiki-sample/10827430.txt\n",
            "wiki-sample/11082135.txt\n",
            "wiki-sample/3835221.txt\n",
            "wiki-sample/7904635.txt\n",
            "wiki-sample/4406531.txt\n",
            "wiki-sample/939956.txt\n",
            "wiki-sample/7996081.txt\n",
            "wiki-sample/362662.txt\n",
            "wiki-sample/500210.txt\n",
            "wiki-sample/11480694.txt\n",
            "wiki-sample/2900387.txt\n",
            "wiki-sample/6190266.txt\n",
            "wiki-sample/3747254.txt\n",
            "wiki-sample/4871890.txt\n",
            "wiki-sample/3373084.txt\n",
            "wiki-sample/255698.txt\n",
            "wiki-sample/10881051.txt\n",
            "wiki-sample/7937955.txt\n",
            "wiki-sample/5643213.txt\n",
            "wiki-sample/1146.txt\n",
            "wiki-sample/4968365.txt\n",
            "wiki-sample/7169024.txt\n",
            "wiki-sample/2689943.txt\n",
            "wiki-sample/1219802.txt\n",
            "wiki-sample/3379680.txt\n",
            "wiki-sample/1155437.txt\n",
            "wiki-sample/2331462.txt\n",
            "wiki-sample/13102610.txt\n",
            "wiki-sample/3238431.txt\n",
            "wiki-sample/1972929.txt\n",
            "wiki-sample/12564240.txt\n",
            "wiki-sample/3469151.txt\n",
            "wiki-sample/8405301.txt\n",
            "wiki-sample/8269381.txt\n",
            "wiki-sample/1404167.txt\n",
            "wiki-sample/2428454.txt\n",
            "wiki-sample/394774.txt\n",
            "wiki-sample/114820.txt\n",
            "wiki-sample/1630035.txt\n",
            "wiki-sample/6746513.txt\n",
            "wiki-sample/1851388.txt\n",
            "wiki-sample/10625708.txt\n",
            "wiki-sample/3937805.txt\n",
            "wiki-sample/1754621.txt\n",
            "wiki-sample/1184175.txt\n",
            "wiki-sample/2704229.txt\n",
            "wiki-sample/110727.txt\n",
            "wiki-sample/6843280.txt\n",
            "wiki-sample/4284231.txt\n",
            "wiki-sample/5946799.txt\n",
            "wiki-sample/11121604.txt\n",
            "wiki-sample/132466.txt\n",
            "wiki-sample/336981.txt\n",
            "wiki-sample/1435283.txt\n",
            "wiki-sample/3957707.txt\n",
            "wiki-sample/996305.txt\n",
            "wiki-sample/10852220.txt\n",
            "wiki-sample/9443747.txt\n",
            "wiki-sample/7525784.txt\n",
            "wiki-sample/5030211.txt\n",
            "wiki-sample/2996121.txt\n",
            "wiki-sample/1676879.txt\n",
            "wiki-sample/8430629.txt\n",
            "wiki-sample/1819750.txt\n",
            "wiki-sample/138652.txt\n",
            "wiki-sample/109065.txt\n",
            "wiki-sample/2011265.txt\n",
            "wiki-sample/1135335.txt\n",
            "wiki-sample/6282305.txt\n",
            "wiki-sample/7270899.txt\n",
            "wiki-sample/2599525.txt\n",
            "wiki-sample/40514.txt\n",
            "wiki-sample/2266246.txt\n",
            "wiki-sample/8354873.txt\n",
            "wiki-sample/11885300.txt\n",
            "wiki-sample/2186702.txt\n",
            "wiki-sample/12818193.txt\n",
            "wiki-sample/1488232.txt\n",
            "wiki-sample/10466696.txt\n",
            "wiki-sample/1394124.txt\n",
            "wiki-sample/1492603.txt\n",
            "wiki-sample/4496784.txt\n",
            "wiki-sample/10145841.txt\n",
            "wiki-sample/13041409.txt\n",
            "wiki-sample/1640900.txt\n",
            "wiki-sample/174976.txt\n",
            "wiki-sample/1049118.txt\n",
            "wiki-sample/3551495.txt\n",
            "wiki-sample/10219599.txt\n",
            "wiki-sample/1560455.txt\n",
            "wiki-sample/494904.txt\n",
            "wiki-sample/5184646.txt\n",
            "wiki-sample/5644238.txt\n",
            "wiki-sample/2034358.txt\n",
            "wiki-sample/2500383.txt\n",
            "wiki-sample/3113714.txt\n",
            "wiki-sample/7489527.txt\n",
            "wiki-sample/6928507.txt\n",
            "wiki-sample/11292488.txt\n",
            "wiki-sample/164225.txt\n",
            "wiki-sample/10167435.txt\n",
            "wiki-sample/9975117.txt\n",
            "wiki-sample/4449583.txt\n",
            "wiki-sample/848132.txt\n",
            "wiki-sample/58354.txt\n",
            "wiki-sample/135707.txt\n",
            "wiki-sample/5313868.txt\n",
            "wiki-sample/11067243.txt\n",
            "wiki-sample/4671403.txt\n",
            "wiki-sample/5515446.txt\n",
            "wiki-sample/979204.txt\n",
            "wiki-sample/6441421.txt\n",
            "wiki-sample/1471690.txt\n",
            "wiki-sample/3989798.txt\n",
            "wiki-sample/3575643.txt\n",
            "wiki-sample/246670.txt\n",
            "wiki-sample/12385428.txt\n",
            "wiki-sample/10675435.txt\n",
            "wiki-sample/1620623.txt\n",
            "wiki-sample/2350700.txt\n",
            "wiki-sample/6912446.txt\n",
            "wiki-sample/11372843.txt\n",
            "wiki-sample/2444143.txt\n",
            "wiki-sample/6705211.txt\n",
            "wiki-sample/10050306.txt\n",
            "wiki-sample/916440.txt\n",
            "wiki-sample/2772263.txt\n",
            "wiki-sample/10004259.txt\n",
            "wiki-sample/960593.txt\n",
            "wiki-sample/95697.txt\n",
            "wiki-sample/250979.txt\n",
            "wiki-sample/1978336.txt\n",
            "wiki-sample/541704.txt\n",
            "wiki-sample/17932.txt\n",
            "wiki-sample/5718336.txt\n",
            "wiki-sample/174791.txt\n",
            "wiki-sample/3505837.txt\n",
            "wiki-sample/5095127.txt\n",
            "wiki-sample/55892.txt\n",
            "wiki-sample/8798035.txt\n",
            "wiki-sample/631338.txt\n",
            "wiki-sample/8747137.txt\n",
            "wiki-sample/3234514.txt\n",
            "wiki-sample/3781874.txt\n",
            "wiki-sample/747142.txt\n",
            "wiki-sample/474321.txt\n",
            "wiki-sample/1421188.txt\n",
            "wiki-sample/6364076.txt\n",
            "wiki-sample/1266840.txt\n",
            "wiki-sample/5610327.txt\n",
            "wiki-sample/3772619.txt\n",
            "wiki-sample/122952.txt\n",
            "wiki-sample/9584958.txt\n",
            "wiki-sample/4305696.txt\n",
            "wiki-sample/11464575.txt\n",
            "wiki-sample/11015280.txt\n",
            "wiki-sample/6029607.txt\n",
            "wiki-sample/1020789.txt\n",
            "wiki-sample/4233900.txt\n",
            "wiki-sample/3194579.txt\n",
            "wiki-sample/711146.txt\n",
            "wiki-sample/446253.txt\n",
            "wiki-sample/370703.txt\n",
            "wiki-sample/134927.txt\n",
            "wiki-sample/4223190.txt\n",
            "wiki-sample/2438564.txt\n",
            "wiki-sample/6673622.txt\n",
            "wiki-sample/481605.txt\n",
            "wiki-sample/1117969.txt\n",
            "wiki-sample/6914950.txt\n",
            "wiki-sample/5666023.txt\n",
            "wiki-sample/1006649.txt\n",
            "wiki-sample/3696984.txt\n",
            "wiki-sample/3154608.txt\n",
            "wiki-sample/1248352.txt\n",
            "wiki-sample/1304654.txt\n",
            "wiki-sample/1056946.txt\n",
            "wiki-sample/50621.txt\n",
            "wiki-sample/1779807.txt\n",
            "wiki-sample/410081.txt\n",
            "wiki-sample/1551872.txt\n",
            "wiki-sample/1336596.txt\n",
            "wiki-sample/218856.txt\n",
            "wiki-sample/9531581.txt\n",
            "wiki-sample/1140453.txt\n",
            "wiki-sample/1771538.txt\n",
            "wiki-sample/6302821.txt\n",
            "wiki-sample/154331.txt\n",
            "wiki-sample/854028.txt\n",
            "wiki-sample/5829168.txt\n",
            "wiki-sample/6012755.txt\n",
            "wiki-sample/2529575.txt\n",
            "wiki-sample/604560.txt\n",
            "wiki-sample/132806.txt\n",
            "wiki-sample/8474735.txt\n",
            "wiki-sample/2141436.txt\n",
            "wiki-sample/704011.txt\n",
            "wiki-sample/1203084.txt\n",
            "wiki-sample/5969831.txt\n",
            "wiki-sample/2594991.txt\n",
            "wiki-sample/659.txt\n",
            "wiki-sample/6382762.txt\n",
            "wiki-sample/2528829.txt\n",
            "wiki-sample/9702435.txt\n",
            "wiki-sample/8251478.txt\n",
            "wiki-sample/4170165.txt\n",
            "wiki-sample/1582017.txt\n",
            "wiki-sample/114540.txt\n",
            "wiki-sample/1147647.txt\n",
            "wiki-sample/589063.txt\n",
            "wiki-sample/1735677.txt\n",
            "wiki-sample/375280.txt\n",
            "wiki-sample/1973023.txt\n",
            "wiki-sample/4472402.txt\n",
            "wiki-sample/3058020.txt\n",
            "wiki-sample/20621.txt\n",
            "wiki-sample/10832034.txt\n",
            "wiki-sample/434032.txt\n",
            "wiki-sample/11897342.txt\n",
            "wiki-sample/352939.txt\n",
            "wiki-sample/582284.txt\n",
            "wiki-sample/130054.txt\n",
            "wiki-sample/10745098.txt\n",
            "wiki-sample/2029608.txt\n",
            "wiki-sample/622061.txt\n",
            "wiki-sample/2607364.txt\n",
            "wiki-sample/11871893.txt\n",
            "wiki-sample/2487817.txt\n",
            "wiki-sample/2430273.txt\n",
            "wiki-sample/2736085.txt\n",
            "wiki-sample/115578.txt\n",
            "wiki-sample/5389306.txt\n",
            "wiki-sample/8611306.txt\n",
            "wiki-sample/4694873.txt\n",
            "wiki-sample/11107526.txt\n",
            "wiki-sample/2150115.txt\n",
            "wiki-sample/1010475.txt\n",
            "wiki-sample/7070579.txt\n",
            "wiki-sample/4119397.txt\n",
            "wiki-sample/1994999.txt\n",
            "wiki-sample/3410964.txt\n",
            "wiki-sample/108491.txt\n",
            "wiki-sample/121647.txt\n",
            "wiki-sample/151212.txt\n",
            "wiki-sample/13107271.txt\n",
            "wiki-sample/4059701.txt\n",
            "wiki-sample/8081933.txt\n",
            "wiki-sample/4014675.txt\n",
            "wiki-sample/7979610.txt\n",
            "wiki-sample/1585224.txt\n",
            "wiki-sample/3294161.txt\n",
            "wiki-sample/129985.txt\n",
            "wiki-sample/3418523.txt\n",
            "wiki-sample/8201829.txt\n",
            "wiki-sample/9765899.txt\n",
            "wiki-sample/987480.txt\n",
            "wiki-sample/9662168.txt\n",
            "wiki-sample/10182821.txt\n",
            "wiki-sample/8610421.txt\n",
            "wiki-sample/3745386.txt\n",
            "wiki-sample/6258621.txt\n",
            "wiki-sample/5598684.txt\n",
            "wiki-sample/260003.txt\n",
            "wiki-sample/2564610.txt\n",
            "wiki-sample/10774053.txt\n",
            "wiki-sample/12279551.txt\n",
            "wiki-sample/10442595.txt\n",
            "wiki-sample/849999.txt\n",
            "wiki-sample/2660828.txt\n",
            "wiki-sample/10753161.txt\n",
            "wiki-sample/11851311.txt\n",
            "wiki-sample/8413646.txt\n",
            "wiki-sample/7612633.txt\n",
            "wiki-sample/5213646.txt\n",
            "wiki-sample/1188352.txt\n",
            "wiki-sample/5063642.txt\n",
            "wiki-sample/9335082.txt\n",
            "wiki-sample/8435954.txt\n",
            "wiki-sample/135581.txt\n",
            "wiki-sample/3683494.txt\n",
            "wiki-sample/445022.txt\n",
            "wiki-sample/38264.txt\n",
            "wiki-sample/7777485.txt\n",
            "wiki-sample/5432049.txt\n",
            "wiki-sample/11829786.txt\n",
            "wiki-sample/4991824.txt\n",
            "wiki-sample/923203.txt\n",
            "wiki-sample/12494039.txt\n",
            "wiki-sample/1943426.txt\n",
            "wiki-sample/135306.txt\n",
            "wiki-sample/10297102.txt\n",
            "wiki-sample/1129275.txt\n",
            "wiki-sample/3536485.txt\n",
            "wiki-sample/162039.txt\n",
            "wiki-sample/7751062.txt\n",
            "wiki-sample/66185.txt\n",
            "wiki-sample/10237671.txt\n",
            "wiki-sample/524033.txt\n",
            "wiki-sample/10685654.txt\n",
            "wiki-sample/5473982.txt\n",
            "wiki-sample/3369066.txt\n",
            "wiki-sample/9447813.txt\n",
            "wiki-sample/1787249.txt\n",
            "wiki-sample/5750994.txt\n",
            "wiki-sample/12093645.txt\n",
            "wiki-sample/5018128.txt\n",
            "wiki-sample/38134.txt\n",
            "wiki-sample/2571181.txt\n",
            "wiki-sample/122725.txt\n",
            "wiki-sample/3666797.txt\n",
            "wiki-sample/9286877.txt\n",
            "wiki-sample/1544445.txt\n",
            "wiki-sample/408384.txt\n",
            "wiki-sample/11064.txt\n",
            "wiki-sample/10559042.txt\n",
            "wiki-sample/295123.txt\n",
            "wiki-sample/3749849.txt\n",
            "wiki-sample/95652.txt\n",
            "wiki-sample/3071431.txt\n",
            "wiki-sample/11502846.txt\n",
            "wiki-sample/1010711.txt\n",
            "wiki-sample/9847563.txt\n",
            "wiki-sample/470178.txt\n",
            "wiki-sample/wiki_test_sample.hdf5\n",
            "wiki-sample/11688020.txt\n",
            "wiki-sample/70904.txt\n",
            "wiki-sample/10015052.txt\n",
            "wiki-sample/3115771.txt\n",
            "wiki-sample/4355989.txt\n",
            "wiki-sample/1184990.txt\n",
            "wiki-sample/429274.txt\n",
            "wiki-sample/1049169.txt\n",
            "wiki-sample/4384157.txt\n",
            "wiki-sample/9622343.txt\n",
            "wiki-sample/4467052.txt\n",
            "wiki-sample/879650.txt\n",
            "wiki-sample/664402.txt\n",
            "wiki-sample/5209770.txt\n",
            "wiki-sample/1251285.txt\n",
            "wiki-sample/1901705.txt\n",
            "wiki-sample/114703.txt\n",
            "wiki-sample/10346175.txt\n",
            "wiki-sample/1667630.txt\n",
            "wiki-sample/6052262.txt\n",
            "wiki-sample/3379101.txt\n",
            "wiki-sample/10432473.txt\n",
            "wiki-sample/13058293.txt\n",
            "wiki-sample/1197312.txt\n",
            "wiki-sample/125154.txt\n",
            "wiki-sample/60078.txt\n",
            "wiki-sample/5643247.txt\n",
            "wiki-sample/584630.txt\n",
            "wiki-sample/3920388.txt\n",
            "wiki-sample/246325.txt\n",
            "wiki-sample/550750.txt\n",
            "wiki-sample/1750251.txt\n",
            "wiki-sample/8786760.txt\n",
            "wiki-sample/2964042.txt\n",
            "wiki-sample/10679047.txt\n",
            "wiki-sample/9614518.txt\n",
            "wiki-sample/377691.txt\n",
            "wiki-sample/3836551.txt\n",
            "wiki-sample/318417.txt\n",
            "wiki-sample/326510.txt\n",
            "wiki-sample/2722722.txt\n",
            "wiki-sample/9286720.txt\n",
            "wiki-sample/464137.txt\n",
            "wiki-sample/568990.txt\n",
            "wiki-sample/660161.txt\n",
            "wiki-sample/9591541.txt\n",
            "wiki-sample/11082971.txt\n",
            "wiki-sample/237489.txt\n",
            "wiki-sample/4092880.txt\n",
            "wiki-sample/38261.txt\n",
            "wiki-sample/1857489.txt\n",
            "wiki-sample/4276920.txt\n",
            "wiki-sample/3708293.txt\n",
            "wiki-sample/6973461.txt\n",
            "wiki-sample/7883178.txt\n",
            "wiki-sample/3113151.txt\n",
            "wiki-sample/2228504.txt\n",
            "wiki-sample/1631931.txt\n",
            "wiki-sample/3162760.txt\n",
            "wiki-sample/3030557.txt\n",
            "wiki-sample/8090862.txt\n",
            "wiki-sample/10155034.txt\n",
            "wiki-sample/2856914.txt\n",
            "wiki-sample/6903187.txt\n",
            "wiki-sample/104812.txt\n",
            "wiki-sample/9433535.txt\n",
            "wiki-sample/12063874.txt\n",
            "wiki-sample/2145488.txt\n",
            "wiki-sample/564971.txt\n",
            "wiki-sample/39878.txt\n",
            "wiki-sample/400154.txt\n",
            "wiki-sample/81101.txt\n",
            "wiki-sample/99794.txt\n",
            "wiki-sample/8376433.txt\n",
            "wiki-sample/839725.txt\n",
            "wiki-sample/2515236.txt\n",
            "wiki-sample/11376444.txt\n",
            "wiki-sample/3107628.txt\n",
            "wiki-sample/6588958.txt\n",
            "wiki-sample/6993953.txt\n",
            "wiki-sample/3459901.txt\n",
            "wiki-sample/441881.txt\n",
            "wiki-sample/4793820.txt\n",
            "wiki-sample/420482.txt\n",
            "wiki-sample/4328730.txt\n",
            "wiki-sample/1249101.txt\n",
            "wiki-sample/11183047.txt\n",
            "wiki-sample/129406.txt\n",
            "wiki-sample/11825448.txt\n",
            "wiki-sample/6153766.txt\n",
            "wiki-sample/9210380.txt\n",
            "wiki-sample/6544448.txt\n",
            "wiki-sample/478837.txt\n",
            "wiki-sample/3628043.txt\n",
            "wiki-sample/82328.txt\n",
            "wiki-sample/43958.txt\n",
            "wiki-sample/486946.txt\n",
            "wiki-sample/11438281.txt\n",
            "wiki-sample/260224.txt\n",
            "wiki-sample/2191424.txt\n",
            "wiki-sample/11236362.txt\n",
            "wiki-sample/6311803.txt\n",
            "wiki-sample/2308416.txt\n",
            "wiki-sample/1080892.txt\n",
            "wiki-sample/7440585.txt\n",
            "wiki-sample/11534459.txt\n",
            "wiki-sample/2287777.txt\n",
            "wiki-sample/1390724.txt\n",
            "wiki-sample/13061715.txt\n",
            "wiki-sample/1738759.txt\n",
            "wiki-sample/3512639.txt\n",
            "wiki-sample/409981.txt\n",
            "wiki-sample/9323628.txt\n",
            "wiki-sample/6756230.txt\n",
            "wiki-sample/129228.txt\n",
            "wiki-sample/879695.txt\n",
            "wiki-sample/869.txt\n",
            "wiki-sample/3123924.txt\n",
            "wiki-sample/7549976.txt\n",
            "wiki-sample/446701.txt\n",
            "wiki-sample/2839471.txt\n",
            "wiki-sample/10979.txt\n",
            "wiki-sample/5991785.txt\n",
            "wiki-sample/2511313.txt\n",
            "wiki-sample/12088715.txt\n",
            "wiki-sample/12319109.txt\n",
            "wiki-sample/1563894.txt\n",
            "wiki-sample/9587136.txt\n",
            "wiki-sample/3102751.txt\n",
            "wiki-sample/3249760.txt\n",
            "wiki-sample/1397886.txt\n",
            "wiki-sample/1792393.txt\n",
            "wiki-sample/5810429.txt\n",
            "wiki-sample/294810.txt\n",
            "wiki-sample/7263157.txt\n",
            "wiki-sample/5365672.txt\n",
            "wiki-sample/6514039.txt\n",
            "wiki-sample/146773.txt\n",
            "wiki-sample/1248565.txt\n",
            "wiki-sample/11394081.txt\n",
            "wiki-sample/9551430.txt\n",
            "wiki-sample/4233700.txt\n",
            "wiki-sample/203189.txt\n",
            "wiki-sample/179828.txt\n",
            "wiki-sample/3417532.txt\n",
            "wiki-sample/5218172.txt\n",
            "wiki-sample/5830941.txt\n",
            "wiki-sample/6205407.txt\n",
            "wiki-sample/6919200.txt\n",
            "wiki-sample/241759.txt\n",
            "wiki-sample/998585.txt\n",
            "wiki-sample/520293.txt\n",
            "wiki-sample/1344074.txt\n",
            "wiki-sample/10585298.txt\n",
            "wiki-sample/1734107.txt\n",
            "wiki-sample/2279786.txt\n",
            "wiki-sample/11188092.txt\n",
            "wiki-sample/464208.txt\n",
            "wiki-sample/11803796.txt\n",
            "wiki-sample/106984.txt\n",
            "wiki-sample/2171403.txt\n",
            "wiki-sample/7021898.txt\n",
            "wiki-sample/329716.txt\n",
            "wiki-sample/233264.txt\n",
            "wiki-sample/12586044.txt\n",
            "wiki-sample/7896061.txt\n",
            "wiki-sample/4773704.txt\n",
            "wiki-sample/2792132.txt\n",
            "wiki-sample/5438930.txt\n",
            "wiki-sample/926530.txt\n",
            "wiki-sample/3155306.txt\n",
            "wiki-sample/9129087.txt\n",
            "wiki-sample/12650157.txt\n",
            "wiki-sample/2841541.txt\n",
            "wiki-sample/4419161.txt\n",
            "wiki-sample/2106706.txt\n",
            "wiki-sample/786191.txt\n",
            "wiki-sample/524780.txt\n",
            "wiki-sample/3296395.txt\n",
            "wiki-sample/4486455.txt\n",
            "wiki-sample/7738173.txt\n",
            "wiki-sample/111350.txt\n",
            "wiki-sample/2383035.txt\n",
            "wiki-sample/12198464.txt\n",
            "wiki-sample/1408225.txt\n",
            "wiki-sample/2033473.txt\n",
            "wiki-sample/9993738.txt\n",
            "wiki-sample/1186928.txt\n",
            "wiki-sample/3113910.txt\n",
            "wiki-sample/5832666.txt\n",
            "wiki-sample/5879737.txt\n",
            "wiki-sample/1779496.txt\n",
            "wiki-sample/151444.txt\n",
            "wiki-sample/28360.txt\n",
            "wiki-sample/3625459.txt\n",
            "wiki-sample/6487991.txt\n",
            "wiki-sample/5857346.txt\n",
            "wiki-sample/2444607.txt\n",
            "wiki-sample/623633.txt\n",
            "wiki-sample/9158523.txt\n",
            "wiki-sample/891118.txt\n",
            "wiki-sample/3656526.txt\n",
            "wiki-sample/11916830.txt\n",
            "wiki-sample/10674007.txt\n",
            "wiki-sample/9716755.txt\n",
            "wiki-sample/3832875.txt\n",
            "wiki-sample/612214.txt\n",
            "wiki-sample/6563306.txt\n",
            "wiki-sample/10058033.txt\n",
            "wiki-sample/2001690.txt\n",
            "wiki-sample/12885117.txt\n",
            "wiki-sample/79448.txt\n",
            "wiki-sample/12984.txt\n",
            "wiki-sample/191875.txt\n",
            "wiki-sample/11979828.txt\n",
            "wiki-sample/1573030.txt\n",
            "wiki-sample/463210.txt\n",
            "wiki-sample/1968917.txt\n",
            "wiki-sample/4430278.txt\n",
            "wiki-sample/2980423.txt\n",
            "wiki-sample/4688495.txt\n",
            "wiki-sample/4195451.txt\n",
            "wiki-sample/6946727.txt\n",
            "wiki-sample/445169.txt\n",
            "wiki-sample/2143460.txt\n",
            "wiki-sample/10263989.txt\n",
            "wiki-sample/393876.txt\n",
            "wiki-sample/841643.txt\n",
            "wiki-sample/288561.txt\n",
            "wiki-sample/1249680.txt\n",
            "wiki-sample/12629301.txt\n",
            "wiki-sample/1276759.txt\n",
            "wiki-sample/1590289.txt\n",
            "wiki-sample/772462.txt\n",
            "wiki-sample/290507.txt\n",
            "wiki-sample/407925.txt\n",
            "wiki-sample/840815.txt\n",
            "wiki-sample/10980121.txt\n",
            "wiki-sample/12362623.txt\n",
            "wiki-sample/1770362.txt\n",
            "wiki-sample/1101054.txt\n",
            "wiki-sample/164860.txt\n",
            "wiki-sample/10109914.txt\n",
            "wiki-sample/3559656.txt\n",
            "wiki-sample/298487.txt\n",
            "wiki-sample/140536.txt\n",
            "wiki-sample/2408334.txt\n",
            "wiki-sample/9105593.txt\n",
            "wiki-sample/9506545.txt\n",
            "wiki-sample/6099726.txt\n",
            "wiki-sample/1470415.txt\n",
            "wiki-sample/9324844.txt\n",
            "wiki-sample/8669050.txt\n",
            "wiki-sample/514835.txt\n",
            "wiki-sample/5368394.txt\n",
            "wiki-sample/2387015.txt\n",
            "wiki-sample/1072514.txt\n",
            "wiki-sample/3097579.txt\n",
            "wiki-sample/2553707.txt\n",
            "wiki-sample/1134975.txt\n",
            "wiki-sample/11859176.txt\n",
            "wiki-sample/875547.txt\n",
            "wiki-sample/337532.txt\n",
            "wiki-sample/2317360.txt\n",
            "wiki-sample/126528.txt\n",
            "wiki-sample/337101.txt\n",
            "wiki-sample/5446995.txt\n",
            "wiki-sample/2213720.txt\n",
            "wiki-sample/2045600.txt\n",
            "wiki-sample/3296230.txt\n",
            "wiki-sample/21781.txt\n",
            "wiki-sample/726552.txt\n",
            "wiki-sample/2026543.txt\n",
            "wiki-sample/758337.txt\n",
            "wiki-sample/5662905.txt\n",
            "wiki-sample/729163.txt\n",
            "wiki-sample/2258953.txt\n",
            "wiki-sample/3188273.txt\n",
            "wiki-sample/3102398.txt\n",
            "wiki-sample/530907.txt\n",
            "wiki-sample/10339413.txt\n",
            "wiki-sample/11133985.txt\n",
            "wiki-sample/10826457.txt\n",
            "wiki-sample/10437305.txt\n",
            "wiki-sample/891981.txt\n",
            "wiki-sample/7096219.txt\n",
            "wiki-sample/3274210.txt\n",
            "wiki-sample/2249053.txt\n",
            "wiki-sample/452108.txt\n",
            "wiki-sample/1269856.txt\n",
            "wiki-sample/1476231.txt\n",
            "wiki-sample/1486031.txt\n",
            "wiki-sample/5278652.txt\n",
            "wiki-sample/981459.txt\n",
            "wiki-sample/3299635.txt\n",
            "wiki-sample/128118.txt\n",
            "wiki-sample/2266330.txt\n",
            "wiki-sample/3865753.txt\n",
            "wiki-sample/11740178.txt\n",
            "/content/SliceCast\n"
          ],
          "name": "stdout"
        }
      ]
    },
    {
      "cell_type": "code",
      "metadata": {
        "colab": {
          "base_uri": "https://localhost:8080/"
        },
        "id": "wTALdtbP3E9O",
        "outputId": "c5fe698c-37ff-45ca-c632-26a828b13287"
      },
      "source": [
        "!pip uninstall -y tensorflow"
      ],
      "execution_count": null,
      "outputs": [
        {
          "output_type": "stream",
          "text": [
            "\u001b[33mWARNING: Skipping tensorflow as it is not installed.\u001b[0m\n"
          ],
          "name": "stdout"
        }
      ]
    },
    {
      "cell_type": "code",
      "metadata": {
        "colab": {
          "base_uri": "https://localhost:8080/",
          "height": 1000
        },
        "id": "kUrFk7mRjK4e",
        "outputId": "f48ead43-a34d-4f25-cd9b-d66d491d16c3"
      },
      "source": [
        "!pip install keras==2.3.0\n",
        "!pip install tensorflow-hub==0.10.0\n",
        "!pip install tensorflow==1.15"
      ],
      "execution_count": null,
      "outputs": [
        {
          "output_type": "stream",
          "text": [
            "Collecting keras==2.3.0\n",
            "\u001b[?25l  Downloading https://files.pythonhosted.org/packages/1b/18/2e1ef121e5560ac24c7ac9e363aa5fa7006c40563c989e7211aba95b793a/Keras-2.3.0-py2.py3-none-any.whl (377kB)\n",
            "\r\u001b[K     |▉                               | 10kB 19.8MB/s eta 0:00:01\r\u001b[K     |█▊                              | 20kB 27.3MB/s eta 0:00:01\r\u001b[K     |██▋                             | 30kB 31.7MB/s eta 0:00:01\r\u001b[K     |███▌                            | 40kB 32.7MB/s eta 0:00:01\r\u001b[K     |████▍                           | 51kB 34.3MB/s eta 0:00:01\r\u001b[K     |█████▏                          | 61kB 36.0MB/s eta 0:00:01\r\u001b[K     |██████                          | 71kB 29.1MB/s eta 0:00:01\r\u001b[K     |███████                         | 81kB 30.0MB/s eta 0:00:01\r\u001b[K     |███████▉                        | 92kB 31.4MB/s eta 0:00:01\r\u001b[K     |████████▊                       | 102kB 30.9MB/s eta 0:00:01\r\u001b[K     |█████████▌                      | 112kB 30.9MB/s eta 0:00:01\r\u001b[K     |██████████▍                     | 122kB 30.9MB/s eta 0:00:01\r\u001b[K     |███████████▎                    | 133kB 30.9MB/s eta 0:00:01\r\u001b[K     |████████████▏                   | 143kB 30.9MB/s eta 0:00:01\r\u001b[K     |█████████████                   | 153kB 30.9MB/s eta 0:00:01\r\u001b[K     |█████████████▉                  | 163kB 30.9MB/s eta 0:00:01\r\u001b[K     |██████████████▊                 | 174kB 30.9MB/s eta 0:00:01\r\u001b[K     |███████████████▋                | 184kB 30.9MB/s eta 0:00:01\r\u001b[K     |████████████████▌               | 194kB 30.9MB/s eta 0:00:01\r\u001b[K     |█████████████████▍              | 204kB 30.9MB/s eta 0:00:01\r\u001b[K     |██████████████████▎             | 215kB 30.9MB/s eta 0:00:01\r\u001b[K     |███████████████████             | 225kB 30.9MB/s eta 0:00:01\r\u001b[K     |████████████████████            | 235kB 30.9MB/s eta 0:00:01\r\u001b[K     |████████████████████▉           | 245kB 30.9MB/s eta 0:00:01\r\u001b[K     |█████████████████████▊          | 256kB 30.9MB/s eta 0:00:01\r\u001b[K     |██████████████████████▋         | 266kB 30.9MB/s eta 0:00:01\r\u001b[K     |███████████████████████▍        | 276kB 30.9MB/s eta 0:00:01\r\u001b[K     |████████████████████████▎       | 286kB 30.9MB/s eta 0:00:01\r\u001b[K     |█████████████████████████▏      | 296kB 30.9MB/s eta 0:00:01\r\u001b[K     |██████████████████████████      | 307kB 30.9MB/s eta 0:00:01\r\u001b[K     |███████████████████████████     | 317kB 30.9MB/s eta 0:00:01\r\u001b[K     |███████████████████████████▊    | 327kB 30.9MB/s eta 0:00:01\r\u001b[K     |████████████████████████████▋   | 337kB 30.9MB/s eta 0:00:01\r\u001b[K     |█████████████████████████████▌  | 348kB 30.9MB/s eta 0:00:01\r\u001b[K     |██████████████████████████████▍ | 358kB 30.9MB/s eta 0:00:01\r\u001b[K     |███████████████████████████████▎| 368kB 30.9MB/s eta 0:00:01\r\u001b[K     |████████████████████████████████| 378kB 30.9MB/s \n",
            "\u001b[?25hRequirement already satisfied: keras-applications>=1.0.6 in /usr/local/lib/python3.7/dist-packages (from keras==2.3.0) (1.0.7)\n",
            "Requirement already satisfied: pyyaml in /usr/local/lib/python3.7/dist-packages (from keras==2.3.0) (3.13)\n",
            "Requirement already satisfied: h5py in /usr/local/lib/python3.7/dist-packages (from keras==2.3.0) (2.9.0)\n",
            "Requirement already satisfied: numpy>=1.9.1 in /usr/local/lib/python3.7/dist-packages (from keras==2.3.0) (1.16.3)\n",
            "Requirement already satisfied: scipy>=0.14 in /usr/local/lib/python3.7/dist-packages (from keras==2.3.0) (1.4.1)\n",
            "Requirement already satisfied: six>=1.9.0 in /usr/local/lib/python3.7/dist-packages (from keras==2.3.0) (1.12.0)\n",
            "Requirement already satisfied: keras-preprocessing>=1.0.5 in /usr/local/lib/python3.7/dist-packages (from keras==2.3.0) (1.0.9)\n",
            "Installing collected packages: keras\n",
            "  Found existing installation: Keras 2.4.3\n",
            "    Uninstalling Keras-2.4.3:\n",
            "      Successfully uninstalled Keras-2.4.3\n",
            "Successfully installed keras-2.3.0\n",
            "Collecting tensorflow-hub==0.10.0\n",
            "\u001b[?25l  Downloading https://files.pythonhosted.org/packages/a7/e6/1163df86cd14f066690cee9959bf6d92a0cc7bf25e0549b3ce05cd318617/tensorflow_hub-0.10.0-py2.py3-none-any.whl (107kB)\n",
            "\u001b[K     |████████████████████████████████| 112kB 25.1MB/s \n",
            "\u001b[?25hCollecting protobuf>=3.8.0\n",
            "\u001b[?25l  Downloading https://files.pythonhosted.org/packages/bb/f8/07b65b1c3a2334208208b8161857fd9c19f69ab5d2c5314ef5f0b5f07aa5/protobuf-3.17.1-cp37-cp37m-manylinux_2_5_x86_64.manylinux1_x86_64.whl (1.0MB)\n",
            "\u001b[K     |████████████████████████████████| 1.0MB 40.9MB/s \n",
            "\u001b[?25hRequirement already satisfied: numpy>=1.12.0 in /usr/local/lib/python3.7/dist-packages (from tensorflow-hub==0.10.0) (1.16.3)\n",
            "Requirement already satisfied: six>=1.9 in /usr/local/lib/python3.7/dist-packages (from protobuf>=3.8.0->tensorflow-hub==0.10.0) (1.12.0)\n",
            "\u001b[31mERROR: google-api-core 1.26.3 has requirement six>=1.13.0, but you'll have six 1.12.0 which is incompatible.\u001b[0m\n",
            "Installing collected packages: protobuf, tensorflow-hub\n",
            "  Found existing installation: protobuf 3.7.1\n",
            "    Uninstalling protobuf-3.7.1:\n",
            "      Successfully uninstalled protobuf-3.7.1\n",
            "  Found existing installation: tensorflow-hub 0.4.0\n",
            "    Uninstalling tensorflow-hub-0.4.0:\n",
            "      Successfully uninstalled tensorflow-hub-0.4.0\n",
            "Successfully installed protobuf-3.17.1 tensorflow-hub-0.10.0\n"
          ],
          "name": "stdout"
        },
        {
          "output_type": "display_data",
          "data": {
            "application/vnd.colab-display-data+json": {
              "pip_warning": {
                "packages": [
                  "google"
                ]
              }
            }
          },
          "metadata": {
            "tags": []
          }
        },
        {
          "output_type": "stream",
          "text": [
            "Collecting tensorflow==1.15\n",
            "\u001b[?25l  Downloading https://files.pythonhosted.org/packages/92/2b/e3af15221da9ff323521565fa3324b0d7c7c5b1d7a8ca66984c8d59cb0ce/tensorflow-1.15.0-cp37-cp37m-manylinux2010_x86_64.whl (412.3MB)\n",
            "\u001b[K     |████████████████████████████████| 412.3MB 39kB/s \n",
            "\u001b[?25hRequirement already satisfied: numpy<2.0,>=1.16.0 in /usr/local/lib/python3.7/dist-packages (from tensorflow==1.15) (1.16.3)\n",
            "Requirement already satisfied: grpcio>=1.8.6 in /usr/local/lib/python3.7/dist-packages (from tensorflow==1.15) (1.19.0)\n",
            "Collecting wrapt>=1.11.1\n",
            "  Downloading https://files.pythonhosted.org/packages/82/f7/e43cefbe88c5fd371f4cf0cf5eb3feccd07515af9fd6cf7dbf1d1793a797/wrapt-1.12.1.tar.gz\n",
            "Requirement already satisfied: astor>=0.6.0 in /usr/local/lib/python3.7/dist-packages (from tensorflow==1.15) (0.7.1)\n",
            "Requirement already satisfied: keras-preprocessing>=1.0.5 in /usr/local/lib/python3.7/dist-packages (from tensorflow==1.15) (1.0.9)\n",
            "Requirement already satisfied: google-pasta>=0.1.6 in /usr/local/lib/python3.7/dist-packages (from tensorflow==1.15) (0.2.0)\n",
            "Requirement already satisfied: opt-einsum>=2.3.2 in /usr/local/lib/python3.7/dist-packages (from tensorflow==1.15) (3.3.0)\n",
            "Requirement already satisfied: termcolor>=1.1.0 in /usr/local/lib/python3.7/dist-packages (from tensorflow==1.15) (1.1.0)\n",
            "Requirement already satisfied: protobuf>=3.6.1 in /usr/local/lib/python3.7/dist-packages (from tensorflow==1.15) (3.17.1)\n",
            "Requirement already satisfied: six>=1.10.0 in /usr/local/lib/python3.7/dist-packages (from tensorflow==1.15) (1.12.0)\n",
            "Collecting tensorboard<1.16.0,>=1.15.0\n",
            "\u001b[?25l  Downloading https://files.pythonhosted.org/packages/1e/e9/d3d747a97f7188f48aa5eda486907f3b345cd409f0a0850468ba867db246/tensorboard-1.15.0-py3-none-any.whl (3.8MB)\n",
            "\u001b[K     |████████████████████████████████| 3.8MB 32.2MB/s \n",
            "\u001b[?25hRequirement already satisfied: wheel>=0.26 in /usr/local/lib/python3.7/dist-packages (from tensorflow==1.15) (0.36.2)\n",
            "Requirement already satisfied: absl-py>=0.7.0 in /usr/local/lib/python3.7/dist-packages (from tensorflow==1.15) (0.7.0)\n",
            "Requirement already satisfied: gast==0.2.2 in /usr/local/lib/python3.7/dist-packages (from tensorflow==1.15) (0.2.2)\n",
            "Collecting tensorflow-estimator==1.15.1\n",
            "\u001b[?25l  Downloading https://files.pythonhosted.org/packages/de/62/2ee9cd74c9fa2fa450877847ba560b260f5d0fb70ee0595203082dafcc9d/tensorflow_estimator-1.15.1-py2.py3-none-any.whl (503kB)\n",
            "\u001b[K     |████████████████████████████████| 512kB 56.4MB/s \n",
            "\u001b[?25hCollecting keras-applications>=1.0.8\n",
            "\u001b[?25l  Downloading https://files.pythonhosted.org/packages/71/e3/19762fdfc62877ae9102edf6342d71b28fbfd9dea3d2f96a882ce099b03f/Keras_Applications-1.0.8-py3-none-any.whl (50kB)\n",
            "\u001b[K     |████████████████████████████████| 51kB 8.5MB/s \n",
            "\u001b[?25hRequirement already satisfied: markdown>=2.6.8 in /usr/local/lib/python3.7/dist-packages (from tensorboard<1.16.0,>=1.15.0->tensorflow==1.15) (3.0.1)\n",
            "Requirement already satisfied: werkzeug>=0.11.15 in /usr/local/lib/python3.7/dist-packages (from tensorboard<1.16.0,>=1.15.0->tensorflow==1.15) (0.14.1)\n",
            "Requirement already satisfied: setuptools>=41.0.0 in /usr/local/lib/python3.7/dist-packages (from tensorboard<1.16.0,>=1.15.0->tensorflow==1.15) (56.1.0)\n",
            "Requirement already satisfied: h5py in /usr/local/lib/python3.7/dist-packages (from keras-applications>=1.0.8->tensorflow==1.15) (2.9.0)\n",
            "Building wheels for collected packages: wrapt\n",
            "  Building wheel for wrapt (setup.py) ... \u001b[?25l\u001b[?25hdone\n",
            "  Created wheel for wrapt: filename=wrapt-1.12.1-cp37-cp37m-linux_x86_64.whl size=68661 sha256=fc558c8bf21b809237f80c312bbdf3fe5190398f4b5b88f3fedffb4bc1e47c7e\n",
            "  Stored in directory: /root/.cache/pip/wheels/b1/c2/ed/d62208260edbd3fa7156545c00ef966f45f2063d0a84f8208a\n",
            "Successfully built wrapt\n",
            "\u001b[31mERROR: thinc 6.12.1 has requirement wrapt<1.11.0,>=1.10.0, but you'll have wrapt 1.12.1 which is incompatible.\u001b[0m\n",
            "\u001b[31mERROR: tensorflow-gpu 1.13.1 has requirement tensorboard<1.14.0,>=1.13.0, but you'll have tensorboard 1.15.0 which is incompatible.\u001b[0m\n",
            "\u001b[31mERROR: tensorflow-gpu 1.13.1 has requirement tensorflow-estimator<1.14.0rc0,>=1.13.0, but you'll have tensorflow-estimator 1.15.1 which is incompatible.\u001b[0m\n",
            "\u001b[31mERROR: kapre 0.3.5 has requirement numpy>=1.18.5, but you'll have numpy 1.16.3 which is incompatible.\u001b[0m\n",
            "\u001b[31mERROR: kapre 0.3.5 has requirement tensorflow>=2.0.0, but you'll have tensorflow 1.15.0 which is incompatible.\u001b[0m\n",
            "Installing collected packages: wrapt, tensorboard, tensorflow-estimator, keras-applications, tensorflow\n",
            "  Found existing installation: wrapt 1.10.11\n",
            "    Uninstalling wrapt-1.10.11:\n",
            "      Successfully uninstalled wrapt-1.10.11\n",
            "  Found existing installation: tensorboard 1.13.1\n",
            "    Uninstalling tensorboard-1.13.1:\n",
            "      Successfully uninstalled tensorboard-1.13.1\n",
            "  Found existing installation: tensorflow-estimator 1.13.0\n",
            "    Uninstalling tensorflow-estimator-1.13.0:\n",
            "      Successfully uninstalled tensorflow-estimator-1.13.0\n",
            "  Found existing installation: Keras-Applications 1.0.7\n",
            "    Uninstalling Keras-Applications-1.0.7:\n",
            "      Successfully uninstalled Keras-Applications-1.0.7\n",
            "Successfully installed keras-applications-1.0.8 tensorboard-1.15.0 tensorflow-1.15.0 tensorflow-estimator-1.15.1 wrapt-1.12.1\n"
          ],
          "name": "stdout"
        }
      ]
    },
    {
      "cell_type": "code",
      "metadata": {
        "colab": {
          "base_uri": "https://localhost:8080/"
        },
        "id": "6Fx9x2iwi-K0",
        "outputId": "febe490b-695c-4cfe-85a8-640e3009fdd4"
      },
      "source": [
        "import nltk\n",
        "nltk.download('stopwords')"
      ],
      "execution_count": null,
      "outputs": [
        {
          "output_type": "stream",
          "text": [
            "[nltk_data] Downloading package stopwords to /root/nltk_data...\n",
            "[nltk_data]   Unzipping corpora/stopwords.zip.\n"
          ],
          "name": "stdout"
        },
        {
          "output_type": "execute_result",
          "data": {
            "text/plain": [
              "True"
            ]
          },
          "metadata": {
            "tags": []
          },
          "execution_count": 11
        }
      ]
    },
    {
      "cell_type": "code",
      "metadata": {
        "id": "HH23Lqilj_U4"
      },
      "source": [
        "import tensorflow.compat.v1 as tf\n",
        "tf.disable_eager_execution()"
      ],
      "execution_count": null,
      "outputs": []
    },
    {
      "cell_type": "code",
      "metadata": {
        "colab": {
          "base_uri": "https://localhost:8080/",
          "height": 400
        },
        "id": "dTE0SwB91tPn",
        "outputId": "ff0287ec-da28-44da-f2b3-8a5c4002e141"
      },
      "source": [
        "from src.SliceNet import SliceNet\n",
        "from src.netUtils import getSingleExample\n",
        "import matplotlib.pyplot as plt\n",
        "from pathlib import Path\n",
        "import numpy as np\n",
        "import pandas as pd\n",
        "import seaborn as sns\n",
        "import random\n",
        "import math\n",
        "\n",
        "import warnings\n",
        "warnings.filterwarnings('ignore')\n",
        "\n",
        "import tensorflow as tf\n",
        "tf.logging.set_verbosity(tf.logging.ERROR)\n",
        "import os\n",
        "os.environ['TF_CPP_MIN_LOG_LEVEL'] = '3'\n",
        "if type(tf.contrib) != type(tf): tf.contrib._warning = None\n",
        "%load_ext autoreload\n",
        "%autoreload 2"
      ],
      "execution_count": null,
      "outputs": [
        {
          "output_type": "stream",
          "text": [
            "Using TensorFlow backend.\n"
          ],
          "name": "stderr"
        },
        {
          "output_type": "error",
          "ename": "AttributeError",
          "evalue": "ignored",
          "traceback": [
            "\u001b[0;31m---------------------------------------------------------------------------\u001b[0m",
            "\u001b[0;31mAttributeError\u001b[0m                            Traceback (most recent call last)",
            "\u001b[0;32m<ipython-input-13-5d6a61f0d0be>\u001b[0m in \u001b[0;36m<module>\u001b[0;34m()\u001b[0m\n\u001b[0;32m----> 1\u001b[0;31m \u001b[0;32mfrom\u001b[0m \u001b[0msrc\u001b[0m\u001b[0;34m.\u001b[0m\u001b[0mSliceNet\u001b[0m \u001b[0;32mimport\u001b[0m \u001b[0mSliceNet\u001b[0m\u001b[0;34m\u001b[0m\u001b[0;34m\u001b[0m\u001b[0m\n\u001b[0m\u001b[1;32m      2\u001b[0m \u001b[0;32mfrom\u001b[0m \u001b[0msrc\u001b[0m\u001b[0;34m.\u001b[0m\u001b[0mnetUtils\u001b[0m \u001b[0;32mimport\u001b[0m \u001b[0mgetSingleExample\u001b[0m\u001b[0;34m\u001b[0m\u001b[0;34m\u001b[0m\u001b[0m\n\u001b[1;32m      3\u001b[0m \u001b[0;32mimport\u001b[0m \u001b[0mmatplotlib\u001b[0m\u001b[0;34m.\u001b[0m\u001b[0mpyplot\u001b[0m \u001b[0;32mas\u001b[0m \u001b[0mplt\u001b[0m\u001b[0;34m\u001b[0m\u001b[0;34m\u001b[0m\u001b[0m\n\u001b[1;32m      4\u001b[0m \u001b[0;32mfrom\u001b[0m \u001b[0mpathlib\u001b[0m \u001b[0;32mimport\u001b[0m \u001b[0mPath\u001b[0m\u001b[0;34m\u001b[0m\u001b[0;34m\u001b[0m\u001b[0m\n\u001b[1;32m      5\u001b[0m \u001b[0;32mimport\u001b[0m \u001b[0mnumpy\u001b[0m \u001b[0;32mas\u001b[0m \u001b[0mnp\u001b[0m\u001b[0;34m\u001b[0m\u001b[0;34m\u001b[0m\u001b[0m\n",
            "\u001b[0;32m/content/SliceCast/src/SliceNet.py\u001b[0m in \u001b[0;36m<module>\u001b[0;34m()\u001b[0m\n\u001b[1;32m      6\u001b[0m \u001b[0;32mimport\u001b[0m \u001b[0mtensorflow_hub\u001b[0m \u001b[0;32mas\u001b[0m \u001b[0mhub\u001b[0m\u001b[0;34m\u001b[0m\u001b[0;34m\u001b[0m\u001b[0m\n\u001b[1;32m      7\u001b[0m \u001b[0;32mimport\u001b[0m \u001b[0mnumpy\u001b[0m \u001b[0;32mas\u001b[0m \u001b[0mnp\u001b[0m\u001b[0;34m\u001b[0m\u001b[0;34m\u001b[0m\u001b[0m\n\u001b[0;32m----> 8\u001b[0;31m \u001b[0;32mfrom\u001b[0m \u001b[0msrc\u001b[0m\u001b[0;34m.\u001b[0m\u001b[0mnetUtils\u001b[0m \u001b[0;32mimport\u001b[0m \u001b[0mbatchGen\u001b[0m\u001b[0;34m,\u001b[0m \u001b[0mgetTestSet\u001b[0m\u001b[0;34m,\u001b[0m \u001b[0mcustomCatLoss\u001b[0m\u001b[0;34m\u001b[0m\u001b[0;34m\u001b[0m\u001b[0m\n\u001b[0m\u001b[1;32m      9\u001b[0m \u001b[0;32mfrom\u001b[0m \u001b[0msrc\u001b[0m\u001b[0;34m.\u001b[0m\u001b[0mpostprocess\u001b[0m \u001b[0;32mimport\u001b[0m \u001b[0mpkHistory\u001b[0m\u001b[0;34m,\u001b[0m \u001b[0mpkbatch\u001b[0m\u001b[0;34m\u001b[0m\u001b[0;34m\u001b[0m\u001b[0m\n\u001b[1;32m     10\u001b[0m \u001b[0;32mimport\u001b[0m \u001b[0mh5py\u001b[0m\u001b[0;34m\u001b[0m\u001b[0;34m\u001b[0m\u001b[0m\n",
            "\u001b[0;32m/content/SliceCast/src/netUtils.py\u001b[0m in \u001b[0;36m<module>\u001b[0;34m()\u001b[0m\n\u001b[1;32m      4\u001b[0m \u001b[0;32mimport\u001b[0m \u001b[0mnumpy\u001b[0m \u001b[0;32mas\u001b[0m \u001b[0mnp\u001b[0m\u001b[0;34m\u001b[0m\u001b[0;34m\u001b[0m\u001b[0m\n\u001b[1;32m      5\u001b[0m \u001b[0;32mimport\u001b[0m \u001b[0mtensorflow\u001b[0m \u001b[0;32mas\u001b[0m \u001b[0mtf\u001b[0m\u001b[0;34m\u001b[0m\u001b[0;34m\u001b[0m\u001b[0m\n\u001b[0;32m----> 6\u001b[0;31m \u001b[0;32mfrom\u001b[0m \u001b[0mkeras\u001b[0m\u001b[0;34m.\u001b[0m\u001b[0mutils\u001b[0m \u001b[0;32mimport\u001b[0m \u001b[0mSequence\u001b[0m\u001b[0;34m,\u001b[0m \u001b[0mto_categorical\u001b[0m\u001b[0;34m\u001b[0m\u001b[0;34m\u001b[0m\u001b[0m\n\u001b[0m\u001b[1;32m      7\u001b[0m \u001b[0;32mfrom\u001b[0m \u001b[0mtensorflow\u001b[0m\u001b[0;34m.\u001b[0m\u001b[0mkeras\u001b[0m\u001b[0;34m.\u001b[0m\u001b[0mpreprocessing\u001b[0m\u001b[0;34m.\u001b[0m\u001b[0msequence\u001b[0m \u001b[0;32mimport\u001b[0m \u001b[0mpad_sequences\u001b[0m\u001b[0;34m\u001b[0m\u001b[0;34m\u001b[0m\u001b[0m\n\u001b[1;32m      8\u001b[0m \u001b[0;32mfrom\u001b[0m \u001b[0msklearn\u001b[0m\u001b[0;34m.\u001b[0m\u001b[0mutils\u001b[0m \u001b[0;32mimport\u001b[0m \u001b[0mshuffle\u001b[0m\u001b[0;34m\u001b[0m\u001b[0;34m\u001b[0m\u001b[0m\n",
            "\u001b[0;32m/usr/local/lib/python3.7/dist-packages/keras/__init__.py\u001b[0m in \u001b[0;36m<module>\u001b[0;34m()\u001b[0m\n\u001b[1;32m      1\u001b[0m \u001b[0;32mfrom\u001b[0m \u001b[0m__future__\u001b[0m \u001b[0;32mimport\u001b[0m \u001b[0mabsolute_import\u001b[0m\u001b[0;34m\u001b[0m\u001b[0;34m\u001b[0m\u001b[0m\n\u001b[1;32m      2\u001b[0m \u001b[0;34m\u001b[0m\u001b[0m\n\u001b[0;32m----> 3\u001b[0;31m \u001b[0;32mfrom\u001b[0m \u001b[0;34m.\u001b[0m \u001b[0;32mimport\u001b[0m \u001b[0mutils\u001b[0m\u001b[0;34m\u001b[0m\u001b[0;34m\u001b[0m\u001b[0m\n\u001b[0m\u001b[1;32m      4\u001b[0m \u001b[0;32mfrom\u001b[0m \u001b[0;34m.\u001b[0m \u001b[0;32mimport\u001b[0m \u001b[0mactivations\u001b[0m\u001b[0;34m\u001b[0m\u001b[0;34m\u001b[0m\u001b[0m\n\u001b[1;32m      5\u001b[0m \u001b[0;32mfrom\u001b[0m \u001b[0;34m.\u001b[0m \u001b[0;32mimport\u001b[0m \u001b[0mapplications\u001b[0m\u001b[0;34m\u001b[0m\u001b[0;34m\u001b[0m\u001b[0m\n",
            "\u001b[0;32m/usr/local/lib/python3.7/dist-packages/keras/utils/__init__.py\u001b[0m in \u001b[0;36m<module>\u001b[0;34m()\u001b[0m\n\u001b[1;32m     24\u001b[0m \u001b[0;32mfrom\u001b[0m \u001b[0;34m.\u001b[0m\u001b[0mlayer_utils\u001b[0m \u001b[0;32mimport\u001b[0m \u001b[0mget_source_inputs\u001b[0m\u001b[0;34m\u001b[0m\u001b[0;34m\u001b[0m\u001b[0m\n\u001b[1;32m     25\u001b[0m \u001b[0;32mfrom\u001b[0m \u001b[0;34m.\u001b[0m\u001b[0mlayer_utils\u001b[0m \u001b[0;32mimport\u001b[0m \u001b[0mprint_summary\u001b[0m\u001b[0;34m\u001b[0m\u001b[0;34m\u001b[0m\u001b[0m\n\u001b[0;32m---> 26\u001b[0;31m \u001b[0;32mfrom\u001b[0m \u001b[0;34m.\u001b[0m\u001b[0mvis_utils\u001b[0m \u001b[0;32mimport\u001b[0m \u001b[0mmodel_to_dot\u001b[0m\u001b[0;34m\u001b[0m\u001b[0;34m\u001b[0m\u001b[0m\n\u001b[0m\u001b[1;32m     27\u001b[0m \u001b[0;32mfrom\u001b[0m \u001b[0;34m.\u001b[0m\u001b[0mvis_utils\u001b[0m \u001b[0;32mimport\u001b[0m \u001b[0mplot_model\u001b[0m\u001b[0;34m\u001b[0m\u001b[0;34m\u001b[0m\u001b[0m\n\u001b[1;32m     28\u001b[0m \u001b[0;32mfrom\u001b[0m \u001b[0;34m.\u001b[0m\u001b[0mnp_utils\u001b[0m \u001b[0;32mimport\u001b[0m \u001b[0mto_categorical\u001b[0m\u001b[0;34m\u001b[0m\u001b[0;34m\u001b[0m\u001b[0m\n",
            "\u001b[0;32m/usr/local/lib/python3.7/dist-packages/keras/utils/vis_utils.py\u001b[0m in \u001b[0;36m<module>\u001b[0;34m()\u001b[0m\n\u001b[1;32m      5\u001b[0m \u001b[0;34m\u001b[0m\u001b[0m\n\u001b[1;32m      6\u001b[0m \u001b[0;32mimport\u001b[0m \u001b[0mos\u001b[0m\u001b[0;34m\u001b[0m\u001b[0;34m\u001b[0m\u001b[0m\n\u001b[0;32m----> 7\u001b[0;31m \u001b[0;32mfrom\u001b[0m \u001b[0;34m.\u001b[0m\u001b[0;34m.\u001b[0m\u001b[0mmodels\u001b[0m \u001b[0;32mimport\u001b[0m \u001b[0mModel\u001b[0m\u001b[0;34m\u001b[0m\u001b[0;34m\u001b[0m\u001b[0m\n\u001b[0m\u001b[1;32m      8\u001b[0m \u001b[0;32mfrom\u001b[0m \u001b[0;34m.\u001b[0m\u001b[0;34m.\u001b[0m\u001b[0mlayers\u001b[0m\u001b[0;34m.\u001b[0m\u001b[0mwrappers\u001b[0m \u001b[0;32mimport\u001b[0m \u001b[0mWrapper\u001b[0m\u001b[0;34m\u001b[0m\u001b[0;34m\u001b[0m\u001b[0m\n\u001b[1;32m      9\u001b[0m \u001b[0;34m\u001b[0m\u001b[0m\n",
            "\u001b[0;32m/usr/local/lib/python3.7/dist-packages/keras/models.py\u001b[0m in \u001b[0;36m<module>\u001b[0;34m()\u001b[0m\n\u001b[1;32m      8\u001b[0m \u001b[0;32mfrom\u001b[0m \u001b[0;34m.\u001b[0m\u001b[0mutils\u001b[0m\u001b[0;34m.\u001b[0m\u001b[0mgeneric_utils\u001b[0m \u001b[0;32mimport\u001b[0m \u001b[0mhas_arg\u001b[0m\u001b[0;34m\u001b[0m\u001b[0;34m\u001b[0m\u001b[0m\n\u001b[1;32m      9\u001b[0m \u001b[0;32mfrom\u001b[0m \u001b[0;34m.\u001b[0m\u001b[0mutils\u001b[0m\u001b[0;34m.\u001b[0m\u001b[0mgeneric_utils\u001b[0m \u001b[0;32mimport\u001b[0m \u001b[0mto_list\u001b[0m\u001b[0;34m\u001b[0m\u001b[0;34m\u001b[0m\u001b[0m\n\u001b[0;32m---> 10\u001b[0;31m \u001b[0;32mfrom\u001b[0m \u001b[0;34m.\u001b[0m\u001b[0mengine\u001b[0m\u001b[0;34m.\u001b[0m\u001b[0minput_layer\u001b[0m \u001b[0;32mimport\u001b[0m \u001b[0mInput\u001b[0m\u001b[0;34m\u001b[0m\u001b[0;34m\u001b[0m\u001b[0m\n\u001b[0m\u001b[1;32m     11\u001b[0m \u001b[0;32mfrom\u001b[0m \u001b[0;34m.\u001b[0m\u001b[0mengine\u001b[0m\u001b[0;34m.\u001b[0m\u001b[0minput_layer\u001b[0m \u001b[0;32mimport\u001b[0m \u001b[0mInputLayer\u001b[0m\u001b[0;34m\u001b[0m\u001b[0;34m\u001b[0m\u001b[0m\n\u001b[1;32m     12\u001b[0m \u001b[0;32mfrom\u001b[0m \u001b[0;34m.\u001b[0m\u001b[0mengine\u001b[0m\u001b[0;34m.\u001b[0m\u001b[0mtraining\u001b[0m \u001b[0;32mimport\u001b[0m \u001b[0mModel\u001b[0m\u001b[0;34m\u001b[0m\u001b[0;34m\u001b[0m\u001b[0m\n",
            "\u001b[0;32m/usr/local/lib/python3.7/dist-packages/keras/engine/__init__.py\u001b[0m in \u001b[0;36m<module>\u001b[0;34m()\u001b[0m\n\u001b[1;32m      1\u001b[0m \u001b[0;31m# note: `Node` is an internal class,\u001b[0m\u001b[0;34m\u001b[0m\u001b[0;34m\u001b[0m\u001b[0;34m\u001b[0m\u001b[0m\n\u001b[1;32m      2\u001b[0m \u001b[0;31m# it isn't meant to be used by Keras users.\u001b[0m\u001b[0;34m\u001b[0m\u001b[0;34m\u001b[0m\u001b[0;34m\u001b[0m\u001b[0m\n\u001b[0;32m----> 3\u001b[0;31m \u001b[0;32mfrom\u001b[0m \u001b[0;34m.\u001b[0m\u001b[0minput_layer\u001b[0m \u001b[0;32mimport\u001b[0m \u001b[0mInput\u001b[0m\u001b[0;34m\u001b[0m\u001b[0;34m\u001b[0m\u001b[0m\n\u001b[0m\u001b[1;32m      4\u001b[0m \u001b[0;32mfrom\u001b[0m \u001b[0;34m.\u001b[0m\u001b[0minput_layer\u001b[0m \u001b[0;32mimport\u001b[0m \u001b[0mInputLayer\u001b[0m\u001b[0;34m\u001b[0m\u001b[0;34m\u001b[0m\u001b[0m\n\u001b[1;32m      5\u001b[0m \u001b[0;32mfrom\u001b[0m \u001b[0;34m.\u001b[0m\u001b[0mbase_layer\u001b[0m \u001b[0;32mimport\u001b[0m \u001b[0mInputSpec\u001b[0m\u001b[0;34m\u001b[0m\u001b[0;34m\u001b[0m\u001b[0m\n",
            "\u001b[0;32m/usr/local/lib/python3.7/dist-packages/keras/engine/input_layer.py\u001b[0m in \u001b[0;36m<module>\u001b[0;34m()\u001b[0m\n\u001b[1;32m      5\u001b[0m \u001b[0;32mfrom\u001b[0m \u001b[0m__future__\u001b[0m \u001b[0;32mimport\u001b[0m \u001b[0mdivision\u001b[0m\u001b[0;34m\u001b[0m\u001b[0;34m\u001b[0m\u001b[0m\n\u001b[1;32m      6\u001b[0m \u001b[0;34m\u001b[0m\u001b[0m\n\u001b[0;32m----> 7\u001b[0;31m \u001b[0;32mfrom\u001b[0m \u001b[0;34m.\u001b[0m\u001b[0mbase_layer\u001b[0m \u001b[0;32mimport\u001b[0m \u001b[0mLayer\u001b[0m\u001b[0;34m\u001b[0m\u001b[0;34m\u001b[0m\u001b[0m\n\u001b[0m\u001b[1;32m      8\u001b[0m \u001b[0;32mfrom\u001b[0m \u001b[0;34m.\u001b[0m\u001b[0mbase_layer\u001b[0m \u001b[0;32mimport\u001b[0m \u001b[0mNode\u001b[0m\u001b[0;34m\u001b[0m\u001b[0;34m\u001b[0m\u001b[0m\n\u001b[1;32m      9\u001b[0m \u001b[0;32mfrom\u001b[0m \u001b[0;34m.\u001b[0m\u001b[0;34m.\u001b[0m \u001b[0;32mimport\u001b[0m \u001b[0mbackend\u001b[0m \u001b[0;32mas\u001b[0m \u001b[0mK\u001b[0m\u001b[0;34m\u001b[0m\u001b[0;34m\u001b[0m\u001b[0m\n",
            "\u001b[0;32m/usr/local/lib/python3.7/dist-packages/keras/engine/base_layer.py\u001b[0m in \u001b[0;36m<module>\u001b[0;34m()\u001b[0m\n\u001b[1;32m     10\u001b[0m \u001b[0;34m\u001b[0m\u001b[0m\n\u001b[1;32m     11\u001b[0m \u001b[0;32mfrom\u001b[0m \u001b[0;34m.\u001b[0m\u001b[0;34m.\u001b[0m \u001b[0;32mimport\u001b[0m \u001b[0mbackend\u001b[0m \u001b[0;32mas\u001b[0m \u001b[0mK\u001b[0m\u001b[0;34m\u001b[0m\u001b[0;34m\u001b[0m\u001b[0m\n\u001b[0;32m---> 12\u001b[0;31m \u001b[0;32mfrom\u001b[0m \u001b[0;34m.\u001b[0m\u001b[0;34m.\u001b[0m \u001b[0;32mimport\u001b[0m \u001b[0minitializers\u001b[0m\u001b[0;34m\u001b[0m\u001b[0;34m\u001b[0m\u001b[0m\n\u001b[0m\u001b[1;32m     13\u001b[0m \u001b[0;32mfrom\u001b[0m \u001b[0;34m.\u001b[0m\u001b[0;34m.\u001b[0m\u001b[0mutils\u001b[0m\u001b[0;34m.\u001b[0m\u001b[0mlayer_utils\u001b[0m \u001b[0;32mimport\u001b[0m \u001b[0mcount_params\u001b[0m\u001b[0;34m\u001b[0m\u001b[0;34m\u001b[0m\u001b[0m\n\u001b[1;32m     14\u001b[0m \u001b[0;32mfrom\u001b[0m \u001b[0;34m.\u001b[0m\u001b[0;34m.\u001b[0m\u001b[0mutils\u001b[0m\u001b[0;34m.\u001b[0m\u001b[0mgeneric_utils\u001b[0m \u001b[0;32mimport\u001b[0m \u001b[0mhas_arg\u001b[0m\u001b[0;34m\u001b[0m\u001b[0;34m\u001b[0m\u001b[0m\n",
            "\u001b[0;32m/usr/local/lib/python3.7/dist-packages/keras/initializers/__init__.py\u001b[0m in \u001b[0;36m<module>\u001b[0;34m()\u001b[0m\n\u001b[1;32m    122\u001b[0m \u001b[0;31m# from ALL_OBJECTS. We make no guarantees as to whether these objects will\u001b[0m\u001b[0;34m\u001b[0m\u001b[0;34m\u001b[0m\u001b[0;34m\u001b[0m\u001b[0m\n\u001b[1;32m    123\u001b[0m \u001b[0;31m# using their correct version.\u001b[0m\u001b[0;34m\u001b[0m\u001b[0;34m\u001b[0m\u001b[0;34m\u001b[0m\u001b[0m\n\u001b[0;32m--> 124\u001b[0;31m \u001b[0mpopulate_deserializable_objects\u001b[0m\u001b[0;34m(\u001b[0m\u001b[0;34m)\u001b[0m\u001b[0;34m\u001b[0m\u001b[0;34m\u001b[0m\u001b[0m\n\u001b[0m\u001b[1;32m    125\u001b[0m \u001b[0mglobals\u001b[0m\u001b[0;34m(\u001b[0m\u001b[0;34m)\u001b[0m\u001b[0;34m.\u001b[0m\u001b[0mupdate\u001b[0m\u001b[0;34m(\u001b[0m\u001b[0mLOCAL\u001b[0m\u001b[0;34m.\u001b[0m\u001b[0mALL_OBJECTS\u001b[0m\u001b[0;34m)\u001b[0m\u001b[0;34m\u001b[0m\u001b[0;34m\u001b[0m\u001b[0m\n\u001b[1;32m    126\u001b[0m \u001b[0;34m\u001b[0m\u001b[0m\n",
            "\u001b[0;32m/usr/local/lib/python3.7/dist-packages/keras/initializers/__init__.py\u001b[0m in \u001b[0;36mpopulate_deserializable_objects\u001b[0;34m()\u001b[0m\n\u001b[1;32m     47\u001b[0m \u001b[0;34m\u001b[0m\u001b[0m\n\u001b[1;32m     48\u001b[0m   \u001b[0mLOCAL\u001b[0m\u001b[0;34m.\u001b[0m\u001b[0mALL_OBJECTS\u001b[0m \u001b[0;34m=\u001b[0m \u001b[0;34m{\u001b[0m\u001b[0;34m}\u001b[0m\u001b[0;34m\u001b[0m\u001b[0;34m\u001b[0m\u001b[0m\n\u001b[0;32m---> 49\u001b[0;31m   \u001b[0mLOCAL\u001b[0m\u001b[0;34m.\u001b[0m\u001b[0mGENERATED_WITH_V2\u001b[0m \u001b[0;34m=\u001b[0m \u001b[0mtf\u001b[0m\u001b[0;34m.\u001b[0m\u001b[0m__internal__\u001b[0m\u001b[0;34m.\u001b[0m\u001b[0mtf2\u001b[0m\u001b[0;34m.\u001b[0m\u001b[0menabled\u001b[0m\u001b[0;34m(\u001b[0m\u001b[0;34m)\u001b[0m\u001b[0;34m\u001b[0m\u001b[0;34m\u001b[0m\u001b[0m\n\u001b[0m\u001b[1;32m     50\u001b[0m \u001b[0;34m\u001b[0m\u001b[0m\n\u001b[1;32m     51\u001b[0m   \u001b[0;31m# Compatibility aliases (need to exist in both V1 and V2).\u001b[0m\u001b[0;34m\u001b[0m\u001b[0;34m\u001b[0m\u001b[0;34m\u001b[0m\u001b[0m\n",
            "\u001b[0;32m/usr/local/lib/python3.7/dist-packages/tensorflow_core/python/util/module_wrapper.py\u001b[0m in \u001b[0;36m__getattr__\u001b[0;34m(self, name)\u001b[0m\n\u001b[1;32m    191\u001b[0m   \u001b[0;32mdef\u001b[0m \u001b[0m__getattr__\u001b[0m\u001b[0;34m(\u001b[0m\u001b[0mself\u001b[0m\u001b[0;34m,\u001b[0m \u001b[0mname\u001b[0m\u001b[0;34m)\u001b[0m\u001b[0;34m:\u001b[0m\u001b[0;34m\u001b[0m\u001b[0;34m\u001b[0m\u001b[0m\n\u001b[1;32m    192\u001b[0m     \u001b[0;32mtry\u001b[0m\u001b[0;34m:\u001b[0m\u001b[0;34m\u001b[0m\u001b[0;34m\u001b[0m\u001b[0m\n\u001b[0;32m--> 193\u001b[0;31m       \u001b[0mattr\u001b[0m \u001b[0;34m=\u001b[0m \u001b[0mgetattr\u001b[0m\u001b[0;34m(\u001b[0m\u001b[0mself\u001b[0m\u001b[0;34m.\u001b[0m\u001b[0m_tfmw_wrapped_module\u001b[0m\u001b[0;34m,\u001b[0m \u001b[0mname\u001b[0m\u001b[0;34m)\u001b[0m\u001b[0;34m\u001b[0m\u001b[0;34m\u001b[0m\u001b[0m\n\u001b[0m\u001b[1;32m    194\u001b[0m     \u001b[0;32mexcept\u001b[0m \u001b[0mAttributeError\u001b[0m\u001b[0;34m:\u001b[0m\u001b[0;34m\u001b[0m\u001b[0;34m\u001b[0m\u001b[0m\n\u001b[1;32m    195\u001b[0m       \u001b[0;32mif\u001b[0m \u001b[0;32mnot\u001b[0m \u001b[0mself\u001b[0m\u001b[0;34m.\u001b[0m\u001b[0m_tfmw_public_apis\u001b[0m\u001b[0;34m:\u001b[0m\u001b[0;34m\u001b[0m\u001b[0;34m\u001b[0m\u001b[0m\n",
            "\u001b[0;31mAttributeError\u001b[0m: module 'tensorflow._api.v1.compat.v2' has no attribute '__internal__'"
          ]
        }
      ]
    },
    {
      "cell_type": "code",
      "metadata": {
        "id": "bD-1ncrW14HZ"
      },
      "source": [
        "# Choose whether to use the base network or the network with self-attention\n",
        "attention = True\n",
        "\n",
        "# Current best networks\n",
        "best_base_wiki = 'models/04_20_2019_2300_final.h5'\n",
        "best_base_podcast = 'models/04_26_2019_1000_podcast.h5'\n",
        "best_attn_wiki = 'models/05_03_2019_0800_attn.h5'\n",
        "best_attn_podcast = 'models/05_02_2019_2200_attn_podcast.h5'\n",
        "\n",
        "if attention:\n",
        "    weights_wiki = best_attn_wiki\n",
        "    weights_podcast = best_attn_podcast\n",
        "else:\n",
        "    weights_wiki = best_base_wiki\n",
        "    weights_podcast = best_base_podcast\n",
        "\n",
        "net = SliceNet(classification=True,\n",
        "               class_weights=[1.0,10,0.2],\n",
        "               attention=attention)"
      ],
      "execution_count": null,
      "outputs": []
    },
    {
      "cell_type": "code",
      "metadata": {
        "colab": {
          "base_uri": "https://localhost:8080/"
        },
        "id": "usp4kLvbkoYL",
        "outputId": "995b4c9f-8386-49c1-c1fe-8cf58f7efa94"
      },
      "source": [
        "dataPath = Path('data/wiki-sample/')\n",
        "files = [str(x) for x in dataPath.glob('**/*') if x.suffix=='.hdf5']\n",
        "\n",
        "mask = random.sample(range(0,len(files)), 1)\n",
        "\n",
        "# randomly select a file to test\n",
        "test_file = [x for (i,x) in enumerate(files) if i in mask][0]\n",
        "print(test_file)"
      ],
      "execution_count": null,
      "outputs": [
        {
          "output_type": "stream",
          "text": [
            "data/wiki-sample/wiki_test_sample.hdf5\n"
          ],
          "name": "stdout"
        }
      ]
    },
    {
      "cell_type": "code",
      "metadata": {
        "colab": {
          "base_uri": "https://localhost:8080/"
        },
        "id": "fInsT4dCkzv1",
        "outputId": "bd56ab43-6e91-4cc8-f86c-ccc24f48e62e"
      },
      "source": [
        "k = 4\n",
        "num_samples = 16\n",
        "\n",
        "preds, labels, pk = net.predict(test_file=test_file,\n",
        "                                num_samples=num_samples,\n",
        "                                weights_path=weights_wiki,\n",
        "                                k=k)\n",
        "print('Average PK score with k={} on {} examples is: {:0.3f}'.format(k, num_samples, pk))\n",
        "\n"
      ],
      "execution_count": null,
      "outputs": [
        {
          "output_type": "stream",
          "text": [
            "Starting Testing\n",
            "Loaded weights from disk\n",
            "Average PK score with k=4 on 16 examples is: 0.275\n"
          ],
          "name": "stdout"
        }
      ]
    },
    {
      "cell_type": "code",
      "metadata": {
        "id": "O1bp5bxFk6qc"
      },
      "source": [
        "np.set_printoptions(suppress=True)\n",
        "# print(preds)\n",
        "preds = np.argmax(preds, axis=2)\n",
        "labels = np.argmax(labels, axis=2)"
      ],
      "execution_count": null,
      "outputs": []
    },
    {
      "cell_type": "code",
      "metadata": {
        "colab": {
          "base_uri": "https://localhost:8080/",
          "height": 353
        },
        "id": "wHhPplT2k92x",
        "outputId": "b2b7d471-3fc1-447f-9782-535be4b68fc2"
      },
      "source": [
        "# Choose the index of the document you want to examine\n",
        "idx = 1\n",
        "# You can keep running this cell with different indices to visualize different\n",
        "# documents within this batch of testing\n",
        "# Note: The graph displays n sentences where n is the length of the longest\n",
        "# document in the batch. As such, there may be padding sections at the beginning\n",
        "# of the document with label and prediction of value 2\n",
        "\n",
        "df = pd.DataFrame()\n",
        "df['preds'] = preds[idx,:]\n",
        "df['labels'] = labels[idx,:]\n",
        "df['sent_number'] = df.index\n",
        "\n",
        "fig, axes = plt.subplots(nrows=2, ncols=1)\n",
        "\n",
        "df.plot(x='sent_number', y='preds', figsize=(10,5), grid=True, ax=axes[0])\n",
        "df.plot(x='sent_number', y='labels', figsize=(10,5), grid=True, ax=axes[1], color='green')"
      ],
      "execution_count": null,
      "outputs": [
        {
          "output_type": "execute_result",
          "data": {
            "text/plain": [
              "<matplotlib.axes._subplots.AxesSubplot at 0x7f14bd138050>"
            ]
          },
          "metadata": {
            "tags": []
          },
          "execution_count": 17
        },
        {
          "output_type": "display_data",
          "data": {
            "image/png": "[encoded data removed]",
            "text/plain": [
              "<Figure size 720x360 with 2 Axes>"
            ]
          },
          "metadata": {
            "tags": []
          }
        }
      ]
    },
    {
      "cell_type": "markdown",
      "metadata": {
        "id": "IcJYVKaMoDFN"
      },
      "source": [
        "Podcast"
      ]
    },
    {
      "cell_type": "code",
      "metadata": {
        "colab": {
          "base_uri": "https://localhost:8080/"
        },
        "id": "dPaFJzB3oCNU",
        "outputId": "ba4701d4-ec61-4dc2-f05d-542c4d4c0a56"
      },
      "source": [
        "test_file = 'data/podcasts/hdf5/batch0_0.hdf5'\n",
        "k = 33\n",
        "num_samples = 2\n",
        "preds, labels, pk = net.predict(test_file=test_file,\n",
        "                    num_samples=num_samples,\n",
        "                    weights_path=weights_podcast,\n",
        "                    k=k)\n",
        "\n",
        "print('Average PK score with k={} on {} examples is: {:0.3f}'.format(k, num_samples, pk))"
      ],
      "execution_count": null,
      "outputs": [
        {
          "output_type": "stream",
          "text": [
            "Starting Testing\n",
            "Loaded weights from disk\n",
            "Average PK score with k=33 on 2 examples is: 0.321\n"
          ],
          "name": "stdout"
        }
      ]
    },
    {
      "cell_type": "code",
      "metadata": {
        "id": "wNWNGuPdm2Yu"
      },
      "source": [
        "np.set_printoptions(suppress=True)\n",
        "\n",
        "preds = np.argmax(preds, axis=2)\n",
        "labels = np.argmax(labels, axis=2)"
      ],
      "execution_count": null,
      "outputs": []
    },
    {
      "cell_type": "code",
      "metadata": {
        "colab": {
          "base_uri": "https://localhost:8080/",
          "height": 353
        },
        "id": "X6BxqYeMoNvH",
        "outputId": "a8c5d37c-90a7-473e-bb77-94b2b65e0714"
      },
      "source": [
        "# Choose the document you want to examine\n",
        "idx = 1\n",
        "\n",
        "df = pd.DataFrame()\n",
        "df['preds'] = preds[idx,:]\n",
        "df['labels'] = labels[idx,:]\n",
        "df['sent_number'] = df.index\n",
        "\n",
        "fig, axes = plt.subplots(nrows=2, ncols=1)\n",
        "\n",
        "df.plot(x='sent_number', y='preds', figsize=(10,5), grid=True, ax=axes[0])\n",
        "df.plot(x='sent_number', y='labels', figsize=(10,5), grid=True, ax=axes[1], color='green')"
      ],
      "execution_count": null,
      "outputs": [
        {
          "output_type": "execute_result",
          "data": {
            "text/plain": [
              "<matplotlib.axes._subplots.AxesSubplot at 0x7f3770155290>"
            ]
          },
          "metadata": {
            "tags": []
          },
          "execution_count": 29
        },
        {
          "output_type": "display_data",
          "data": {
            "image/png": "[encoded data removed]",
            "text/plain": [
              "<Figure size 720x360 with 2 Axes>"
            ]
          },
          "metadata": {
            "tags": []
          }
        }
      ]
    },
    {
      "cell_type": "markdown",
      "metadata": {
        "id": "C7S7Lw6eoSbs"
      },
      "source": [
        "random"
      ]
    },
    {
      "cell_type": "code",
      "metadata": {
        "id": "gEgee2g3kmfk"
      },
      "source": [
        "def pred(text_file,labels_list):\n",
        "  weights_path = weights_podcast # transfer learning\n",
        "\n",
        "  sents, labels = getSingleExample(fname=text_file, is_labeled=False)\n",
        "  sents = np.expand_dims(sents, axis=0)\n",
        "\n",
        "  preds = net.singlePredict(sents, weights_path=weights_path)\n",
        "\n",
        "  df = pd.DataFrame()\n",
        "\n",
        "  preds = np.argmax(np.squeeze(preds), axis=-1)\n",
        "  df['raw_sentences'] = sents[0]\n",
        "  \n",
        " \n",
        "\n",
        "  df['preds'] = preds\n",
        "  df['sent_number'] = df.index\n",
        "\n",
        "  fig, axes = plt.subplots(nrows=2, ncols=1)\n",
        "\n",
        "  df.plot(x='sent_number', y='preds', figsize=(10,5), grid=True, ax=axes[0])\n",
        "  # df.plot(x='sent_number', y='labels', figsize=(10,5), grid=True, ax=axes[1], color='green')\n",
        "\n",
        "  return df,sents\n"
      ],
      "execution_count": null,
      "outputs": []
    },
    {
      "cell_type": "code",
      "metadata": {
        "colab": {
          "base_uri": "https://localhost:8080/"
        },
        "id": "8dwABGe8R2sy",
        "outputId": "1cf8dd9c-61d0-4680-ef53-565163ed8c66"
      },
      "source": [
        "%cd SliceCast/"
      ],
      "execution_count": null,
      "outputs": [
        {
          "output_type": "stream",
          "text": [
            "/content/SliceCast\n"
          ],
          "name": "stdout"
        }
      ]
    },
    {
      "cell_type": "code",
      "metadata": {
        "id": "QqgH3zKyR2qa"
      },
      "source": [
        ""
      ],
      "execution_count": null,
      "outputs": []
    },
    {
      "cell_type": "code",
      "metadata": {
        "colab": {
          "base_uri": "https://localhost:8080/",
          "height": 356
        },
        "id": "YKz0HMaKlZgm",
        "outputId": "2d40f323-9680-4364-db69-d680625ed910"
      },
      "source": [
        "# os.mkdir(\"/content/splitted\")\n",
        "for ind,f in enumerate(os.listdir(\"/content/Parsed\")):\n",
        "  text = open(\"/content/Parsed/\"+f,\"r\").read()\n",
        "  l=text.split(\"\\n\",1)\n",
        "  f = open(\"/content/splitted/\"+str(ind)+\".txt\",\"w\")\n",
        "  f.write(l[1])\n",
        "  f.close()\n",
        "  label_list = l[0].split(',')\n",
        "  df,sents = pred(\"/content/splitted/\"+str(ind)+\".txt\",label_list)\n"
      ],
      "execution_count": null,
      "outputs": [
        {
          "output_type": "stream",
          "text": [
            "Starting Testing\n",
            "Loaded weights from disk\n"
          ],
          "name": "stdout"
        },
        {
          "output_type": "display_data",
          "data": {
            "image/png": "[encoded data removed]",
            "text/plain": [
              "<Figure size 720x360 with 2 Axes>"
            ]
          },
          "metadata": {
            "tags": []
          }
        }
      ]
    },
    {
      "cell_type": "code",
      "metadata": {
        "id": "a2xEQyFHQaiH"
      },
      "source": [
        "os.mkdir('/content/test')"
      ],
      "execution_count": null,
      "outputs": []
    },
    {
      "cell_type": "code",
      "metadata": {
        "id": "67Zmh6XpPN0Y"
      },
      "source": [
        "segments = []\n",
        "segment = \"\"\n",
        "for index,row in df.iterrows():\n",
        "  if row['preds'] == 1 :\n",
        "    if segment != \"\":\n",
        "      segments.append(segment)\n",
        "    segment = row['raw_sentences']\n",
        "  else:\n",
        "    segment += \"\\n\" +row['raw_sentences']\n",
        "\n",
        "if segment != \"\" and segment != segments[-1]:\n",
        "  segments.append(segment)"
      ],
      "execution_count": null,
      "outputs": []
    },
    {
      "cell_type": "code",
      "metadata": {
        "colab": {
          "base_uri": "https://localhost:8080/",
          "height": 237
        },
        "id": "FoI9iIf2RUia",
        "outputId": "257e9b09-a6bd-4960-9d94-57aa1d3395c3"
      },
      "source": [
        "df[df['preds']==1]"
      ],
      "execution_count": null,
      "outputs": [
        {
          "output_type": "execute_result",
          "data": {
            "text/html": [
              "<div>\n",
              "<style scoped>\n",
              "    .dataframe tbody tr th:only-of-type {\n",
              "        vertical-align: middle;\n",
              "    }\n",
              "\n",
              "    .dataframe tbody tr th {\n",
              "        vertical-align: top;\n",
              "    }\n",
              "\n",
              "    .dataframe thead th {\n",
              "        text-align: right;\n",
              "    }\n",
              "</style>\n",
              "<table border=\"1\" class=\"dataframe\">\n",
              "  <thead>\n",
              "    <tr style=\"text-align: right;\">\n",
              "      <th></th>\n",
              "      <th>raw_sentences</th>\n",
              "      <th>preds</th>\n",
              "      <th>sent_number</th>\n",
              "    </tr>\n",
              "  </thead>\n",
              "  <tbody>\n",
              "    <tr>\n",
              "      <th>0</th>\n",
              "      <td>{vocalsound} Um {vocalsound} minutes from the ...</td>\n",
              "      <td>1</td>\n",
              "      <td>0</td>\n",
              "    </tr>\n",
              "    <tr>\n",
              "      <th>6</th>\n",
              "      <td>So um , presentations , were you {disfmarker} ...</td>\n",
              "      <td>1</td>\n",
              "      <td>6</td>\n",
              "    </tr>\n",
              "    <tr>\n",
              "      <th>95</th>\n",
              "      <td>So um this is all about \\n Okay . {</td>\n",
              "      <td>1</td>\n",
              "      <td>95</td>\n",
              "    </tr>\n",
              "    <tr>\n",
              "      <th>170</th>\n",
              "      <td>um , but there you go , that's what we're up a...</td>\n",
              "      <td>1</td>\n",
              "      <td>170</td>\n",
              "    </tr>\n",
              "    <tr>\n",
              "      <th>192</th>\n",
              "      <td>And so the last thing I thought w which I quic...</td>\n",
              "      <td>1</td>\n",
              "      <td>192</td>\n",
              "    </tr>\n",
              "    <tr>\n",
              "      <th>479</th>\n",
              "      <td>Um no , I mean {gap} that was going on ravs uh...</td>\n",
              "      <td>1</td>\n",
              "      <td>479</td>\n",
              "    </tr>\n",
              "  </tbody>\n",
              "</table>\n",
              "</div>"
            ],
            "text/plain": [
              "                                         raw_sentences  preds  sent_number\n",
              "0    {vocalsound} Um {vocalsound} minutes from the ...      1            0\n",
              "6    So um , presentations , were you {disfmarker} ...      1            6\n",
              "95                 So um this is all about \\n Okay . {      1           95\n",
              "170  um , but there you go , that's what we're up a...      1          170\n",
              "192  And so the last thing I thought w which I quic...      1          192\n",
              "479  Um no , I mean {gap} that was going on ravs uh...      1          479"
            ]
          },
          "metadata": {
            "tags": []
          },
          "execution_count": 39
        }
      ]
    },
    {
      "cell_type": "code",
      "metadata": {
        "id": "bFPeXOYVQEwH"
      },
      "source": [
        "f = open(\"/content/test/segmented_QMsum_slice.txt\",\"w\")\n",
        "\n",
        "new_segment = \"\\n\\n\" + (\"=\")*50 + \"\\n\\n\"\n",
        "# print(new_segment)\n",
        "for segment in segments:\n",
        "  f.write(new_segment)\n",
        "  f.write(segment)\n",
        "\n",
        "f.close()"
      ],
      "execution_count": null,
      "outputs": []
    },
    {
      "cell_type": "code",
      "metadata": {
        "colab": {
          "base_uri": "https://localhost:8080/"
        },
        "id": "gaokXh9VNcp4",
        "outputId": "ccc19bb1-2975-4838-be06-540479312249"
      },
      "source": [
        "df[df['preds'] == 1]\n",
        "print(len(df['preds']))\n",
        "len(sents[0])\n",
        "t = l[1].replace(\".\",\"\\n\")\n",
        "print(len(t.split(\"\\n\")))\n",
        "print(len(l[1].split(\"\\n\")))\n"
      ],
      "execution_count": null,
      "outputs": [
        {
          "output_type": "stream",
          "text": [
            "1154\n",
            "2095\n",
            "1051\n"
          ],
          "name": "stdout"
        }
      ]
    },
    {
      "cell_type": "code",
      "metadata": {
        "id": "LwRafZRxT7rt"
      },
      "source": [
        "segments = []\n",
        "seperator = \"\\n\" + \"=\"*50 + \"\\n\"\n",
        "for sent in sents:\n",
        "  \n"
      ],
      "execution_count": null,
      "outputs": []
    },
    {
      "cell_type": "code",
      "metadata": {
        "colab": {
          "base_uri": "https://localhost:8080/"
        },
        "id": "dRa7X8oqq6u_",
        "outputId": "fa0fa89f-6e7d-4679-cb18-71d8370975b6"
      },
      "source": [
        "print(label_list)"
      ],
      "execution_count": null,
      "outputs": [
        {
          "output_type": "stream",
          "text": [
            "['0', '24', '31', '337', '343', '516', '538', '608', '']\n"
          ],
          "name": "stdout"
        }
      ]
    },
    {
      "cell_type": "code",
      "metadata": {
        "colab": {
          "base_uri": "https://localhost:8080/"
        },
        "id": "cnId7un9oQ5h",
        "outputId": "ffd49fb7-0f91-47d6-8707-1b002b504dd8"
      },
      "source": [
        "text_file = 'data/podcasts/with_timestamps/joe1254.txt'\n",
        "is_labeled = False\n",
        "weights_path = weights_podcast # transfer learning\n",
        "\n",
        "sents, labels = getSingleExample(fname=text_file, is_labeled=is_labeled)\n",
        "sents = np.expand_dims(sents, axis=0)\n",
        "\n",
        "preds = net.singlePredict(sents, weights_path=weights_path)"
      ],
      "execution_count": null,
      "outputs": [
        {
          "output_type": "stream",
          "text": [
            "Starting Testing\n",
            "Loaded weights from disk\n"
          ],
          "name": "stdout"
        }
      ]
    },
    {
      "cell_type": "code",
      "metadata": {
        "colab": {
          "base_uri": "https://localhost:8080/",
          "height": 338
        },
        "id": "qatEKnwkoaDH",
        "outputId": "389087e6-3b42-4bc9-ba0f-1bb65027c96f"
      },
      "source": [
        "df = pd.DataFrame()\n",
        "\n",
        "preds = np.argmax(np.squeeze(preds), axis=-1)\n",
        "df['raw_sentences'] = sents[0]\n",
        "if is_labeled:\n",
        "    df['labels'] = labels\n",
        "df['preds'] = preds\n",
        "df['sent_number'] = df.index\n",
        "\n",
        "fig, axes = plt.subplots(nrows=2, ncols=1)\n",
        "\n",
        "df.plot(x='sent_number', y='preds', figsize=(10,5), grid=True, ax=axes[0])\n",
        "# df.plot(x='sent_number', y='labels', figsize=(10,5), grid=True, ax=axes[1], color='green')"
      ],
      "execution_count": null,
      "outputs": [
        {
          "output_type": "execute_result",
          "data": {
            "text/plain": [
              "<matplotlib.axes._subplots.AxesSubplot at 0x7f3613f027d0>"
            ]
          },
          "metadata": {
            "tags": []
          },
          "execution_count": 47
        },
        {
          "output_type": "display_data",
          "data": {
            "image/png": "[encoded data removed]",
            "text/plain": [
              "<Figure size 720x360 with 2 Axes>"
            ]
          },
          "metadata": {
            "tags": []
          }
        }
      ]
    },
    {
      "cell_type": "code",
      "metadata": {
        "colab": {
          "base_uri": "https://localhost:8080/"
        },
        "id": "GylNq1hVoaS7",
        "outputId": "6adb1dc2-de81-48b5-ecc1-253ab586b640"
      },
      "source": [
        "%cd .."
      ],
      "execution_count": null,
      "outputs": [
        {
          "output_type": "stream",
          "text": [
            "/content/Meeting_Summarization/Preprocessing\n"
          ],
          "name": "stdout"
        }
      ]
    },
    {
      "cell_type": "code",
      "metadata": {
        "colab": {
          "base_uri": "https://localhost:8080/"
        },
        "id": "F5uSwLvTq4Rg",
        "outputId": "37c03237-aeab-42e9-a9ff-b3e647586d57"
      },
      "source": [
        "!git clone https://github.com/ELITR/automin-2021.git"
      ],
      "execution_count": null,
      "outputs": [
        {
          "output_type": "stream",
          "text": [
            "fatal: destination path 'automin-2021' already exists and is not an empty directory.\n"
          ],
          "name": "stdout"
        }
      ]
    },
    {
      "cell_type": "code",
      "metadata": {
        "id": "cUkevaePrD3I"
      },
      "source": [
        "import os\n",
        "import shutil"
      ],
      "execution_count": null,
      "outputs": []
    },
    {
      "cell_type": "code",
      "metadata": {
        "id": "qUAolKoUpcFo"
      },
      "source": [
        "os.mkdir(\"Summaries\")"
      ],
      "execution_count": null,
      "outputs": []
    },
    {
      "cell_type": "code",
      "metadata": {
        "colab": {
          "base_uri": "https://localhost:8080/",
          "height": 36
        },
        "id": "5_YotBY3rYEd",
        "outputId": "259b7a10-aaa0-47c8-e67c-fbc6507e8a2c"
      },
      "source": [
        "shutil.copytree(\"automin-2021/Task_A/meeting108_en\",\"/content/test\")"
      ],
      "execution_count": null,
      "outputs": [
        {
          "output_type": "execute_result",
          "data": {
            "application/vnd.google.colaboratory.intrinsic+json": {
              "type": "string"
            },
            "text/plain": [
              "'/content/test'"
            ]
          },
          "metadata": {
            "tags": []
          },
          "execution_count": 33
        }
      ]
    },
    {
      "cell_type": "code",
      "metadata": {
        "id": "ddQ10L6Nr6PV"
      },
      "source": [
        "! rm -rf \"/content/automin-2021\"\n",
        "! rm -rf \"/content/sample_data\""
      ],
      "execution_count": null,
      "outputs": []
    },
    {
      "cell_type": "code",
      "metadata": {
        "id": "0EEEujJOsMVG"
      },
      "source": [
        "Original_summary = open(\"/content/test/minutes108_en\").read()\n",
        "Original_transcript = open(\"/content/test/transcript108_en\").read()"
      ],
      "execution_count": null,
      "outputs": []
    },
    {
      "cell_type": "code",
      "metadata": {
        "colab": {
          "base_uri": "https://localhost:8080/"
        },
        "id": "iGKhzLfiqT0L",
        "outputId": "6062f016-3a91-4512-b7a0-955f78185663"
      },
      "source": [
        "%cd SliceCast"
      ],
      "execution_count": null,
      "outputs": [
        {
          "output_type": "stream",
          "text": [
            "/content/Meeting_Summarization/Preprocessing/SliceCast\n"
          ],
          "name": "stdout"
        }
      ]
    },
    {
      "cell_type": "code",
      "metadata": {
        "colab": {
          "base_uri": "https://localhost:8080/"
        },
        "id": "jeoYC0FiqWY3",
        "outputId": "8a03db10-3e34-44e7-af7d-0e986fa20df2"
      },
      "source": [
        "text_file = '/content/test/transcript108_en'\n",
        "is_labeled = False\n",
        "weights_path = weights_podcast # transfer learning\n",
        "\n",
        "sents, labels = getSingleExample(fname=text_file, is_labeled=is_labeled)\n",
        "sents = np.expand_dims(sents, axis=0)\n",
        "\n",
        "preds = net.singlePredict(sents, weights_path=weights_path)"
      ],
      "execution_count": null,
      "outputs": [
        {
          "output_type": "stream",
          "text": [
            "Starting Testing\n",
            "Loaded weights from disk\n"
          ],
          "name": "stdout"
        }
      ]
    },
    {
      "cell_type": "code",
      "metadata": {
        "colab": {
          "base_uri": "https://localhost:8080/",
          "height": 338
        },
        "id": "ZDAeZ1N5qcaO",
        "outputId": "2e3f791c-ce00-4127-e237-c1fcf1d5c0b7"
      },
      "source": [
        "df = pd.DataFrame()\n",
        "\n",
        "preds = np.argmax(np.squeeze(preds), axis=-1)\n",
        "df['raw_sentences'] = sents[0]\n",
        "if is_labeled:\n",
        "    df['labels'] = labels\n",
        "df['preds'] = preds\n",
        "df['sent_number'] = df.index\n",
        "\n",
        "fig, axes = plt.subplots(nrows=2, ncols=1)\n",
        "\n",
        "df.plot(x='sent_number', y='preds', figsize=(10,5), grid=True, ax=axes[0])"
      ],
      "execution_count": null,
      "outputs": [
        {
          "output_type": "execute_result",
          "data": {
            "text/plain": [
              "<matplotlib.axes._subplots.AxesSubplot at 0x7f2e2d579790>"
            ]
          },
          "metadata": {
            "tags": []
          },
          "execution_count": 36
        },
        {
          "output_type": "display_data",
          "data": {
            "image/png": "[encoded data removed]",
            "text/plain": [
              "<Figure size 720x360 with 2 Axes>"
            ]
          },
          "metadata": {
            "tags": [],
            "needs_background": "light"
          }
        }
      ]
    },
    {
      "cell_type": "code",
      "metadata": {
        "id": "aV_pcoC2Rq4b"
      },
      "source": [
        "segments = []\n",
        "segment = \"\"\n",
        "for index,row in df.iterrows():\n",
        "  if row['preds'] == 1 :\n",
        "    if segment != \"\":\n",
        "      segments.append(segment)\n",
        "    segment = row['raw_sentences']\n",
        "  else:\n",
        "    segment += \"\\n\" +row['raw_sentences']\n",
        "\n",
        "if segment != \"\" and segment != segments[-1]:\n",
        "  segments.append(segment)"
      ],
      "execution_count": null,
      "outputs": []
    },
    {
      "cell_type": "code",
      "metadata": {
        "id": "sZFgbVKHRq4c"
      },
      "source": [
        "f = open(\"/content/test/segmented_Transcript.txt\",\"w\")\n",
        "\n",
        "new_segment = \"\\n\\n\" + (\"=\")*50 + \"\\n\\n\"\n",
        "# print(new_segment)\n",
        "for segment in segments:\n",
        "  f.write(new_segment)\n",
        "  f.write(segment)\n",
        "\n",
        "f.close()"
      ],
      "execution_count": null,
      "outputs": []
    },
    {
      "cell_type": "code",
      "metadata": {
        "colab": {
          "base_uri": "https://localhost:8080/",
          "height": 1000
        },
        "id": "HpVQ4KSDrgOI",
        "outputId": "7cba96f2-2438-47a7-db0f-3d8478ea6217"
      },
      "source": [
        "df.head(50)"
      ],
      "execution_count": null,
      "outputs": [
        {
          "output_type": "execute_result",
          "data": {
            "text/html": [
              "<div>\n",
              "<style scoped>\n",
              "    .dataframe tbody tr th:only-of-type {\n",
              "        vertical-align: middle;\n",
              "    }\n",
              "\n",
              "    .dataframe tbody tr th {\n",
              "        vertical-align: top;\n",
              "    }\n",
              "\n",
              "    .dataframe thead th {\n",
              "        text-align: right;\n",
              "    }\n",
              "</style>\n",
              "<table border=\"1\" class=\"dataframe\">\n",
              "  <thead>\n",
              "    <tr style=\"text-align: right;\">\n",
              "      <th></th>\n",
              "      <th>raw_sentences</th>\n",
              "      <th>preds</th>\n",
              "      <th>sent_number</th>\n",
              "    </tr>\n",
              "  </thead>\n",
              "  <tbody>\n",
              "    <tr>\n",
              "      <th>0</th>\n",
              "      <td>[PERSON27] Aha, so now I can do that.</td>\n",
              "      <td>1</td>\n",
              "      <td>0</td>\n",
              "    </tr>\n",
              "    <tr>\n",
              "      <th>1</th>\n",
              "      <td>[PERSON54] Yeah, right.</td>\n",
              "      <td>0</td>\n",
              "      <td>1</td>\n",
              "    </tr>\n",
              "    <tr>\n",
              "      <th>2</th>\n",
              "      <td>[PERSON27] Now I'm recording already.</td>\n",
              "      <td>0</td>\n",
              "      <td>2</td>\n",
              "    </tr>\n",
              "    <tr>\n",
              "      <th>3</th>\n",
              "      <td>(Fin, aha) I can see that.</td>\n",
              "      <td>0</td>\n",
              "      <td>3</td>\n",
              "    </tr>\n",
              "    <tr>\n",
              "      <th>4</th>\n",
              "      <td>And maybe I'll ask you before anybody else is ...</td>\n",
              "      <td>0</td>\n",
              "      <td>4</td>\n",
              "    </tr>\n",
              "    <tr>\n",
              "      <th>5</th>\n",
              "      <td>Do you create a next different link every time...</td>\n",
              "      <td>0</td>\n",
              "      <td>5</td>\n",
              "    </tr>\n",
              "    <tr>\n",
              "      <th>6</th>\n",
              "      <td>[PERSON54] No, no, this is the same link you c...</td>\n",
              "      <td>0</td>\n",
              "      <td>6</td>\n",
              "    </tr>\n",
              "    <tr>\n",
              "      <th>7</th>\n",
              "      <td>[PERSON27] &lt;mmhm&gt;, so (that's) –\\n[PERSON54] (...</td>\n",
              "      <td>0</td>\n",
              "      <td>7</td>\n",
              "    </tr>\n",
              "    <tr>\n",
              "      <th>8</th>\n",
              "      <td>[PERSON27] Yes.</td>\n",
              "      <td>0</td>\n",
              "      <td>8</td>\n",
              "    </tr>\n",
              "    <tr>\n",
              "      <th>9</th>\n",
              "      <td>So this Zoom link will also – &lt;ehm&gt; will also ...</td>\n",
              "      <td>0</td>\n",
              "      <td>9</td>\n",
              "    </tr>\n",
              "    <tr>\n",
              "      <th>10</th>\n",
              "      <td>[PERSON54] Yea, yea, yea.</td>\n",
              "      <td>0</td>\n",
              "      <td>10</td>\n",
              "    </tr>\n",
              "    <tr>\n",
              "      <th>11</th>\n",
              "      <td>It is the – it is the (rolling) Zoom link,\\nwe...</td>\n",
              "      <td>0</td>\n",
              "      <td>11</td>\n",
              "    </tr>\n",
              "    <tr>\n",
              "      <th>12</th>\n",
              "      <td>[PERSON54] For all our coffee meetings.</td>\n",
              "      <td>0</td>\n",
              "      <td>12</td>\n",
              "    </tr>\n",
              "    <tr>\n",
              "      <th>13</th>\n",
              "      <td>[PERSON27] Perfect, I just –\\n[PERSON54] So I'...</td>\n",
              "      <td>0</td>\n",
              "      <td>13</td>\n",
              "    </tr>\n",
              "    <tr>\n",
              "      <th>14</th>\n",
              "      <td>is suitable for us.</td>\n",
              "      <td>0</td>\n",
              "      <td>14</td>\n",
              "    </tr>\n",
              "    <tr>\n",
              "      <th>15</th>\n",
              "      <td>We can &lt;unrecognisable_speech&gt;\\nSo in the same...</td>\n",
              "      <td>0</td>\n",
              "      <td>15</td>\n",
              "    </tr>\n",
              "    <tr>\n",
              "      <th>16</th>\n",
              "      <td>links).</td>\n",
              "      <td>0</td>\n",
              "      <td>16</td>\n",
              "    </tr>\n",
              "    <tr>\n",
              "      <th>17</th>\n",
              "      <td>[PERSON27] Okay, &lt;mmhm&gt;.\\nThank you, thank you.</td>\n",
              "      <td>0</td>\n",
              "      <td>17</td>\n",
              "    </tr>\n",
              "    <tr>\n",
              "      <th>18</th>\n",
              "      <td>[PERSON54] Okay.</td>\n",
              "      <td>0</td>\n",
              "      <td>18</td>\n",
              "    </tr>\n",
              "    <tr>\n",
              "      <th>19</th>\n",
              "      <td>[PERSON27] And now let's wait before [PERSON53...</td>\n",
              "      <td>0</td>\n",
              "      <td>19</td>\n",
              "    </tr>\n",
              "    <tr>\n",
              "      <th>20</th>\n",
              "      <td>[PERSON54] &lt;mmhm&gt;\\n(??)</td>\n",
              "      <td>0</td>\n",
              "      <td>20</td>\n",
              "    </tr>\n",
              "    <tr>\n",
              "      <th>21</th>\n",
              "      <td>said that he had another meeting &lt;ehm&gt; before ...</td>\n",
              "      <td>0</td>\n",
              "      <td>21</td>\n",
              "    </tr>\n",
              "    <tr>\n",
              "      <th>22</th>\n",
              "      <td>Maybe he didn't finish yet, (I'm not sure).</td>\n",
              "      <td>0</td>\n",
              "      <td>22</td>\n",
              "    </tr>\n",
              "    <tr>\n",
              "      <th>23</th>\n",
              "      <td>[PERSON54] Okay.</td>\n",
              "      <td>0</td>\n",
              "      <td>23</td>\n",
              "    </tr>\n",
              "    <tr>\n",
              "      <th>24</th>\n",
              "      <td>So, [PERSON27], so (??)</td>\n",
              "      <td>0</td>\n",
              "      <td>24</td>\n",
              "    </tr>\n",
              "    <tr>\n",
              "      <th>25</th>\n",
              "      <td>let discuss some things, okay?</td>\n",
              "      <td>0</td>\n",
              "      <td>25</td>\n",
              "    </tr>\n",
              "    <tr>\n",
              "      <th>26</th>\n",
              "      <td>[PERSON27] &lt;mmhm&gt; &lt;mmhm&gt;\\n[PERSON54] So, I – I...</td>\n",
              "      <td>0</td>\n",
              "      <td>26</td>\n",
              "    </tr>\n",
              "    <tr>\n",
              "      <th>27</th>\n",
              "      <td>it was like –\\n(I don't think there is) &lt;unrec...</td>\n",
              "      <td>0</td>\n",
              "      <td>27</td>\n",
              "    </tr>\n",
              "    <tr>\n",
              "      <th>28</th>\n",
              "      <td>clean manually corrected transcript as well as...</td>\n",
              "      <td>0</td>\n",
              "      <td>28</td>\n",
              "    </tr>\n",
              "    <tr>\n",
              "      <th>29</th>\n",
              "      <td>Is that correct?</td>\n",
              "      <td>0</td>\n",
              "      <td>29</td>\n",
              "    </tr>\n",
              "    <tr>\n",
              "      <th>30</th>\n",
              "      <td>&lt;unrecognisable_speech&gt;\\n[PERSON27] So our out...</td>\n",
              "      <td>0</td>\n",
              "      <td>30</td>\n",
              "    </tr>\n",
              "    <tr>\n",
              "      <th>31</th>\n",
              "      <td>Is that what you ask(ed)?</td>\n",
              "      <td>0</td>\n",
              "      <td>31</td>\n",
              "    </tr>\n",
              "    <tr>\n",
              "      <th>32</th>\n",
              "      <td>[PERSON54] I – I – I want to know that how do ...</td>\n",
              "      <td>0</td>\n",
              "      <td>32</td>\n",
              "    </tr>\n",
              "    <tr>\n",
              "      <th>33</th>\n",
              "      <td>Like, how do the &lt;unrecognisable_speech&gt;\\n[PER...</td>\n",
              "      <td>0</td>\n",
              "      <td>33</td>\n",
              "    </tr>\n",
              "    <tr>\n",
              "      <th>34</th>\n",
              "      <td>&lt;ehm&gt; Did you see the document Minuting annota...</td>\n",
              "      <td>1</td>\n",
              "      <td>34</td>\n",
              "    </tr>\n",
              "    <tr>\n",
              "      <th>35</th>\n",
              "      <td>Probably –\\n[PERSON54] Yes.</td>\n",
              "      <td>0</td>\n",
              "      <td>35</td>\n",
              "    </tr>\n",
              "    <tr>\n",
              "      <th>36</th>\n",
              "      <td>[PERSON27] If I &lt;ehm&gt; –\\nif we look at it toge...</td>\n",
              "      <td>0</td>\n",
              "      <td>36</td>\n",
              "    </tr>\n",
              "    <tr>\n",
              "      <th>37</th>\n",
              "      <td>[PERSON54] Okay.</td>\n",
              "      <td>0</td>\n",
              "      <td>37</td>\n",
              "    </tr>\n",
              "    <tr>\n",
              "      <th>38</th>\n",
              "      <td>[PERSON27] &lt;ehm&gt; Do we have some chat here?</td>\n",
              "      <td>0</td>\n",
              "      <td>38</td>\n",
              "    </tr>\n",
              "    <tr>\n",
              "      <th>39</th>\n",
              "      <td>Yes.</td>\n",
              "      <td>0</td>\n",
              "      <td>39</td>\n",
              "    </tr>\n",
              "    <tr>\n",
              "      <th>40</th>\n",
              "      <td>[PERSON54] &lt;ehm&gt; Maybe you can send it (to the...</td>\n",
              "      <td>0</td>\n",
              "      <td>40</td>\n",
              "    </tr>\n",
              "    <tr>\n",
              "      <th>41</th>\n",
              "      <td>[PERSON27] &lt;ehm&gt; I have already sent it by cha...</td>\n",
              "      <td>0</td>\n",
              "      <td>41</td>\n",
              "    </tr>\n",
              "    <tr>\n",
              "      <th>42</th>\n",
              "      <td>[PERSON54] Okay.</td>\n",
              "      <td>0</td>\n",
              "      <td>42</td>\n",
              "    </tr>\n",
              "    <tr>\n",
              "      <th>43</th>\n",
              "      <td>[PERSON27] &lt;ehm&gt; (??)</td>\n",
              "      <td>0</td>\n",
              "      <td>43</td>\n",
              "    </tr>\n",
              "    <tr>\n",
              "      <th>44</th>\n",
              "      <td>is right that Zoom is not working (for) (??).</td>\n",
              "      <td>0</td>\n",
              "      <td>44</td>\n",
              "    </tr>\n",
              "    <tr>\n",
              "      <th>45</th>\n",
              "      <td>How is it possible?</td>\n",
              "      <td>0</td>\n",
              "      <td>45</td>\n",
              "    </tr>\n",
              "    <tr>\n",
              "      <th>46</th>\n",
              "      <td>[PERSON54] Oh, yeah, how is it possible?</td>\n",
              "      <td>0</td>\n",
              "      <td>46</td>\n",
              "    </tr>\n",
              "    <tr>\n",
              "      <th>47</th>\n",
              "      <td>[PERSON27] So how is it possible that some lin...</td>\n",
              "      <td>0</td>\n",
              "      <td>47</td>\n",
              "    </tr>\n",
              "    <tr>\n",
              "      <th>48</th>\n",
              "      <td>[PERSON54] I don't know.</td>\n",
              "      <td>0</td>\n",
              "      <td>48</td>\n",
              "    </tr>\n",
              "    <tr>\n",
              "      <th>49</th>\n",
              "      <td>(But) Zoom is like, you know, much bigger than...</td>\n",
              "      <td>0</td>\n",
              "      <td>49</td>\n",
              "    </tr>\n",
              "  </tbody>\n",
              "</table>\n",
              "</div>"
            ],
            "text/plain": [
              "                                        raw_sentences  preds  sent_number\n",
              "0               [PERSON27] Aha, so now I can do that.      1            0\n",
              "1                             [PERSON54] Yeah, right.      0            1\n",
              "2               [PERSON27] Now I'm recording already.      0            2\n",
              "3                          (Fin, aha) I can see that.      0            3\n",
              "4   And maybe I'll ask you before anybody else is ...      0            4\n",
              "5   Do you create a next different link every time...      0            5\n",
              "6   [PERSON54] No, no, this is the same link you c...      0            6\n",
              "7   [PERSON27] <mmhm>, so (that's) –\\n[PERSON54] (...      0            7\n",
              "8                                     [PERSON27] Yes.      0            8\n",
              "9   So this Zoom link will also – <ehm> will also ...      0            9\n",
              "10                          [PERSON54] Yea, yea, yea.      0           10\n",
              "11  It is the – it is the (rolling) Zoom link,\\nwe...      0           11\n",
              "12            [PERSON54] For all our coffee meetings.      0           12\n",
              "13  [PERSON27] Perfect, I just –\\n[PERSON54] So I'...      0           13\n",
              "14                                is suitable for us.      0           14\n",
              "15  We can <unrecognisable_speech>\\nSo in the same...      0           15\n",
              "16                                            links).      0           16\n",
              "17    [PERSON27] Okay, <mmhm>.\\nThank you, thank you.      0           17\n",
              "18                                   [PERSON54] Okay.      0           18\n",
              "19  [PERSON27] And now let's wait before [PERSON53...      0           19\n",
              "20                            [PERSON54] <mmhm>\\n(??)      0           20\n",
              "21  said that he had another meeting <ehm> before ...      0           21\n",
              "22        Maybe he didn't finish yet, (I'm not sure).      0           22\n",
              "23                                   [PERSON54] Okay.      0           23\n",
              "24                            So, [PERSON27], so (??)      0           24\n",
              "25                     let discuss some things, okay?      0           25\n",
              "26  [PERSON27] <mmhm> <mmhm>\\n[PERSON54] So, I – I...      0           26\n",
              "27  it was like –\\n(I don't think there is) <unrec...      0           27\n",
              "28  clean manually corrected transcript as well as...      0           28\n",
              "29                                   Is that correct?      0           29\n",
              "30  <unrecognisable_speech>\\n[PERSON27] So our out...      0           30\n",
              "31                          Is that what you ask(ed)?      0           31\n",
              "32  [PERSON54] I – I – I want to know that how do ...      0           32\n",
              "33  Like, how do the <unrecognisable_speech>\\n[PER...      0           33\n",
              "34  <ehm> Did you see the document Minuting annota...      1           34\n",
              "35                        Probably –\\n[PERSON54] Yes.      0           35\n",
              "36  [PERSON27] If I <ehm> –\\nif we look at it toge...      0           36\n",
              "37                                   [PERSON54] Okay.      0           37\n",
              "38        [PERSON27] <ehm> Do we have some chat here?      0           38\n",
              "39                                               Yes.      0           39\n",
              "40  [PERSON54] <ehm> Maybe you can send it (to the...      0           40\n",
              "41  [PERSON27] <ehm> I have already sent it by cha...      0           41\n",
              "42                                   [PERSON54] Okay.      0           42\n",
              "43                              [PERSON27] <ehm> (??)      0           43\n",
              "44      is right that Zoom is not working (for) (??).      0           44\n",
              "45                                How is it possible?      0           45\n",
              "46           [PERSON54] Oh, yeah, how is it possible?      0           46\n",
              "47  [PERSON27] So how is it possible that some lin...      0           47\n",
              "48                           [PERSON54] I don't know.      0           48\n",
              "49  (But) Zoom is like, you know, much bigger than...      0           49"
            ]
          },
          "metadata": {
            "tags": []
          },
          "execution_count": 20
        }
      ]
    },
    {
      "cell_type": "code",
      "metadata": {
        "id": "Ijpiyhg6rmZ4"
      },
      "source": [
        "segments = []\n",
        "segment = \"\"\n",
        "for sent,pred in zip(sents[0],preds):\n",
        "  if pred == 1:\n",
        "    if segment != \"\":\n",
        "      segments.append(segment)\n",
        "    segment = sent\n",
        "  else:\n",
        "    segment += \"\\n\" + sent \n",
        "\n",
        "if segment != \"\" and segment != segments[-1]:\n",
        "  segments.append(segment)\n"
      ],
      "execution_count": null,
      "outputs": []
    },
    {
      "cell_type": "code",
      "metadata": {
        "id": "nxmmx-3puFod"
      },
      "source": [
        "f = open(\"/content/test/segmented.txt\",\"w\")\n",
        "\n",
        "new_segment = \"\\n\\n\" + (\"=\")*50 + \"\\n\\n\"\n",
        "# print(new_segment)\n",
        "for segment in segments:\n",
        "  f.write(new_segment)\n",
        "  f.write(segment)\n",
        "\n",
        "f.close()"
      ],
      "execution_count": null,
      "outputs": []
    },
    {
      "cell_type": "markdown",
      "metadata": {
        "id": "ChwZMhfsxtKV"
      },
      "source": [
        "**SegBot**"
      ]
    },
    {
      "cell_type": "code",
      "metadata": {
        "colab": {
          "base_uri": "https://localhost:8080/"
        },
        "id": "_AEi8fV31r2M",
        "outputId": "a83593ac-24be-4184-d39f-a2a73e7907af"
      },
      "source": [
        "%cd /content"
      ],
      "execution_count": null,
      "outputs": [
        {
          "output_type": "stream",
          "text": [
            "/content\n"
          ],
          "name": "stdout"
        }
      ]
    },
    {
      "cell_type": "code",
      "metadata": {
        "colab": {
          "base_uri": "https://localhost:8080/"
        },
        "id": "X2uHYYAoxdB9",
        "outputId": "2fc6f24f-50d0-44ca-b028-8660af96953d"
      },
      "source": [
        "!wget https://www.dropbox.com/sh/tsr4ixfaosk2ecf/AACvXU6gbZfGLatPXDrzNcXCa?dl=0"
      ],
      "execution_count": null,
      "outputs": [
        {
          "output_type": "stream",
          "text": [
            "--2021-05-16 08:21:28--  https://www.dropbox.com/sh/tsr4ixfaosk2ecf/AACvXU6gbZfGLatPXDrzNcXCa?dl=0\n",
            "Resolving www.dropbox.com (www.dropbox.com)... 162.125.3.18, 2620:100:6018:18::a27d:312\n",
            "Connecting to www.dropbox.com (www.dropbox.com)|162.125.3.18|:443... connected.\n",
            "HTTP request sent, awaiting response... 301 Moved Permanently\n",
            "Location: /sh/raw/tsr4ixfaosk2ecf/AACvXU6gbZfGLatPXDrzNcXCa [following]\n",
            "--2021-05-16 08:21:28--  https://www.dropbox.com/sh/raw/tsr4ixfaosk2ecf/AACvXU6gbZfGLatPXDrzNcXCa\n",
            "Reusing existing connection to www.dropbox.com:443.\n",
            "HTTP request sent, awaiting response... 302 Found\n",
            "Location: https://uc9cf30ffa9ebde47d0ca0556277.dl.dropboxusercontent.com/zip_download_get/Ax89eJxwQ2EJPSrD8UmXjFs5AjhzZWZm-3gkH3ENdxNbzNBeXh6uHkFRQ7E-VL_dXOsMLX5QRDbKXkpIKqEMIPZAQ4yscOl9VNTZBTgI_AEBEg# [following]\n",
            "--2021-05-16 08:21:28--  https://uc9cf30ffa9ebde47d0ca0556277.dl.dropboxusercontent.com/zip_download_get/Ax89eJxwQ2EJPSrD8UmXjFs5AjhzZWZm-3gkH3ENdxNbzNBeXh6uHkFRQ7E-VL_dXOsMLX5QRDbKXkpIKqEMIPZAQ4yscOl9VNTZBTgI_AEBEg\n",
            "Resolving uc9cf30ffa9ebde47d0ca0556277.dl.dropboxusercontent.com (uc9cf30ffa9ebde47d0ca0556277.dl.dropboxusercontent.com)... 162.125.3.15, 2620:100:601b:15::a27d:80f\n",
            "Connecting to uc9cf30ffa9ebde47d0ca0556277.dl.dropboxusercontent.com (uc9cf30ffa9ebde47d0ca0556277.dl.dropboxusercontent.com)|162.125.3.15|:443... connected.\n",
            "HTTP request sent, awaiting response... 200 OK\n",
            "Length: 88063422 (84M) [application/zip]\n",
            "Saving to: ‘AACvXU6gbZfGLatPXDrzNcXCa?dl=0’\n",
            "\n",
            "AACvXU6gbZfGLatPXDr 100%[===================>]  83.98M  41.4MB/s    in 2.0s    \n",
            "\n",
            "2021-05-16 08:21:31 (41.4 MB/s) - ‘AACvXU6gbZfGLatPXDrzNcXCa?dl=0’ saved [88063422/88063422]\n",
            "\n"
          ],
          "name": "stdout"
        }
      ]
    },
    {
      "cell_type": "code",
      "metadata": {
        "colab": {
          "base_uri": "https://localhost:8080/"
        },
        "id": "LLbaDKMexxKb",
        "outputId": "9bfcf87a-bca7-4af8-dc4b-a59f65aa18bd"
      },
      "source": [
        "!unzip /content/AACvXU6gbZfGLatPXDrzNcXCa?dl=0"
      ],
      "execution_count": null,
      "outputs": [
        {
          "output_type": "stream",
          "text": [
            "Archive:  /content/AACvXU6gbZfGLatPXDrzNcXCa?dl=0\n",
            "warning:  stripped absolute path spec from /\n",
            "mapname:  conversion of  failed\n",
            "   creating: .idea/\n",
            " extracting: model.py                \n",
            " extracting: solver.py               \n",
            " extracting: readme.txt              \n",
            "   creating: __pycache__/\n",
            " extracting: run_segbot.py           \n",
            " extracting: .idea/misc.xml          \n",
            " extracting: requirements.txt        \n",
            " extracting: .idea/modules.xml       \n",
            " extracting: .idea/encodings.xml     \n",
            " extracting: .idea/workspace.xml     \n",
            " extracting: .idea/RunSegBot.iml     \n",
            " extracting: all_vocabulary.pickle   \n",
            " extracting: trained_model.torchsave  \n",
            " extracting: __pycache__/model.cpython-36.pyc  \n",
            " extracting: __pycache__/solver.cpython-36.pyc  \n",
            "\n",
            "1 archive had fatal errors.\n"
          ],
          "name": "stdout"
        }
      ]
    },
    {
      "cell_type": "code",
      "metadata": {
        "colab": {
          "base_uri": "https://localhost:8080/"
        },
        "id": "MnFzYTO9yMVX",
        "outputId": "b2f02952-4526-4bc8-9ce1-372e7502a604"
      },
      "source": [
        "import nltk\n",
        "nltk.download('punkt')"
      ],
      "execution_count": null,
      "outputs": [
        {
          "output_type": "stream",
          "text": [
            "[nltk_data] Downloading package punkt to /root/nltk_data...\n",
            "[nltk_data]   Unzipping tokenizers/punkt.zip.\n"
          ],
          "name": "stdout"
        },
        {
          "output_type": "execute_result",
          "data": {
            "text/plain": [
              "True"
            ]
          },
          "metadata": {
            "tags": []
          },
          "execution_count": 30
        }
      ]
    },
    {
      "cell_type": "code",
      "metadata": {
        "colab": {
          "base_uri": "https://localhost:8080/"
        },
        "id": "LKIBn8xkyhVB",
        "outputId": "34e631cd-7a4e-4a8e-f656-46c0fe0a3069"
      },
      "source": [
        "!pip install torch==1.2.0"
      ],
      "execution_count": null,
      "outputs": [
        {
          "output_type": "stream",
          "text": [
            "Collecting torch==1.2.0\n",
            "\u001b[?25l  Downloading https://files.pythonhosted.org/packages/05/65/5248be50c55ab7429dd5c11f5e2f9f5865606b80e854ca63139ad1a584f2/torch-1.2.0-cp37-cp37m-manylinux1_x86_64.whl (748.9MB)\n",
            "\u001b[K     |████████████████████████████████| 748.9MB 24kB/s \n",
            "\u001b[?25hRequirement already satisfied: numpy in /usr/local/lib/python3.7/dist-packages (from torch==1.2.0) (1.16.3)\n",
            "\u001b[31mERROR: torchvision 0.9.1+cu101 has requirement torch==1.8.1, but you'll have torch 1.2.0 which is incompatible.\u001b[0m\n",
            "\u001b[31mERROR: torchtext 0.9.1 has requirement torch==1.8.1, but you'll have torch 1.2.0 which is incompatible.\u001b[0m\n",
            "Installing collected packages: torch\n",
            "  Found existing installation: torch 1.8.1+cu101\n",
            "    Uninstalling torch-1.8.1+cu101:\n",
            "      Successfully uninstalled torch-1.8.1+cu101\n",
            "Successfully installed torch-1.2.0\n"
          ],
          "name": "stdout"
        }
      ]
    },
    {
      "cell_type": "code",
      "metadata": {
        "id": "c-dtcX5A2Nm5"
      },
      "source": [
        "import re\n",
        "from nltk.tokenize import word_tokenize\n",
        "import pickle\n",
        "import numpy as np\n",
        "\n",
        "import torch\n",
        "from solver import TrainSolver\n",
        "\n",
        "from model import PointerNetworks\n",
        "\n",
        "class Lang:\n",
        "    def __init__(self, name):\n",
        "        self.name = name\n",
        "        self.word2index = {\"RE_DIGITS\":1,\"UNKNOWN\":2,\"PADDING\":0}\n",
        "        self.word2count = {\"RE_DIGITS\":1,\"UNKNOWN\":1,\"PADDING\":1}\n",
        "        self.index2word = {0: \"PADDING\", 1: \"RE_DIGITS\", 2: \"UNKNOWN\"}\n",
        "        self.n_words = 3  # Count SOS and EOS\n",
        "\n",
        "    def addSentence(self, sentence):\n",
        "        for word in sentence.strip('\\n').strip('\\r').split(' '):\n",
        "            self.addWord(word)\n",
        "\n",
        "    def addWord(self, word):\n",
        "        if word not in self.word2index:\n",
        "            self.word2index[word] = self.n_words\n",
        "            self.word2count[word] = 1\n",
        "            self.index2word[self.n_words] = word\n",
        "            self.n_words += 1\n",
        "        else:\n",
        "            self.word2count[word] += 1\n",
        "\n",
        "\n",
        "\n",
        "def mytokenizer(inS,all_dict):\n",
        "\n",
        "    #repDig = re.sub(r'\\d+[\\.,/]?\\d+','RE_DIGITS',inS)\n",
        "    repDig = re.sub(r'\\d*[\\d,]*\\d+', 'RE_DIGITS', inS)\n",
        "    toked = word_tokenize(repDig)\n",
        "    or_toked = word_tokenize(inS)\n",
        "    re_unk_list = []\n",
        "    ori_list = []\n",
        "\n",
        "    for (i,t) in enumerate(toked):\n",
        "        if t not in all_dict and t not in ['RE_DIGITS']:\n",
        "            re_unk_list.append('UNKNOWN')\n",
        "            ori_list.append(or_toked[i])\n",
        "        else:\n",
        "            re_unk_list.append(t)\n",
        "            ori_list.append(or_toked[i])\n",
        "\n",
        "    labey_edus = [0]*len(re_unk_list)\n",
        "    labey_edus[-1] = 1\n",
        "\n",
        "\n",
        "    return ori_list,re_unk_list,labey_edus\n",
        "\n",
        "\n",
        "\n",
        "def get_mapping(X,Y,D):\n",
        "\n",
        "    X_map = []\n",
        "    for w in X:\n",
        "        if w in D:\n",
        "            X_map.append(D[w])\n",
        "        else:\n",
        "            X_map.append(D['UNKNOWN'])\n",
        "\n",
        "    X_map = np.array([X_map])\n",
        "    Y_map = np.array([Y])\n",
        "\n",
        "\n",
        "\n",
        "    return X_map,Y_map\n",
        "\n",
        "\n",
        "\n",
        "\n",
        "\n",
        "def main_input_output(inputstring):\n",
        "\n",
        "\n",
        "    all_voc = r'all_vocabulary.pickle'\n",
        "    voca = pickle.load(open(all_voc, 'rb'))\n",
        "    voca_dict = voca.word2index\n",
        "\n",
        "    ori_X, X, Y = mytokenizer(inputstring, voca_dict)\n",
        "\n",
        "    X_in, Y_in = get_mapping(X, Y, voca_dict)\n",
        "\n",
        "    mymodel = PointerNetworks(voca_size =2, voc_embeddings=np.ndarray(shape=(2,300), dtype=float),word_dim=300, hidden_dim=10,is_bi_encoder_rnn=True,rnn_type='GRU',rnn_layers=3,\n",
        "                 dropout_prob=0.5,use_cuda=False,finedtuning=True,isbanor=True)\n",
        "\n",
        "    mymodel = torch.load(r'trained_model.torchsave', map_location=lambda storage, loc: storage)\n",
        "    mymodel.use_cuda = False\n",
        "\n",
        "    mymodel.eval()\n",
        "    mysolver = TrainSolver(mymodel, '', '', '', '', '',\n",
        "                           batch_size=1, eval_size=1, epoch=10, lr=1e-2, lr_decay_epoch=1, weight_decay=1e-4,\n",
        "                           use_cuda=False)\n",
        "\n",
        "    test_batch_ave_loss, test_pre, test_rec, test_f1, visdata = mysolver.check_accuracy(X_in, Y_in)\n",
        "\n",
        "    start_b = visdata[3][0]\n",
        "    end_b = visdata[2][0] + 1\n",
        "    segments = []\n",
        "\n",
        "    for i, END in enumerate(end_b):\n",
        "        START = start_b[i]\n",
        "        segments.append(' '.join(ori_X[START:END]))\n",
        "\n",
        "    return segments,start_b,end_b\n"
      ],
      "execution_count": null,
      "outputs": []
    },
    {
      "cell_type": "code",
      "metadata": {
        "id": "O02fUGM72S3N"
      },
      "source": [
        "import pandas as pd\n",
        "\n",
        "if \"splitted\" not in os.listdir():\n",
        "  os.mkdir(\"/content/splitted\")\n",
        "\n",
        "for ind,f in enumerate(os.listdir(\"/content/Parsed\")):\n",
        "  text = open(\"/content/Parsed/\"+f,\"r\").read()\n",
        "  l=text.split(\"\\n\",1)\n",
        "  f = open(\"/content/splitted/\"+str(ind)+\".txt\",\"w\")\n",
        "  f.write(l[1])\n",
        "  f.close()\n",
        "  label_list = l[0].split(',')\n",
        "  sents = l[1].split(\"\\n\")\n",
        "  preds = np.zeros(len(sents))\n",
        "  i = 0\n",
        "  output_seg,start_b,end_b =  main_input_output(l[1])"
      ],
      "execution_count": null,
      "outputs": []
    },
    {
      "cell_type": "code",
      "metadata": {
        "colab": {
          "base_uri": "https://localhost:8080/"
        },
        "id": "CygS7to-SdXW",
        "outputId": "ee778699-dca4-4d49-c918-c79b6c6c1d93"
      },
      "source": [
        "print(start_b,end_b)"
      ],
      "execution_count": null,
      "outputs": [
        {
          "output_type": "stream",
          "text": [
            "[   0   12   15   29  314 1729 3001 5520 6406 6882 7529 8159 8173 8390\n",
            " 8398 8417 8425] [  12   15   29  314 1729 3001 5520 6406 6882 7529 8159 8173 8390 8398\n",
            " 8417 8425 8448]\n"
          ],
          "name": "stdout"
        }
      ]
    },
    {
      "cell_type": "code",
      "metadata": {
        "colab": {
          "base_uri": "https://localhost:8080/"
        },
        "id": "M4q8Dl4PS-Xe",
        "outputId": "2d401d7b-4949-4a3a-88ed-12a9e080bbb6"
      },
      "source": [
        "print(output_seg)"
      ],
      "execution_count": null,
      "outputs": [
        {
          "output_type": "stream",
          "text": [
            "['{ vocalsound } Um { vocalsound } minutes from the last meeting', 'which were essentially', 'that we uh had decided on roles for each of you , however ,', \"um there are some changes that I 've got from on high Okay . { vocalsound } that um are a bit uh { disfmarker } well w what I did n't actually realise it was that the uh { vocalsound } this is for a specific television . Okay . So the all in one idea goes out the window . And { vocalsound } they require that the uh Mm-hmm . actually I 'll get to that at the end { gap } point number four , um we 'll get what you 've got and then we can see what we can adapt from it . So um , presentations , were you { disfmarker } anybody got , raring to go ? Yeah . Yeah . Raring to go ? Okay . Good stuff . Mm . Um . So how { disfmarker } Oh I need to plug you in . { vocalsound } { vocalsound } S { gap } Just about . Wow . { vocalsound } It 's a inspired design . { gap } { vocalsound } Sh do you want me to hold it ? Uh there we go , just screw 'em on in . Gon na have to swap them round so { disfmarker } { vocalsound } { vocalsound } So , after that ? now , it was function F_ eight . F_ eight . { vocalsound } f oh sorry F_ eight . That 's the wee blue one . Blue one F_ eight . Okay . Should do it , good one . Yeah . Yeah . Uh , me again , Rajan the Marketing Expert . Uh ,\", \"as we have decided in the last meeting that I have to find out , sorry , yeah sure . Hold on , sorry . { gap } and if you just click that it 'll go ahead , one at a time . Yeah , yeah . Uh actually , sorry I have to see the other { gap } , sorry . { vocalsound } Sorry , uh . Yeah , thank you . { vocalsound } Uh , yes , I have to look at the uh market potential for this product , uh , like consumer likings and everything , what is the potential for this product and are we able to achieve our a net profit or our aims or not ? Then { disfmarker } P press F_ five to start it first . Sorry . Okay . Yeah , I can , okay . Hmm . { vocalsound } Jesus . Uh then uh the methodology I adopted to find out all this was market survey . A a detailed market survey on consumers was done to find out their likings and dislikings , what they prefer what they not prefer , w what problems they do encounter in all this type of things . And what we got was , we found that { disfmarker } if you { disfmarker } uh , what they th what problems they are having with different uh remote controls available in the market . Seventy five percent of users they do find it that the remote controls available in the market are ugly . They are not so good looking . So , we have to put stress on this , uh we have to take care of this fact also like our design , uh should be appropriate , should be good looking for the consumers . And yes that 's wi uh this will definitely , this can definitely put uh uh enhance our sales . Uh and even uh the good thing about this is that eighty percent of users they are willing to pay high uh pay more for this uh good looking remote controls also . So even if the available market goes for the available { disfmarker } uh even if the market goes for the available remote control is less even then we can sell it at twenty five Euros , which maybe which may seem quite high but if our looks are are if the re remote control we design have a good better uh better look uh designs , then we can hope that consumers will prefer these g remote controls . Excellent . Then { disfmarker } { gap } And the second thing , some some companies they think that they should have more and more functions of the users uh or in their remote controls , but rather than those having more functions in the remote controls we should emphasise what actually consumer want , what they operate , rather than making it too complicated . Because mostly it has been found that fifty percent of the users they use only ten percent of the buttons , so there is no point of having ninety percent buttons making the remote controls too bulky , too complicated too expensive a because I think I believe that technology is useful only if uh the consumers they want to use it . Otherwise there is no point of having all this type of things . So this will not only reduce the cost of our remote controls but it will increase our profit also . So we have to take care of this fact also . Then . Uh it was function I want to go to . Oh you wan na go back ? Just escape . Uh , escape , okay thank you . Then if we look at this slide , Okay . uh these are in your shared documents , you can see , Okay . like { disfmarker } Uh , sorry . So , sorry { disfmarker } I was just gon na say , what was the question for this ? Or is { disfmarker } are you coming on to that ? Ah t look all the market potential , what uh how we should design consu our remote controls , what they should be there so as to en enhance our profit , enhance our sales . Okay . So these percentages are are what ? Yeah , these are different age group persons like uh sorry , I can open it in another way . Okay . Speech recognition . Uh , yes . If we look at the costs whether the consumers they are willing to uh pay more for speech recognition in a remote control or not , we can find that they up to a thirty five years age group we have a very good disliking for this uh this uh point , like for speech recognition in a remote control . { vocalsound } So we can emphasise on this point also like , because it will definitely enhance our sales in this ag in this particular age group from uh fifteen to thirty five , Hmm . and I uh and I think that most of the users of the rem uh T_V_ are belong to this age group . So we should look { disfmarker } Hmm . We 're als we we 're looking at who buys it as well . { gap } Yeah . We can look at that that factor also , so yes . { vocalsound } Uh , which I think the twenty five to thirty five is uh usual , sort of . Yeah . Mm , mm . So , and { disfmarker } { gap } { gap } { vocalsound } And then { disfmarker } Fifteen to twe Yes . I think so . Uh if we look at this data how how uh h how what are the problems the consumers are facing with the existing remote controls in the market . { vocalsound } They find that thirt uh thirty five percent uh thirty four percent of the consumers they find too difficult to operate a remote control . So it should be in such a way that it should be easy to learn how to operate these remote controls and we should provide pl uh spe uh proper manuals for its use also so as that people { disfmarker } consumers could easily learn . They need not to have any , much technical knowledge to see uh to know how to operate these remote controls . Mm-hmm . So this is also a very goo uh major factor to loo uh take into consideration to enhance our profits and sales . So um this is all about Okay . { vocalsound } uh market potential by me . { vocalsound } Mm-hmm . Uh , yes , th thank you . Okay , thank you . Um , { vocalsound } follow on with Helen ? Yeah please . Yep , sure , that 's cool , um { disfmarker } Yeah we have to take that { gap } out . Oh , so we do yeah . Sorry . Yeah . { vocalsound } Fun and games . Sorry . Do n't know if the cable 's gon na be long enough . Uh sorry , I have { gap } . { vocalsound } I think I just kicked over whatever it runs on underneath as well . Brian , this one also I { gap } . Yeah . Okay . Thank you very much Brian . I can turn my computer quickly if that 's okay . If you want me to help , yeah . Um , yep . { vocalsound } Yeah . Okay , and then what do I press , F_ eight ? Uh F_ eight . Function F_ eight . Function F_ eight . Oh right . Mm s . Okay , cool . It 's not coming . Function F_ eight , okay . Oh . Yeah . Yeah . No signal . { vocalsound } { vocalsound } Computer . Hmm . Computer adjusting , yeah . There you go . Okay . Cool . Yeah . Okay\", \"and then how do I press the the big one , to get it on to the big { disfmarker } Uh F_ five . F_ five and I press that again to get it off as well do I ? Escape . Um , F_ five and escape 'll bring it back and just uh the left button for advancing . Okay , so um I 'm the interface design designer , User Interface Designer sorry , uh I 'm concerned with um w what effect the apparatus should have on the user and um I 'm I 'm also { disfmarker } I want to point out that our motto , put the fashion in electronics , { vocalsound } so obviously we as a company we want to make our products trendy and fashionable , it 's a big concern of ours . Okay , and how do I press n just the next button ? Uh just a left uh The arrow ? Okay . left mouse button . So um I looked at existing designs and also um the information that Raj gave us was very useful about what people like , what people dislike . Um and what people { disfmarker } fashionable , because we said people between twenty five and thirty five were the main um buyers of of our T_V_ I think . Mm-hmm . Okay . So um what they like and what they find fashionable . 'Kay . { vocalsound } And ergonomics , we said um , I do n't know I have n't actually been able to do any of this myself , { vocalsound } { vocalsound } but um maybe that comes up , I do n't know . That can come under Arlo as well . And the findings , well the basic { disfmarker } that was the basic function to send messages to the television set . Uh . That 's what people want to do . Um , so they need to be included , um , but I 've got some pictures here of some leading ones . I do n't know how to get to them , Uh if you if you escape then you can see your bar . { vocalsound } do I press F_ five is it ? { gap } escape ? Oh okay , cool . I have n't got my glasses on so I hope it 's this one . { vocalsound } Uh okay . These are two leading um remote controls at the moment . 'Kay . You know they 're grey , they 've I mean this one 's got loads of buttons , it 's hard to tell from here what they actually do , { gap } { vocalsound } and they do n't look very exciting at all . Um , personally I prefer this one just because it 's looks easier use , it 's a bit more sleek with more of this silver stuff , Mm-hmm . um , but there you go , that 's what we 're up against , { vocalsound } and I think we can do much better than that . { vocalsound } We hope so . { vocalsound } { vocalsound } Of course . { vocalsound } Um hang on . F_ five , { vocalsound } okay , sorry . Personal preferences . Um , well I think we need to l I think the ergonomics is quite um important , um { gap } Yeah , particularly if we 've uh there was a bit in Raj 's about R_S_I_ and things as well . Yeah . Uh-huh . And um I thought not too edgy and like a box , more kind of hand-held more um { vocalsound } not as uh computery and Organic { vocalsound } . or organic , yeah , more organic shape I think . { vocalsound } Um simple designs , like the last one we just saw , not too many buttons and as Raj pointed out , only ten percent { disfmarker } fifty percent of people only use ten percent of the buttons , { gap } Mm-hmm . so I think what we can miss out on the buttons we can make up for in design and and how nice it looks . Sales , { gap } . Okay . Um , hand-held and portable I think is portamint is important because T_F_T_ have just um released um I think is it a a remote control for presentations or uh and a big seven inch big screen , anyway , so um { disfmarker } Yeah it 's like a , yeah . { vocalsound } It 's { gap } . { vocalsound } Yeah , no seven inches is n't that big but um anyway um so hand-held and portable and uh m I thought about other functions for T_V_ but as you pointed out people do n't actually want that , Right . Yeah . And also the company want to keep it stuck to the T_V_ for uh to keep down the production time . so maybe we forget about that . It 's for one T_V_ oh right okay , sure . And so the last thing I thought w which I quickly mentioned in the other one was maybe a bit of a gimmick to set us apart from other people , like glow-in-the-dark Mm-hmm . Exactly . Yeah . um which { vocalsound } does already e exist but it 's not very widely used I do n't think . Yeah . Easy finder with the a whistle function or something , Okay . or rechargeable station because it 's a pain when you run out of batteries . Yeah . And I think that , yep , that 's it . That 's cool . So uh , I noticed your talk about speech recognition and whistling , Okay ? Mm-hmm . and uh I was just curious to know , have we done any research into how many people can whistle ? Um , or if { disfmarker } { vocalsound } { vocalsound } is that a function we want in the remote ? Um , do you have trouble whistling ? Um , I have n't been able to { disfmarker } I do n't , but I I know a lot of people do right . { vocalsound } Really ? Yeah it just Ooh . { vocalsound } { disfmarker } I mean it has to be a certain kind of whistle too , right ? Yeah , I suppose that 's true . Mm-hmm , yeah Well I suppo uh you could y you could have the or some sort of voice { disfmarker } you could have the basically um instead of a whistle if it 's got the voice recognition you could have it just , you know , where are you ? { gap } . { vocalsound } { vocalsound } That 's costly though . Yeah . Yeah . Um a much easier thing is just any loud noise like clapping um , shouting , you know , Hmm . Mm-hmm . Yeah . uh and then , what would the response be ? It beeps back at you or something ? Sounds good . Yeah , something . { vocalsound } Okay . { vocalsound } Well , uh let me set this up .\", \"So I plug it in , press F_ five ? Function F_ five ? Function F_ eight for the um the uh { disfmarker } Or function F_ eight ? Okay . Oh you need to twiddle the thingamibobsy thing . Okay . I think it 's { vocalsound } uh just to lock it in . It 's got it . Yeah . Okay . { vocalsound } Okay . { vocalsound } Um . { vocalsound } So as the Industrial Designer my job is to take an input from you guys , { vocalsound } um so it 's good you went first , Alright . and I jotted down some notes as to what are the b needs and uh what kind of novel features we can add to differentiate our product from the others . { vocalsound } Let 's remember that . Um so Raj told us that uh consumers are willing to spend more for fancy products , and um he also mentioned that uh the current products do n't always match users ' operating behaviour . Um , a lot of the buttons are n't used , and uh { vocalsound } he mentioned that they 're not fun to use . And uh a novel feature which uh we just brought up was this this automatic speech recognition feature or noise detection feature for when you lose the remote , { gap } there could be a little microphone on it , and any noise over a certain threshold um it 'll pick up as a a distress signal um from you and it 'll beep back and say you know oh here I am or something of this sort . Mm-hmm . But sure surely that would have to be um sort of specific rather than above a threshold 'cause if you had a loud movie on you 're likely to get it beeping back at you . Mm-hmm . Oh yeah , yeah , that 's true . Mm-hmm . Well maybe you could have a um hmm { vocalsound } tha that would be a consideration to take into account yes . Um . Sorry I did n't mean to derail you there . { vocalsound } Yeah well tha that 's uh for later down the road um , and then as for the user interface it should be trendy , um { vocalsound } and not computery , { vocalsound } right , so more low tech and not too many buttons . { vocalsound } Mm-hmm . So I took these all into consideration and also I have some limitations from the boss . { vocalsound } Right um , and practical limitations which I kinda threw out the window . { vocalsound } And so I did a little research and unfortunately all I had to work on was our uh our corporate archives of the great products we 've made before , { vocalsound } which include , you know , um space craft , coffee makers , and bullet trains { disfmarker } Or uh or a high speed train . Ah is that what that is ? { vocalsound } { vocalsound } { vocalsound } Right and having personally worked with all these products uh I have a great deal of experience with uh with industrial design of these . { vocalsound } Well that 's cool . If you if you can build space craft you 'll have no problem with a remote control , yeah . Right . So , Yeah sure . I figured , just put 'em all together . { vocalsound } You got a a caffeine powered space shuttle train transport to your T_V_ , and um { vocalsound } { vocalsound } Hmm . as for the user interface problem , you know , too many buttons . Give it one button { vocalsound } and and it 's a { disfmarker } you know , for the the cowboy in all of us { gap } { vocalsound } { vocalsound } { disfmarker } I I 'm not quite sure what the the function is there but { disfmarker } Right okay . { vocalsound } Well I like that design . { vocalsound } Yeah it 's a g I mean you could have a you know a { disfmarker } Is that just switches on the speech recognition and it 's entirely speech operated , is it ? Right . So I think I I missed the budget thing , Yeah . { vocalsound } it was fifty million Euros ? { vocalsound } { vocalsound } Yeah . And we got ta sell twenty five of them ? Right . { vocalsound } Okay . { vocalsound } Yeah , not a problem . Fifty million was uh prof Ah now it 's fif fifty million Euros we 've got ta uh we 've g { vocalsound } As a profit . { vocalsound } Oh okay , so I I mixed those numbers . got ta make profit , so we 're making that at twelve and a half Euros a time . { vocalsound } Okay . Well I guess more realistically then , we need a product that 's got some kinda nifty outer casing , cheap plastic uh , you know , um that should be just like uh a tenth of the price maybe or less . Mm-hmm . An energy source which 'd probably just be uh your regular batteries { vocalsound } Okay . um , we do n't wan na have it { disfmarker } Would it be possible to have the rechargeable idea ? Is that is that gon na mark up a lot ? Uh . Or a little base station or something , { gap } . Yeah . Yeah , yeah , we could do that too . Um , I had n't thought of that . Yeah . { vocalsound } That might cost more though , 'cause obviously with batteries we do n't need to provide , well we provide the first batteries , but it 's more , it 's { disfmarker } that 's cheaper to just provide batteries . Yeah , yeah . Right . I mean if you think about these base stations now it 's essentially just a a lead with a sort of self connecting brake in it , A battery in it , kinda . so I do n't think it 'd up up the price that much . Right , so so { vocalsound } Okay . the unirs the user interface { vocalsound } Okay . uh the canonical user interface for these would be just a bunch of buttons , but since we 're a cutting edge company , we uh of course will have alternatives like uh speech recognition , whistling recognition and rocket power { vocalsound } Okay . { vocalsound } behind our product . { vocalsound } Um and lastly the transmission interface is uh , just some engineering thing you do n't have to worry about . Okay . { vocalsound } Um so here 's you know , a great schematic that my uh apprentice designer gave me . { vocalsound } { vocalsound } Um as you can see the the remote control have parts and those parts look like that and um { vocalsound } you know it 's got a little operating procedure that looks something like that . { vocalsound } And I suppose you all know how it works because we 've all used it and we would n't be in a company designing remote controls if we did n't know what they were so { disfmarker } uh personal preferences , I think uh programmable options which um just require a small amount of memory , uh non volatile memory , just um so the user can put in their favourite channels and maybe their preferred volume settings so that when they turn it on it 's not blasting . Mm . Mm that 's a good idea actually I like the programmable options . Yeah , me too . Oh okay . And the uh , the bells and whistles that we mentioned you know , they take more budgeting , um more technical uh expenditure of effort { vocalsound } { vocalsound } and it 's also much more likely to not work if if we add these bells and whistles . Right . Mm 'kay . { vocalsound } Yeah . That 's all I got . 'Kay , thank you very much , um I 'll take that back . { vocalsound } { vocalsound } Ooh that 's tight . { vocalsound } Right , also so um a notice I got not very long before the meeting , so did n't manage to forward it on to you , it is { disfmarker } let 's see , I 'll find it myself , um { disfmarker } { vocalsound } Ta Okay , I do n't think we need to screw it in . nah . { vocalsound } Just push it . Yeah . We had that um to dis-include teletext um because it 's become outdated , and everybody uses the internet anyway . Um , { vocalsound } dunno what Oracle would have to say with that but never mind . Mm-hmm . Um it 's only for the television , which I 'm presuming means it 's for a specific television , Okay . and um instead of colours and sorta colour options , they want corporate colour and slogan somehow implemented in the new design . Corporate colour . Yellow . Okay . Yellow . { vocalsound } { vocalsound } { vocalsound } I presume . Um , everything , all their sort of uh you know the uh corporate website and everything 's yellow . Mm-hmm . And the logo uh the sort of slogan we put the fa fashion in electronics uh { disfmarker } I do n't know exactly how sort of incorpor I mean , I guess if you 're going for a sort of globular shape you could kind of have it working its way round it or something . Yeah . Uh , where am I ? { vocalsound } Okay . { vocalsound } Okay , so , we have to decide on which functions we 're going to actually have . 'Kay . Uh , { vocalsound } now , we had as listed options we had { vocalsound } speech recognition potentially , flat screen interface , L_C_D_ interface um we also want to limit the number of buttons so we 'll pretty much take that one as read . Mm-hmm . Mm-hmm . We 'll use the the basic functions for a television . No teletext . Um { vocalsound } okay hold on . Although the the danger with that is , it could look a bit cheap . Not enough buttons you mean ? Yeah . So sorta strike a balance between a a few and a { disfmarker } Well { disfmarker } or it looks like we 're just cutting on the um { disfmarker } Mm . On the number of buttons , kind of functions and stuff . I do however have this from over my head , that they do n't want teletext on it . Mm-hmm , okay . Okay , cool . { vocalsound } Uh maybe Raj you could find out what people would think about that , or maybe they 'll send About cost . some information about that , about um what people , whether people would require um teletext in a remote { disfmarker } teletext option in a remote control . Okay . { gap } { vocalsound } Okay um { gap } . So uh I take it your position Arlo is that the bells and whistles we 've got ta come up with the { disfmarker } a gimmick but not too complicated a gimmick . Yeah yeah . Um so I mean a a the sort of inkling I 'm getting from little bits of um web chatter that I 'm getting sent is that they 're quite interested in a T_F_T_ display , interactive display . However that does sound a bit like the more complicated design that rav uh sorry Raj um { vocalsound } said people did n't like . Although I guess if there 's a sort of { disfmarker } Mm-hmm , mm-hmm . If you think about standard interfaces that people use already , sort of Windows-style drop down menus or whatever , Mm-hmm . I think maybe that 's a bit , going a bit far Yeah . but you know like in a basic sense that you could have your basic selection of buttons , and if you hit a sort of menu at the top you have um { vocalsound } it goes to a different selection of buttons , so it sorta keeps it simple . Yeah . Okay . Um glow in the dark , is that sort of with a light inside it or is it sort of glow in the dark material ? Um { disfmarker } Uh . Glow in the dark material I was thinking . Okay . So { disfmarker } I { disfmarker } Um , so I I guess that would be cheaper than a light I think . Uh may I say something about { gap } ? Yeah . Yeah . Uh actually I think it 's really really very important point uh as if we look at the market because people mor fifty percent people they find that the remote controls are often lost somewhere in the remote , in the room . But { disfmarker } Often lost s was that , yeah are lost Lost , yeah . yeah . and means they forget where they have kept the remote control last time . But if we add speech recognition as well as glow in the dark then both these factors will help their locating the remote control , Mm-hmm . Mm-hmm . like if they come and speak something at the remote control uh replies to something something and it glows in the dark . Both these factors uh both these points will help them to locate the where they have kept this remote control , That 's cool . Mm-hmm , and this will definitely enhance our uh market sales , That 's cool . mm-hmm . so we should take it into consideration also . Okay , cool . Well hmm . Um speech recognition I take it { disfmarker } { vocalsound } Oh it 's { disfmarker } I do n't ,\", \"I 've { disfmarker } I know of no products um that use speech recognition well . They 're act there there was a remote control that came out two years ago that had a { disfmarker } some basic speech recognition on it . You could programme it with your channels and then you say you know like uh B_B_C_ one and it goes to that channel . Really ? Yeah , it did n't work very well though because of this noise interference problem . They mentioned you know if the television says you are listening to B_B_C_ one { gap } . Mm-hmm . Mm . Yeah , or a yeah an advert an advert for B_B_C_ two on B_B_C_ one 'll switch the channel for you kinda thing . { gap } Right , right , and so there was a lot of this , you 'd be watching the T_V_ and then all of a sudden it 'd it 'd pick up a noise and turn it off or you know or turn the volume off or something , { vocalsound } Mm . Mm-hmm . but if you can work around that that noise problem { disfmarker } 'Kay . Uh-huh . Well what about { disfmarker } { vocalsound } this might get a bit too expensive actually , but what about um something that 's built into the T_V_ um that you can press and it 'll send out a little signal you know like the ones that we ca n't hear or { vocalsound } something Ah , that 's a good idea . { gap } um that that will activate the remote control starts to beep . Right . So like a kind of backwards remote from the telly . { vocalsound } If you find if y Right and then it would do just you know , uh subtractive kind of cancellation of the noise . Yeah . What you could do then would be you have uh { vocalsound } a remote controlled by the T_V_ speaker , or not a remo I 'm sorry , a microphone by the T_V_ speaker and a transmitter there that sends back to your remote , 'cause you ca n't um expect uh the the television manufacturers to to put that feature into their T_V_s . Mm . Yeah , that 's the only thing , yeah . But yeah , then you have like the little se separate module by the T_V_ speaker That we should just stick on , yeah . which { disfmarker } That comes with our remote control . Right , and then the remote control would know um what 's being produced by the television . Yeah . Yeah . And that 's a sort of basic R_F_ kind of frequency so it 'll be cheap . Right , right . Mm-hmm . Right , right . Um . { vocalsound } Yeah that 's certainly possible then an another thing was about this losing the remote and trying to find it again . If you do have this sorta speech interface to it , you do n't even need to find it . You just say you know , um whatever you whatever you want the remote for , you know to change the channel or to uh turn the T_V_ on and off , you just shout your command to it and it would do it for you if it 's within you know , within hearing range . And uh you know it could be somewhere in the room y that you 've no idea where it is and it would still do its job . Uh-huh . That could also be built into the T_V_ though , which might make our remote control a bit obsolete . { vocalsound } Yeah . Well , hopefully we 're uh we 're ahead of the curve . { vocalsound } { vocalsound } It might do us out of a job . Yeah , okay . { vocalsound } Um { disfmarker } Okay . { vocalsound } I like the whole sort of remote feedback thing . Um so I think rather than { disfmarker } and that also kind of takes out the speech recognition in terms of the interference of it not working very well and things like that , Mm . Hmm . so I th And the expense . yeah and expense and the time . Mm-hmm . So I think if we 're going to go { disfmarker } well I mean like the thing about the { disfmarker } there 's the problem with the T_F_T_ or the L_C_D_ kind of thing is if you 're also wanting the the kind of uh organic globby sort of feeling to it then you might have trouble incorporating the screen . Mm . Um , but I guess not I thin we 'll just we 'll just pretend that 's not a problem . Um { vocalsound } { vocalsound } uh { vocalsound } and how are you about the glow in the dark material ? Is that { disfmarker } Um . Maybe not even all of it 'cause we said\", \"um colours and fashion w were important so maybe um just like a little l line that 's kind of around the outside and then you can make the rest a different colour . Mm . Contrast contra well . Yeah , no th the material 's cheap but it 's just uh the the glow in the dark material needs some light to charge it you know , and then uh if you 're , if you 're sitting in the dark for too long it uh it wo n't glow any more . Yeah , okay . Mm-hmm . So if it 's dow it 's d uh yeah . Or if it 's down under the couch cushions Right . um which is where I usually find mine . Mm-hmm . Right . Um { vocalsound } { disfmarker } Okay , well we can use { disfmarker } we can still use the glow in the dark as a gimmick essentially , Yeah , um if we 're gon na have to { disfmarker } 'cause what I thought , main { disfmarker } if we 're gon na have the logo on as well , bright yellow logo in our our um slogan . Slogan , yeah . Uh then you know they 're gon na be fairly brightly coloured anyway , and we can have sort of a a a trimming as well , of the glow in the dark material , just as gimmickyness . Right . Mm-hmm . 'Cause yeah , that w more than finding it , that was more like you know if you 're watching a film in the dark , you can um still see the remote control . Mm-hmm . Mm-hmm . Alright , so n sorta if if if we 're gon if we 're gon na go with the idea of um { vocalsound } uh of feedback , sort of remote finder , then that kinda stuffs that one out then . That was more of a a gimmick . Do you think ? Mm . Uh it makes it fairly unnecessary then . Yeah , unnecessary . Yeah . Okay . Um , okay so scratch that . Uh so we 've got do we want to go with the T_F_T_ idea or the { disfmarker } is that far too expensive ? { vocalsound } Um yeah we 're getting a lot of features now , I I think { disfmarker } { vocalsound } Well I mean I think I think the sort of find the finder things I mean it 's uh I could probably write the circuit diagram for that myself . Yeah . Um { disfmarker } Well , I think a consideration too is that these uh remotes get abused a lot ,\", \"you know they get thrown around , Mm . there 's a good chance the the T_F_T_ screen would break or uh get damaged . Mm-hmm . They 're pretty fragile . Okay . So is that one of our definite requirements that they wa that it needs a T_F_T_ screen ? Um no , I mean { gap } that was going on ravs uh Raj 's sort of um marketing research I guess . Um { vocalsound } { disfmarker } Uh { disfmarker } So we 'll stick with sort of programmability um for the buttons that we do have . Um . { gap } So that 's sort of included in your sub-module kind of stuff , um { disfmarker } Yeah mm . { vocalsound } Uh { vocalsound } you were finding out about teletext . Yeah . If you could find out that uh { disfmarker } Totally , it takes cheap speech recognition , she { disfmarker } they wi Um I think we 're gon na scratch the speech recognition as a bit of a Oh . um expensive , Yeah you think so ? Oh no it 's it 's much cheaper than the T_F_T_ , it 's just a microphone and some some integrated circuits . no ? Oh right , okay . And it 'd it 'd be a small vocabulary speech recognition system , Is it not the circuits that cost { disfmarker } like a { disfmarker } Oh right , okay . { gap } Uh well that kind of takes back the R_F_ { vocalsound } the R_F_ remote sort of idea as well . Okay . { vocalsound } { vocalsound } Um . { vocalsound } Five minutes . Okay . Decisions . Uh , votes , let 's vote . Who wants T_F_T_ ? { vocalsound } No-one does . { vocalsound } Excellent , so we 'll go with speech recognition , yeah ? Okay . Yeah . Mm-hmm , that 's cool . Um , speech recognition , limited buttons , organic design . And what else was I thinking of that I have n't written down and therefore fallen out my head , Um programmability . Glow in dark . Uh { disfmarker } if it 's not too expensive s I think it 's a good gimmick . { vocalsound } Uh o okay . Yeah . { gap } And also , integrating the , remember to integrate the logo and the s slogan . { vocalsound } Mm-hmm . Okay , so . Um can you put all these reports in the project documents folder if they 're not already in there as well . So , it just helps me summarize them . Yeah yeah . Here ? Sure . { vocalsound } And um I 'll put any { disfmarker } { gap } I 'm I 'm putting anything I do in there anyway , so uh { disfmarker } And where is it sorry ? Uh pro uh project documents . { vocalsound } So it should be when you save On A_M_I_ scenario controller . on your desktop , so it goes save as , or { disfmarker } Oh { gap } . Uh it is in shared documents ? And then uh hit that little folder up thing again . Where am I ? Projoct uh projector . Again . Project documents , yeah , it 's on your desktop as well . All the way to the top , yeah that 's up to desktop . Right and then project documents . Okay , cool . Hmm . It is not giving anything . { vocalsound } Shared documents . And I will tr { gap } getting strings of um information ,\", \"I 'll try and forward any specific to anybody in particular , as soon as I get them now , rather than { disfmarker } { gap } I was about to sort of tell you about the changes before the meeting , and then the meeting turned up , so { disfmarker } { vocalsound } Okay . Mm . Did you get my email ? Okay . I did { gap } . { vocalsound } { vocalsound } Just making sure . { vocalsound } { vocalsound } Okay . So { disfmarker } { vocalsound } What I thought as well about the material is um maybe not this kind of material , but maybe more like um this kind of rubbery material , it 's a bit more bouncy , like you said they get chucked around a lot . Um , a bit more { vocalsound } durable and that can also be ergonomic Okay . and it kind of feels a bit different from all the other remote controls . { vocalsound } Yeah . Yeah . The rubber rather than { disfmarker } More sort of um flesh-like than plasticky sort of . Mm-hmm , mm-hmm . Wow . Um but we have to take care like { disfmarker } { vocalsound } { vocalsound } { vocalsound } But we have to take care of our children also if they { disfmarker } { vocalsound } means if children catch hold of your or if they chew it it should n't be too harmful . So , whatever material we use it should be { disfmarker } yeah . Oh no , ethics , { vocalsound } that 's gon na cost us money . { vocalsound } { vocalsound } So { vocalsound } we have to safety point of view also , we have to take care . { vocalsound } Okay , safety . { gap } Oh I think wi with the more organic shape of it it wo n't be as { disfmarker } it wo n't as have many sharp corners as that , so that 's something good , um { disfmarker } Yeah . I dunno , I mean { disfmarker } We could go comp yeah . It sme { vocalsound } smells good for children . { vocalsound } { vocalsound } We could go completely out of the box and make the thing a big red ball foam ball . Yeah . And it 's got the thing on the inside . { vocalsound } { vocalsound } And there 's no buttons at all , it 's always on , and just yell at it , and it works . { vocalsound } { vocalsound } That sounds , That 's a good idea . And then ch children will love it . { vocalsound } yeah it 's gon na have to be it 's gon na be have a big yellow foam ball , yeah , sorry . { vocalsound } Interesting . Oh yellow , yellow ball . Right . Yeah , d with the colour , um does it have to be all yellow , do you know ? Please God no . Um . Well , I would n't th I mean , No . my reaction to an all-yellow remote control would n't be anything other than horror , so I think just having it Yeah . Small logo with the like a small yellow strip or y yellow { gap } with the logo in it . surrounding the logo . Having a little bit . Okay cool . Mm mm . Yeah . Mm-hmm , okay . And I 'll see\", 'if I can argue with boss about putting the { disfmarker } Cool .', \"what was it ? We put { vocalsound } we put fashion into { disfmarker } Whoops , it 's not working . Ca n't believe I 've forgotten it { gap } . We put the fashion in electronics . { vocalsound } I bet that 'll catch on well . Oh yeah , that 's a good one that . Yeah so . { vocalsound } Okay , any last Yeah . { vocalsound } Twelve thirty . worries , queries ? Okay . { vocalsound } { vocalsound } S s { vocalsound } Hmm . I know what you 're thinking . { vocalsound } { vocalsound } { vocalsound } { vocalsound } Okay then , lunchtime , yay . That 's good . Okay , that felt a bit more like a { disfmarker } something with order and and reason to it than the last one . { vocalsound } { vocalsound } This is quite fun actually . Wow . Mm . Has anybo oh . I really do n't { disfmarker } Has anybody pressed okay , it vibrates . It 's pretty cool . Yeah , yeah . Yep . Check here . Wow you 've { gap } your first page . { vocalsound } Yeah\", \"I 've been using up the pages .\", 'I was just writing really big . { vocalsound } { vocalsound } Yeah , got small writing .', \"I do n't wan na waste it .\", \"I 've finished the meeting now . { vocalsound } Another questionnaire . Oh , everybody needs k questionnaire . { vocalsound }\"]\n"
          ],
          "name": "stdout"
        }
      ]
    },
    {
      "cell_type": "code",
      "metadata": {
        "id": "xyETvpozSrD5"
      },
      "source": [
        "f = open(\"/content/test/segmented_SegBot_QmSum.txt\",\"w\")\n",
        "\n",
        "new_segment = \"\\n\\n\" + (\"=\")*50 + \"\\n\\n\"\n",
        "# print(new_segment)\n",
        "for segment in output_seg:\n",
        "  f.write(new_segment)\n",
        "  f.write(segment)\n",
        "\n",
        "f.close()"
      ],
      "execution_count": null,
      "outputs": []
    },
    {
      "cell_type": "markdown",
      "metadata": {
        "id": "XmDz8aJkgRH4"
      },
      "source": [
        "Bert"
      ]
    },
    {
      "cell_type": "code",
      "metadata": {
        "colab": {
          "base_uri": "https://localhost:8080/"
        },
        "id": "sQp0s1-jgQwd",
        "outputId": "723bb15f-fed5-48d5-e229-c7cdd89a6de5"
      },
      "source": [
        "!git clone https://github.com/YangchenHuang/Meeting_Summarization.git"
      ],
      "execution_count": null,
      "outputs": [
        {
          "output_type": "stream",
          "text": [
            "Cloning into 'Meeting_Summarization'...\n",
            "remote: Enumerating objects: 554, done.\u001b[K\n",
            "remote: Counting objects: 100% (554/554), done.\u001b[K\n",
            "remote: Compressing objects: 100% (470/470), done.\u001b[K\n",
            "remote: Total 554 (delta 118), reused 511 (delta 78), pack-reused 0\u001b[K\n",
            "Receiving objects: 100% (554/554), 1.89 MiB | 21.50 MiB/s, done.\n",
            "Resolving deltas: 100% (118/118), done.\n"
          ],
          "name": "stdout"
        }
      ]
    },
    {
      "cell_type": "code",
      "metadata": {
        "colab": {
          "base_uri": "https://localhost:8080/"
        },
        "id": "_cSixbKQJj5-",
        "outputId": "8178401a-c8cb-4643-81e8-e66b55f4763b"
      },
      "source": [
        "%cd Meeting_Summarization/Preprocessing/"
      ],
      "execution_count": null,
      "outputs": [
        {
          "output_type": "stream",
          "text": [
            "/content/Meeting_Summarization/Preprocessing\n"
          ],
          "name": "stdout"
        }
      ]
    },
    {
      "cell_type": "code",
      "metadata": {
        "colab": {
          "background_save": true,
          "base_uri": "https://localhost:8080/"
        },
        "id": "SOcFyOE1M2rF",
        "outputId": "33cf091f-0e80-46d9-f3f3-6166ab797695"
      },
      "source": [
        "!git clone https://github.com/ELITR/automin-2021.git"
      ],
      "execution_count": null,
      "outputs": [
        {
          "output_type": "stream",
          "text": [
            "fatal: destination path 'automin-2021' already exists and is not an empty directory.\n"
          ],
          "name": "stdout"
        }
      ]
    },
    {
      "cell_type": "code",
      "metadata": {
        "colab": {
          "base_uri": "https://localhost:8080/"
        },
        "id": "hbEeQqrlgrPC",
        "outputId": "c9e24055-9e4d-4935-918a-19640fb2f3dd"
      },
      "source": [
        "!python main_topic_segementation.py -mode txt"
      ],
      "execution_count": null,
      "outputs": [
        {
          "output_type": "stream",
          "text": [
            "0\n",
            "200 utterances\n"
          ],
          "name": "stdout"
        }
      ]
    },
    {
      "cell_type": "code",
      "metadata": {
        "colab": {
          "base_uri": "https://localhost:8080/"
        },
        "id": "ZYGnV9YshBry",
        "outputId": "4b4fbe37-50d6-48b0-e2de-f5127eb548e9"
      },
      "source": [
        "!zip -r /content/file.zip /content/data"
      ],
      "execution_count": null,
      "outputs": [
        {
          "output_type": "stream",
          "text": [
            "  adding: content/data/ (stored 0%)\n",
            "  adding: content/data/text/ (stored 0%)\n",
            "  adding: content/data/text/test/ (stored 0%)\n",
            "  adding: content/data/text/test/0.10.story (deflated 52%)\n",
            "  adding: content/data/text/test/0.7.story (deflated 57%)\n",
            "  adding: content/data/text/test/0.1.story (deflated 53%)\n",
            "  adding: content/data/text/test/0.18.story (deflated 54%)\n",
            "  adding: content/data/text/test/0.15.story (deflated 56%)\n",
            "  adding: content/data/text/test/0.3.story (deflated 57%)\n",
            "  adding: content/data/text/test/0.6.story (deflated 54%)\n",
            "  adding: content/data/text/test/0.11.story (deflated 53%)\n",
            "  adding: content/data/text/test/0.0.story (deflated 55%)\n",
            "  adding: content/data/text/test/0.2.story (deflated 51%)\n",
            "  adding: content/data/text/test/0.13.story (deflated 51%)\n",
            "  adding: content/data/text/test/0.19.story (deflated 51%)\n",
            "  adding: content/data/text/test/0.16.story (deflated 53%)\n",
            "  adding: content/data/text/test/0.12.story (deflated 49%)\n",
            "  adding: content/data/text/test/0.8.story (deflated 56%)\n",
            "  adding: content/data/text/test/0.5.story (deflated 53%)\n",
            "  adding: content/data/text/test/0.9.story (deflated 60%)\n",
            "  adding: content/data/text/test/0.17.story (deflated 56%)\n",
            "  adding: content/data/text/test/0.4.story (deflated 51%)\n",
            "  adding: content/data/text/test/0.14.story (deflated 49%)\n",
            "  adding: content/data/index/ (stored 0%)\n",
            "  adding: content/data/index/test/ (stored 0%)\n",
            "  adding: content/data/index/test/0.10.index (deflated 18%)\n",
            "  adding: content/data/index/test/0.4.index (deflated 15%)\n",
            "  adding: content/data/index/test/0.13.index (deflated 15%)\n",
            "  adding: content/data/index/test/0.1.index (deflated 3%)\n",
            "  adding: content/data/index/test/0.17.index (deflated 13%)\n",
            "  adding: content/data/index/test/0.7.index (deflated 9%)\n",
            "  adding: content/data/index/test/0.2.index (deflated 6%)\n",
            "  adding: content/data/index/test/0.16.index (deflated 10%)\n",
            "  adding: content/data/index/test/0.8.index (deflated 8%)\n",
            "  adding: content/data/index/test/0.6.index (deflated 6%)\n",
            "  adding: content/data/index/test/0.12.index (deflated 13%)\n",
            "  adding: content/data/index/test/0.19.index (deflated 8%)\n",
            "  adding: content/data/index/test/0.18.index (deflated 10%)\n",
            "  adding: content/data/index/test/0.15.index (deflated 10%)\n",
            "  adding: content/data/index/test/0.11.index (deflated 5%)\n",
            "  adding: content/data/index/test/0.9.index (deflated 8%)\n",
            "  adding: content/data/index/test/0.0.index (deflated 3%)\n",
            "  adding: content/data/index/test/0.14.index (deflated 10%)\n",
            "  adding: content/data/index/test/0.3.index (deflated 3%)\n",
            "  adding: content/data/index/test/0.5.index (deflated 8%)\n"
          ],
          "name": "stdout"
        }
      ]
    }
  ]
}